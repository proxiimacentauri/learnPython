{
 "cells": [
  {
   "cell_type": "markdown",
   "metadata": {},
   "source": [
    "## Binary Files\n"
   ]
  },
  {
   "cell_type": "markdown",
   "metadata": {},
   "source": [
    "There is a specialised class that python uses to store **amorphous data**. `Amorphous Data` is data which has no specific shape or form they are just a series of bytes. \n",
    "\n",
    "\n",
    "* This type of data cant be store dusing any of the previous means (lists, strings) there is a special container called a **bytearray** its an array containing amorphous bytes.\n",
    "\n",
    "\n",
    "* We need it for example to read a **bitmap image** you can create this container using a constructor."
   ]
  },
  {
   "cell_type": "code",
   "execution_count": 5,
   "metadata": {
    "scrolled": true
   },
   "outputs": [
    {
     "name": "stdout",
     "output_type": "stream",
     "text": [
      "bytearray(b'\\x00\\x00\\x00')\n",
      "<class 'bytearray'>\n"
     ]
    }
   ],
   "source": [
    "data = bytearray(3)    # IT stores 10 bytes and filled with zeros\n",
    "print(data)\n",
    "print(type(data))"
   ]
  },
  {
   "cell_type": "markdown",
   "metadata": {},
   "source": [
    "### Properties"
   ]
  },
  {
   "cell_type": "markdown",
   "metadata": {},
   "source": [
    "* They are **mutable**\n",
    "\n",
    "\n",
    "* They can be accessed using the normal indexing methods as discussed previously.\n",
    "\n",
    "\n",
    "\n",
    "* Important `limitation` is that you should not set any byte array elements with a value **which is not an integer** otherwise it will cause `TypeError` execpetion\n",
    "\n",
    "\n",
    "* The range of values you can assign it is `0 to 255` other wise a `ValueError` is provoked."
   ]
  },
  {
   "cell_type": "code",
   "execution_count": 10,
   "metadata": {
    "scrolled": true
   },
   "outputs": [
    {
     "name": "stdout",
     "output_type": "stream",
     "text": [
      "bytearray(b'\\x7f~}|{zyxwv')\n",
      "0x7f\n",
      "0x7e\n",
      "0x7d\n",
      "0x7c\n",
      "0x7b\n",
      "0x7a\n",
      "0x79\n",
      "0x78\n",
      "0x77\n",
      "0x76\n"
     ]
    }
   ],
   "source": [
    "data = bytearray(10)\n",
    "\n",
    "for i in range(len(data)):\n",
    "    data[i] = 127 - i #data = [10,9,8,7..1]\n",
    "print(data)\n",
    "for b in data:\n",
    "    print(hex(b))"
   ]
  },
  {
   "cell_type": "markdown",
   "metadata": {},
   "source": [
    "#### Writing to the Binary Stream\n",
    "\n",
    "`write()` method takes the argument and sends it as whole to the file."
   ]
  },
  {
   "cell_type": "code",
   "execution_count": 13,
   "metadata": {},
   "outputs": [
    {
     "name": "stdout",
     "output_type": "stream",
     "text": [
      "bytearray(b'zyxwvutsrq')\n"
     ]
    }
   ],
   "source": [
    "from os import strerror\n",
    "\n",
    "data = bytearray(10)\n",
    "data1 = bytearray(10)\n",
    "\n",
    "for i in range(len(data)):\n",
    "    data[i]=10-i             ## The 10 is ASCII\n",
    "    data1[i]=ord(\"z\")-i      # data1= [z,y,x,w,v,u,t,s,r,q]\n",
    "    \n",
    "    \n",
    "try:\n",
    "    aa = open(\"ak.bin\", \"wb\")\n",
    "    aa.write(data)\n",
    "    aa.write(data1)\n",
    "    print(data1)\n",
    "    aa.close()\n",
    "    \n",
    "except IOError as e:\n",
    "    print(\"\\n I/O error is occured\", strerror(e.errno))\n",
    "    \n",
    "    \n"
   ]
  },
  {
   "cell_type": "markdown",
   "metadata": {},
   "source": [
    "#### Reading from a Binary Stream\n",
    "\n",
    "To read from a binary we use a special method called `readinto()`\n",
    "\n",
    "\n",
    "* It returns the number of successfully read bytes \n",
    "\n",
    "* You have to provide an EMPTY container of the type bytearray() to readinto it."
   ]
  },
  {
   "cell_type": "markdown",
   "metadata": {},
   "source": [
    "#### `readinto()`"
   ]
  },
  {
   "cell_type": "code",
   "execution_count": 17,
   "metadata": {},
   "outputs": [
    {
     "name": "stdout",
     "output_type": "stream",
     "text": [
      "\n",
      "\t\b\u0007\u0006\u0005\u0004\u0003\u0002\u0001zyxwvutsrq\u0000\u0000\u0000\u0000\u0000\u0000\u0000\u0000\u0000\u0000"
     ]
    }
   ],
   "source": [
    "from os import strerror\n",
    "\n",
    "empty_set = bytearray(30)\n",
    "\n",
    "try:\n",
    "    ab = open(\"ak.bin\", \"rb\")\n",
    "    ab.readinto(empty_set)\n",
    "    #ab.readinto(bytearray(100))\n",
    "    ab.close()\n",
    "    \n",
    "    for data in empty_set:\n",
    "        print(chr(data), end=\"\")\n",
    "    \n",
    "    \n",
    "except IOError as e:\n",
    "    print(\"\\n Error is\", strerror(e.errno))"
   ]
  },
  {
   "cell_type": "markdown",
   "metadata": {},
   "source": [
    "#### `read()`"
   ]
  },
  {
   "cell_type": "code",
   "execution_count": 1,
   "metadata": {
    "scrolled": true
   },
   "outputs": [
    {
     "name": "stdout",
     "output_type": "stream",
     "text": [
      "\n",
      "\t\b\u0007\u0006\u0005\u0004\u0003\u0002\u0001zyxwvutsrq"
     ]
    }
   ],
   "source": [
    "from os import strerror\n",
    "\n",
    "try:\n",
    "    vv = open(\"ak.bin\", \"rb\")\n",
    "    data20 = bytearray(vv.read())\n",
    "    data2 = bytearray(vv.read(5)) ## In the read argumen you can specify the no of bytes you can read\n",
    "    vv.close()\n",
    "\n",
    "    for j in data20:\n",
    "        print(chr(j), end=\"\")\n",
    "\n",
    "    \n",
    "    for i in data2:\n",
    "        print(chr(i), end=\" \")\n",
    "    \n",
    "    \n",
    "except IOError as e:\n",
    "    print(\"\\n Error is \", strerror(e.errorno))"
   ]
  },
  {
   "cell_type": "markdown",
   "metadata": {},
   "source": [
    "#### Copying Binary Files\n"
   ]
  },
  {
   "cell_type": "code",
   "execution_count": 4,
   "metadata": {},
   "outputs": [
    {
     "name": "stdout",
     "output_type": "stream",
     "text": [
      "20 byte(s) succesfully written\n"
     ]
    }
   ],
   "source": [
    "from os import strerror\n",
    "\n",
    "src = open(\"kk.bin\", 'rb')\n",
    "dst = open(\"kk_copy.bin\", 'wb')\n",
    "buffer = bytearray(65536)\n",
    "total  = 0\n",
    "\n",
    "readin = src.readinto(buffer)\n",
    "\n",
    "while readin > 0:\n",
    "    written = dst.write(buffer[:readin])\n",
    "    total += written\n",
    "    readin = src.readinto(buffer)\n",
    "\n",
    "print(total,'byte(s) succesfully written')\n",
    "src.close()\n",
    "dst.close()\n"
   ]
  }
 ],
 "metadata": {
  "kernelspec": {
   "display_name": "Python 3",
   "language": "python",
   "name": "python3"
  },
  "language_info": {
   "codemirror_mode": {
    "name": "ipython",
    "version": 3
   },
   "file_extension": ".py",
   "mimetype": "text/x-python",
   "name": "python",
   "nbconvert_exporter": "python",
   "pygments_lexer": "ipython3",
   "version": "3.7.6"
  }
 },
 "nbformat": 4,
 "nbformat_minor": 4
}
