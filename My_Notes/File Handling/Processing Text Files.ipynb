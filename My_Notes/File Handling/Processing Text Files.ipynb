{
 "cells": [
  {
   "cell_type": "markdown",
   "metadata": {},
   "source": [
    "## Processing Text Files"
   ]
  },
  {
   "cell_type": "markdown",
   "metadata": {},
   "source": [
    "#### `read()`"
   ]
  },
  {
   "cell_type": "code",
   "execution_count": null,
   "metadata": {},
   "outputs": [],
   "source": [
    "file_content = open(\"tzop.txt\", \"rt\", encoding=\"utf-8\")\n",
    "\n",
    "print(file_content.read())"
   ]
  },
  {
   "cell_type": "code",
   "execution_count": 19,
   "metadata": {},
   "outputs": [
    {
     "name": "stdout",
     "output_type": "stream",
     "text": [
      "I/O error has occured No such file or directory\n"
     ]
    }
   ],
   "source": [
    "from os import strerror\n",
    "\n",
    "try:\n",
    "    flag=0\n",
    "    file_content=open(\"sample.txt\", \"rt\", encoding=\"utf-8\")\n",
    "    first_char = file_content.read(1) # (1)=B  (2)=Be (10)=Beautiful \n",
    "    while first_char != '':\n",
    "        print(first_char, end='')\n",
    "        flag+=1\n",
    "        first_char = file_content.read(1)\n",
    "    file_content.close()\n",
    "    print(\"\\n Chars in the file: \", flag)\n",
    "    \n",
    "except IOError as e:\n",
    "    print(\"I/O error has occured\", strerror(e.errno))"
   ]
  },
  {
   "cell_type": "code",
   "execution_count": null,
   "metadata": {
    "scrolled": true
   },
   "outputs": [],
   "source": [
    "from os import strerror\n",
    "\n",
    "try:\n",
    "    flag=0\n",
    "    file_content=open(\"sample.txt\", \"rt\", encoding=\"utf-8\")\n",
    "    content = file_content.read()\n",
    "    for ch in  content:\n",
    "        print(ch, end='')\n",
    "        flag+=1\n",
    "        \n",
    "    file_content.close()\n",
    "    print(\"\\n Chars in the file: \", flag)\n",
    "    \n",
    "except IOError as e:\n",
    "    print(\"I/O error has occured\", strerror(e.errno))"
   ]
  },
  {
   "cell_type": "code",
   "execution_count": 31,
   "metadata": {},
   "outputs": [
    {
     "name": "stdout",
     "output_type": "stream",
     "text": [
      "['Akshay\\n', 'Dandgaval\\n', 'Aishwarya']\n"
     ]
    }
   ],
   "source": [
    "m=open('b.txt','r')\n",
    "print(m.readlines(0))"
   ]
  },
  {
   "cell_type": "markdown",
   "metadata": {},
   "source": [
    "#### `readline()`\n",
    "\n",
    "It tries to read a **complete line of text from the file**, and returns it as a string in the case of success. Otherwise, it returns an empty string.\n",
    "\n",
    "\n",
    "The default parameter is `-1` which returns all the lines. **If we specify a parameter bytes are read from the file**"
   ]
  },
  {
   "cell_type": "code",
   "execution_count": null,
   "metadata": {},
   "outputs": [],
   "source": [
    "file_content = open(\"sample..txt\", \"rt\", encoding=\"utf-8\")\n",
    "lines = file_content.readline() # Reads 1 by one\n",
    "print(lines)\n",
    "lines = file_content.readline() # Reads 1 by one\n",
    "print(lines)"
   ]
  },
  {
   "cell_type": "code",
   "execution_count": null,
   "metadata": {},
   "outputs": [],
   "source": [
    "from os import strerror\n",
    "\n",
    "try:\n",
    "    flag=l=0\n",
    "    file_content=open(\"sample..txt\", \"rt\", encoding=\"utf-8\")\n",
    "    content = file_content.readline()\n",
    "\n",
    "    for line in content:\n",
    "        \n",
    "        l+=1\n",
    "        for ch in  content:\n",
    "            print(ch, end='')\n",
    "            flag+=1\n",
    "        content = file_content.readline()\n",
    "        \n",
    "    file_content.close()\n",
    "    print(\"\\n Chars in the file: \", flag)\n",
    "    print(\"\\n Lines in the file: \", l)\n",
    "    \n",
    "except IOError as e:\n",
    "    print(\"I/O error has occured\", strerror(e.errno))"
   ]
  },
  {
   "cell_type": "markdown",
   "metadata": {},
   "source": [
    "#### `readlines()`\n",
    "\n",
    "When invoked **without arguments**, tries to **read all the file contents, and returns a list of strings**, one element per file line.\n",
    "\n",
    "\n",
    "The default parameter is `-1` which returns all the lines. **If we specify a parameter bytes are read from the file**"
   ]
  },
  {
   "cell_type": "code",
   "execution_count": null,
   "metadata": {},
   "outputs": [],
   "source": [
    "file_content = open(\"sample..txt\", \"rt\", encoding=\"utf-8\")\n",
    "lines = file_content.readlines(50) # 50 is hte no of bytes its willing to read\n",
    "print(lines)"
   ]
  },
  {
   "cell_type": "code",
   "execution_count": 1,
   "metadata": {
    "scrolled": false
   },
   "outputs": [
    {
     "name": "stdout",
     "output_type": "stream",
     "text": [
      "Beautiful is better than ugly.\n",
      "Explicit is better than implicit.\n",
      "Simple is better than complex.\n",
      "Complex is better than complicated.\n",
      " Chars in the file:  131\n",
      "\n",
      " Lines in the file:  4\n"
     ]
    }
   ],
   "source": [
    "from os import strerror\n",
    "\n",
    "try:\n",
    "    ch_count = line_count = 0\n",
    "    file_content = open(\"sample..txt\", \"rt\", encoding=\"utf-8\")\n",
    "    lines = file_content.readlines()\n",
    "    while len(lines) != 0:\n",
    "        for l in lines:\n",
    "            line_count+=1\n",
    "            for ch in l:\n",
    "                print(ch, end='')\n",
    "                ch_count+=1\n",
    "        lines = file_content.readlines()\n",
    "        \n",
    "    file_content.close()\n",
    "\n",
    "    print(\"\\n Chars in the file: \", ch_count)\n",
    "    print(\"\\n Lines in the file: \", line_count)\n",
    "    \n",
    "except IOError as e:\n",
    "    print(\"I/O error has occured\", strerror(e.errno))"
   ]
  },
  {
   "cell_type": "markdown",
   "metadata": {},
   "source": [
    "#### `open()`\n",
    "\n",
    "Directly using the `open()` to count the lines and chars\n",
    "\n",
    "\n",
    "**Moreover, you can expect that the object automatically invokes close() when any of the file reads reaches the end of the file.**\n",
    "\n"
   ]
  },
  {
   "cell_type": "code",
   "execution_count": 3,
   "metadata": {
    "scrolled": true
   },
   "outputs": [
    {
     "name": "stdout",
     "output_type": "stream",
     "text": [
      "\n",
      " Chars in the file:  131\n",
      "\n",
      " Lines in the file:  4\n"
     ]
    }
   ],
   "source": [
    "from os import strerror\n",
    "\n",
    "try:\n",
    "    ch_count = line_count = 0\n",
    "    file_content = open(\"sample..txt\", \"rt\", encoding=\"utf-8\")\n",
    "    \n",
    "    for lines in file_content:\n",
    "            line_count+=1\n",
    "            for ch in lines:\n",
    "                ch_count+=1\n",
    "    print(\"\\n Chars in the file: \", ch_count)\n",
    "    print(\"\\n Lines in the file: \", line_count)\n",
    "    \n",
    "except IOError as e:\n",
    "    print(\"I/O error has occured\", strerror(e.errno))"
   ]
  },
  {
   "cell_type": "code",
   "execution_count": 32,
   "metadata": {},
   "outputs": [
    {
     "name": "stdout",
     "output_type": "stream",
     "text": [
      "Akshay\n",
      "\n",
      "Dandgaval\n",
      "\n",
      "Aishwarya\n"
     ]
    }
   ],
   "source": [
    "m=open('b.txt','r')\n",
    "for a in m:\n",
    "    print(a)"
   ]
  },
  {
   "cell_type": "markdown",
   "metadata": {},
   "source": [
    "#### `write()`\n",
    "\n",
    "`write()`expects a single argument = A string that will be transferred to an open file.\n",
    "\n",
    "* Writing a file opened in read mode won't succeed.\n",
    "\n",
    "* No newline characters are added, we have to add it yourself if we want the file to be filled with a number of lines.\n",
    "\n",
    "* \n"
   ]
  },
  {
   "cell_type": "code",
   "execution_count": 11,
   "metadata": {
    "code_folding": [
     8
    ]
   },
   "outputs": [],
   "source": [
    "from os import strerror\n",
    "\n",
    "try:\n",
    "    fo = open('newtext.txt', 'wt') # A new file (newtext.txt) is created.\n",
    "    for i in range(10):\n",
    "        s = \"line #\" + str(i+1) + \"\\n\"\n",
    "        fo.write(s)\n",
    "    fo.close()\n",
    "except IOError as e:\n",
    "    print(\"I/O error occurred: \", strerror(e.errno))\n"
   ]
  },
  {
   "cell_type": "markdown",
   "metadata": {},
   "source": [
    "If you want to write to `stderr` stream we can do that as well:"
   ]
  },
  {
   "cell_type": "code",
   "execution_count": 18,
   "metadata": {},
   "outputs": [
    {
     "name": "stdout",
     "output_type": "stream",
     "text": [
      "Akshay Dandgaval"
     ]
    },
    {
     "name": "stderr",
     "output_type": "stream",
     "text": [
      "Akshay Dandgaval"
     ]
    }
   ],
   "source": [
    "import sys\n",
    "sys.stderr.write(\"Akshay Dandgaval\")\n",
    "sys.stdout.write(\"Akshay Dandgaval\") \n",
    "#sys.stdin.write(\"Akshay Dandgaval\") # This is not allowed"
   ]
  }
 ],
 "metadata": {
  "kernelspec": {
   "display_name": "Python 3",
   "language": "python",
   "name": "python3"
  },
  "language_info": {
   "codemirror_mode": {
    "name": "ipython",
    "version": 3
   },
   "file_extension": ".py",
   "mimetype": "text/x-python",
   "name": "python",
   "nbconvert_exporter": "python",
   "pygments_lexer": "ipython3",
   "version": "3.7.6"
  }
 },
 "nbformat": 4,
 "nbformat_minor": 4
}
