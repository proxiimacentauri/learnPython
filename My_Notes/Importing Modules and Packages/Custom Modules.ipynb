{
 "cells": [
  {
   "cell_type": "markdown",
   "metadata": {},
   "source": [
    "## Custom Modules"
   ]
  },
  {
   "cell_type": "markdown",
   "metadata": {},
   "source": [
    "* A module is a kind of container filled with functions - you can pack as many functions as you want into one module and distribute it across the world\n",
    "\n",
    "* Package; in the world of modules, a package plays a similar role to a folder/directory in the world of files\n",
    "\n",
    "* We are creating 2 `.py` files `module.py` and `main.py` which are both located in the same folder."
   ]
  },
  {
   "cell_type": "markdown",
   "metadata": {},
   "source": [
    "`module_ak.py`"
   ]
  },
  {
   "cell_type": "code",
   "execution_count": 1,
   "metadata": {},
   "outputs": [
    {
     "name": "stdout",
     "output_type": "stream",
     "text": [
      "Akshay\n"
     ]
    }
   ],
   "source": [
    "print(\"Akshay\")"
   ]
  },
  {
   "cell_type": "markdown",
   "metadata": {},
   "source": [
    "`main.py`"
   ]
  },
  {
   "cell_type": "code",
   "execution_count": 2,
   "metadata": {
    "scrolled": true
   },
   "outputs": [
    {
     "name": "stdout",
     "output_type": "stream",
     "text": [
      "I like to be a module.\n"
     ]
    }
   ],
   "source": [
    "import module_ak"
   ]
  },
  {
   "cell_type": "markdown",
   "metadata": {},
   "source": [
    "#### A new Sub-Folder in the same directory\n",
    "\n",
    "* `__pycache__`: Will be created when you import the module.py from main.py\n",
    "* `<modulename>.cpython-xy.pyc`: where `x` and `y` are digits of python version\n",
    "* `CPython`: Python implementation has vreated the file CPython here and its version number\n",
    "* `pyc`: comes from **Python** and **compiled**, it contains compiled python code.\n",
    "\n",
    "**The file doesn't contain machine code - it's internal Python semi-compiled code, ready to be executed by Python's interpreter.**"
   ]
  },
  {
   "cell_type": "markdown",
   "metadata": {},
   "source": [
    "#### Execution\n",
    "\n",
    "* When a module is imported it is `implicitly executed by Python`, it give the module a chance to **initialize** some of its internal aspects. \n",
    "\n",
    "Imagine the following context:\n",
    "\n",
    "* Module named `mod1`\n",
    "* Module named `mod2` which contains the `import mod1` instruction;\n",
    "* Main file containing the `import mod1` and `import mod2` instructions.\n",
    "<br><br>\n",
    "**At first glance, you may think that mod1 will be imported twice - fortunately, only the first import occurs.**"
   ]
  },
  {
   "cell_type": "markdown",
   "metadata": {},
   "source": [
    "#### \\_\\_name\\_\\_ and \\_\\_main\\_\\_\n",
    "\n",
    "* Each source file uses its own, separate version of the variable - it isn't shared between modules.\n",
    "* When you run a file directly, its `__name__` variable is set to `__main__`\n",
    "* When a file is imported as a module, its `__name__ = file's name (excluding .py)`\n"
   ]
  },
  {
   "cell_type": "markdown",
   "metadata": {},
   "source": [
    "`module_ak.py`"
   ]
  },
  {
   "cell_type": "code",
   "execution_count": null,
   "metadata": {},
   "outputs": [],
   "source": [
    "print(\"Akshay\")\n",
    "print(__name__)"
   ]
  },
  {
   "cell_type": "markdown",
   "metadata": {},
   "source": [
    "`main.py`"
   ]
  },
  {
   "cell_type": "code",
   "execution_count": null,
   "metadata": {
    "scrolled": true
   },
   "outputs": [],
   "source": [
    "import module_ak\n",
    "\n",
    "## It wil print\n",
    "# Akshay\n",
    "# module_ak"
   ]
  },
  {
   "cell_type": "markdown",
   "metadata": {},
   "source": [
    "If a module is filled with functions and you can use below to place a series of test to check if the funcitons work peroperly"
   ]
  },
  {
   "cell_type": "code",
   "execution_count": null,
   "metadata": {},
   "outputs": [],
   "source": [
    "if __name__ == \"__main__\":\n",
    "    print(\"I prefer to be a module.\")\n",
    "else:\n",
    "    print(\"I like to be a module.\")"
   ]
  },
  {
   "cell_type": "markdown",
   "metadata": {},
   "source": [
    "#### Private Variable Convention\n",
    "\n",
    "* You may not want the rest of the world to see your personal/private variable.\n",
    "* Python has no means of allowing you to hide such variables from the eyes of the user of the module.\n",
    "* You can only inform your users that this is your variable, that they may read it, but that they should not modify it under any circumstances.\n",
    "<br><br>\n",
    "Preceding the variable's name with `_` (one underscore) or `__` (two underscores).\n",
    "<br><br>\n",
    "**Remember:** it's only a convention. Your module's users may obey it or they may not.\n"
   ]
  },
  {
   "cell_type": "markdown",
   "metadata": {},
   "source": [
    "`module_ak.py`"
   ]
  },
  {
   "cell_type": "code",
   "execution_count": null,
   "metadata": {},
   "outputs": [],
   "source": [
    "__counter = 0\n",
    "\n",
    "if __name__ == \"__main__\":\n",
    "    print(\"I prefer to be a module.\")\n",
    "else:\n",
    "    print(\"I like to be a module.\")\n",
    "\n"
   ]
  },
  {
   "cell_type": "markdown",
   "metadata": {},
   "source": [
    "#### Shabang, Shebang, Hashbang, Poundbang or even Hashpling (#!)\n",
    "\n",
    "* From Python's point of view, it's just a comment as it starts with `#`<br><br>\n",
    "* For **Unix** and **Unix-like OSs** (including MacOS) such a line **instructs the OS how to execute the contents of the file** (in other words, what program needs to be launched to interpret the text)\n"
   ]
  },
  {
   "cell_type": "code",
   "execution_count": null,
   "metadata": {},
   "outputs": [],
   "source": [
    "#!/usr/bin/env python3 "
   ]
  },
  {
   "cell_type": "markdown",
   "metadata": {},
   "source": [
    "#### Location of Modules\n",
    "\n",
    "* The current `Package` Python Script lies in: `C:\\Users\\dandg`\n",
    "* Now the `Place_filled_modules` is a folder in `C:\\Users\\dandg\\Place_filled_modules` where the `module_ak.py`  is stored. "
   ]
  },
  {
   "cell_type": "code",
   "execution_count": null,
   "metadata": {
    "scrolled": false
   },
   "outputs": [],
   "source": [
    "import sys\n",
    "\n",
    "for p in sys.path:\n",
    "    print(p)"
   ]
  },
  {
   "cell_type": "markdown",
   "metadata": {},
   "source": [
    "**To access that `module_ak.py` we need to add a path:**\n",
    "\n",
    "* **Relative Path**\n",
    "\n",
    "    + `\\\\`: The first `\\` is an escape and the second `\\` is the back slash\n",
    "    + `..`: It is = `C:\\Users\\dandg`\n",
    "<br><br>\n",
    "* **Absolute Path**\n",
    "<br>\n",
    "`path.append('C:\\\\Users\\\\dandg\\\\Place_filled_modules')`"
   ]
  },
  {
   "cell_type": "code",
   "execution_count": 4,
   "metadata": {},
   "outputs": [
    {
     "name": "stdout",
     "output_type": "stream",
     "text": [
      "C:\\Users\\dandg\n",
      "C:\\Users\\dandg\\anaconda3\\python37.zip\n",
      "C:\\Users\\dandg\\anaconda3\\DLLs\n",
      "C:\\Users\\dandg\\anaconda3\\lib\n",
      "C:\\Users\\dandg\\anaconda3\n",
      "\n",
      "C:\\Users\\dandg\\AppData\\Roaming\\Python\\Python37\\site-packages\n",
      "C:\\Users\\dandg\\anaconda3\\lib\\site-packages\n",
      "C:\\Users\\dandg\\anaconda3\\lib\\site-packages\\win32\n",
      "C:\\Users\\dandg\\anaconda3\\lib\\site-packages\\win32\\lib\n",
      "C:\\Users\\dandg\\anaconda3\\lib\\site-packages\\Pythonwin\n",
      "C:\\Users\\dandg\\anaconda3\\lib\\site-packages\\IPython\\extensions\n",
      "C:\\Users\\dandg\\.ipython\n",
      "..\\Place_filled_modules\n",
      "..\\Place_filled_modules\n",
      "..\\Place_filled_modules\n"
     ]
    }
   ],
   "source": [
    "import sys\n",
    "\n",
    "path.append('..\\\\Place_filled_modules')\n",
    "for p in sys.path:\n",
    "    print(p)"
   ]
  },
  {
   "cell_type": "code",
   "execution_count": 5,
   "metadata": {},
   "outputs": [
    {
     "name": "stdout",
     "output_type": "stream",
     "text": [
      "1\n"
     ]
    }
   ],
   "source": [
    "import math\n",
    "r=math.e != math.pow(2,4)\n",
    "print(int(r))"
   ]
  },
  {
   "cell_type": "code",
   "execution_count": null,
   "metadata": {},
   "outputs": [],
   "source": []
  }
 ],
 "metadata": {
  "kernelspec": {
   "display_name": "Python 3",
   "language": "python",
   "name": "python3"
  },
  "language_info": {
   "codemirror_mode": {
    "name": "ipython",
    "version": 3
   },
   "file_extension": ".py",
   "mimetype": "text/x-python",
   "name": "python",
   "nbconvert_exporter": "python",
   "pygments_lexer": "ipython3",
   "version": "3.7.6"
  }
 },
 "nbformat": 4,
 "nbformat_minor": 4
}
