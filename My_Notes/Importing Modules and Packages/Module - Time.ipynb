{
 "cells": [
  {
   "cell_type": "markdown",
   "metadata": {},
   "source": [
    "## The `time` Module"
   ]
  },
  {
   "cell_type": "markdown",
   "metadata": {},
   "source": [
    "#### `time.sleep()`\n",
    "\n",
    "It only accepts only an **integer or a floating point number**"
   ]
  },
  {
   "cell_type": "code",
   "execution_count": null,
   "metadata": {},
   "outputs": [],
   "source": [
    "import time\n",
    "\n",
    "class Student():\n",
    "    def nap(self, s):\n",
    "        print(\"\\n Taking a nap\")\n",
    "        time.sleep(s) \n",
    "        print(\"\\n slept well\")\n",
    "        \n",
    "\n",
    "akshay = Student()\n",
    "akshay.nap(5)"
   ]
  },
  {
   "cell_type": "markdown",
   "metadata": {},
   "source": [
    "#### `time.sleep()`\n",
    "\n",
    "It converts the **time in seconds since January 1, 1970 (Unix epoch) to a string**"
   ]
  },
  {
   "cell_type": "code",
   "execution_count": 3,
   "metadata": {
    "scrolled": true
   },
   "outputs": [
    {
     "name": "stdout",
     "output_type": "stream",
     "text": [
      "Sun Nov  6 01:40:54 2472\n"
     ]
    }
   ],
   "source": [
    "import time\n",
    "\n",
    "t_stamp = 15868431654\n",
    "\n",
    "print(time.ctime(t_stamp))"
   ]
  },
  {
   "cell_type": "markdown",
   "metadata": {},
   "source": [
    "#### `time.gmtime()` and `time.localtime()`\n",
    "\n",
    "`gmtime()`: Function returns the struct_time object in UTC <br>\n",
    "\n",
    "`localtime()`: Function returns local time"
   ]
  },
  {
   "cell_type": "code",
   "execution_count": 8,
   "metadata": {},
   "outputs": [
    {
     "name": "stdout",
     "output_type": "stream",
     "text": [
      "time.struct_time(tm_year=2020, tm_mon=4, tm_mday=14, tm_hour=5, tm_min=46, tm_sec=5, tm_wday=1, tm_yday=105, tm_isdst=0)\n",
      "time.struct_time(tm_year=2020, tm_mon=4, tm_mday=13, tm_hour=22, tm_min=46, tm_sec=5, tm_wday=0, tm_yday=104, tm_isdst=1)\n"
     ]
    }
   ],
   "source": [
    "import time\n",
    "\n",
    "t_stamp = 1586843165\n",
    "\n",
    "print(time.gmtime(t_stamp))\n",
    "print(time.localtime(t_stamp))"
   ]
  },
  {
   "cell_type": "raw",
   "metadata": {},
   "source": [
    "time.struct_time:\n",
    "    tm_year   # specifies the year\n",
    "    tm_mon    # specifies the month (value from 1 to 12)\n",
    "    tm_mday   # specifies the day of the month (value from 1 to 31)\n",
    "    tm_hour   # specifies the hour (value from 0 to 23)\n",
    "    tm_min    # specifies the minute (value from 0 to 59)\n",
    "    tm_sec    # specifies the second (value from 0 to 61 )\n",
    "    tm_wday   # specifies the weekday (value from 0 to 6)\n",
    "    tm_yday   # specifies the year day (value from 1 to 366)\n",
    "    tm_isdst  # specifies whether daylight saving time applies (1 – yes, 0 – no, -1 – it isn't known)\n",
    "    tm_zone   # specifies the timezone name (value in an abbreviated form)\n",
    "    tm_gmtoff # specifies the offset east of UTC (value in seconds)"
   ]
  },
  {
   "cell_type": "markdown",
   "metadata": {},
   "source": [
    "#### `time.asctime()` and `time.mktime()`\n",
    "\n",
    "`asctime()`: converts a `struct_time` object tuple to a string <br>\n",
    "\n",
    "`mktime()`: converts a `struct_time` object or a tuple that expresses the **local time to the number of seconds** since the Unix epoch"
   ]
  },
  {
   "cell_type": "code",
   "execution_count": 12,
   "metadata": {},
   "outputs": [
    {
     "name": "stdout",
     "output_type": "stream",
     "text": [
      "Tue Apr 14 05:46:05 2020\n",
      "1586871965.0\n"
     ]
    }
   ],
   "source": [
    "import time\n",
    "\n",
    "t_stamp = 1586843165\n",
    "\n",
    "a = time.gmtime(t_stamp)\n",
    "\n",
    "print(time.asctime(a))\n",
    "print(time.mktime(a))\n"
   ]
  },
  {
   "cell_type": "markdown",
   "metadata": {},
   "source": [
    "#### `strftime()`\n",
    "\n",
    "You probably won't be surprised to learn that the `strftime` function is available in the `time` module. **It differs slightly** from the strftime methods in the classes provided **by the datetime module** because\n",
    "\n",
    "\n",
    "* In addition to the format argument, it can also take (optionally) a tuple or struct_time object."
   ]
  },
  {
   "cell_type": "code",
   "execution_count": 13,
   "metadata": {},
   "outputs": [
    {
     "name": "stdout",
     "output_type": "stream",
     "text": [
      "2019/11/04 14:53:00\n",
      "2021/05/02 12:40:28\n"
     ]
    }
   ],
   "source": [
    "import time\n",
    "\n",
    "timestamp = 1572879180\n",
    "st = time.gmtime(timestamp)\n",
    "\n",
    "print(time.strftime(\"%Y/%m/%d %H:%M:%S\", st))\n",
    "print(time.strftime(\"%Y/%m/%d %H:%M:%S\"))\n"
   ]
  },
  {
   "cell_type": "markdown",
   "metadata": {},
   "source": [
    "#### `strptime()`\n",
    "\n",
    "\n",
    "parses a string representing a time to a struct_time object. Its use is analogous to the strptime method in the datetime class"
   ]
  },
  {
   "cell_type": "code",
   "execution_count": 14,
   "metadata": {},
   "outputs": [
    {
     "name": "stdout",
     "output_type": "stream",
     "text": [
      "time.struct_time(tm_year=2019, tm_mon=11, tm_mday=4, tm_hour=14, tm_min=53, tm_sec=0, tm_wday=0, tm_yday=308, tm_isdst=-1)\n"
     ]
    }
   ],
   "source": [
    "import time\n",
    "print(time.strptime(\"2019/11/04 14:53:00\", \"%Y/%m/%d %H:%M:%S\"))\n",
    "\n"
   ]
  },
  {
   "cell_type": "raw",
   "metadata": {},
   "source": []
  }
 ],
 "metadata": {
  "kernelspec": {
   "display_name": "Python 3",
   "language": "python",
   "name": "python3"
  },
  "language_info": {
   "codemirror_mode": {
    "name": "ipython",
    "version": 3
   },
   "file_extension": ".py",
   "mimetype": "text/x-python",
   "name": "python",
   "nbconvert_exporter": "python",
   "pygments_lexer": "ipython3",
   "version": "3.7.6"
  }
 },
 "nbformat": 4,
 "nbformat_minor": 4
}
