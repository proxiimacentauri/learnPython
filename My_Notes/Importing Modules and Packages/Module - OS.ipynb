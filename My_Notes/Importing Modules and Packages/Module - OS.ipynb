{
 "cells": [
  {
   "cell_type": "markdown",
   "metadata": {},
   "source": [
    "## The os Module\n"
   ]
  },
  {
   "cell_type": "markdown",
   "metadata": {},
   "source": [
    "The below will only for for Unix systems and for windows you need to use platform module"
   ]
  },
  {
   "cell_type": "code",
   "execution_count": null,
   "metadata": {},
   "outputs": [],
   "source": [
    "import platform\n",
    "unameinfo = platform.uname()\n",
    "print(unameinfo)"
   ]
  },
  {
   "cell_type": "code",
   "execution_count": null,
   "metadata": {},
   "outputs": [],
   "source": [
    "import os\n",
    "print(os.uname())"
   ]
  },
  {
   "cell_type": "markdown",
   "metadata": {},
   "source": [
    "#### Making Directories"
   ]
  },
  {
   "cell_type": "markdown",
   "metadata": {},
   "source": [
    "* `os.mkdir()`: You have to specify a a path the following way:\n",
    "    + `my_first_directory` — this is a relative path which will create in the current working directory\n",
    "    \n",
    "    + `./my_first_directory` — this is a relative path that **explicitly points** to the current working directory. Same as above.\n",
    "    \n",
    "    + `../my_first_directory` — this is a relative path that will in the parent directory of the current working directory;\n",
    "    \n",
    "    + `/python/my_first_directory` — this is the **absolute path** that will create  which in turn is in the python directory in the root directory.\n",
    "    \n",
    "    \n",
    "* `os.listdir()`: returns a list containing the names of the files and directories that are in the path passed as an argument.\n",
    "    + If NO argument is passed to it, the **current working directory** will be used."
   ]
  },
  {
   "cell_type": "code",
   "execution_count": null,
   "metadata": {},
   "outputs": [],
   "source": [
    "import os\n",
    "\n",
    "os.mkdir(\"./creating_dir/example_dir\")  ## creating_dir was already created I am making the example_dir\n",
    "print(os.listdir(\"./creating_dir\"))\n"
   ]
  },
  {
   "cell_type": "markdown",
   "metadata": {},
   "source": [
    "* **`os.makedirs()`**: enables recursive directory creation, which means that all directories in the path will be created.\n",
    "   \n",
    "   \n",
    "   \n",
    "* **`os.chdir()`**: You can use this to change between directories, you have to specify the directory you want to go to."
   ]
  },
  {
   "cell_type": "code",
   "execution_count": null,
   "metadata": {},
   "outputs": [],
   "source": [
    "import os\n",
    "\n",
    "os.makedirs(\"./nested_dir/new_dir_1/another_dir/Akshay\") ### HEre both the dir are being created\n",
    "print(os.listdir(\"./nested_dir/new_dir_1\"))"
   ]
  },
  {
   "cell_type": "code",
   "execution_count": null,
   "metadata": {
    "scrolled": false
   },
   "outputs": [],
   "source": [
    "os.chdir(\"./nested_dir/new_dir_1/another_dir/\")\n",
    "print(os.listdir())"
   ]
  },
  {
   "cell_type": "markdown",
   "metadata": {},
   "source": [
    "* **`os.getcwd()`**: To know the absolute path of the current directory you are in\n",
    "\n",
    "\n",
    "* **`os.rmdir()`**: You can only remove a single directory with this command in the argument you have to specify the folder name. It raises an exception if the directory is **NOT present**.\n",
    "\n",
    "\n",
    "\n",
    "* **`os.removedirs`**: To remove a **directory and its subdirectories**"
   ]
  },
  {
   "cell_type": "code",
   "execution_count": null,
   "metadata": {},
   "outputs": [],
   "source": [
    "print(os.getcwd())"
   ]
  },
  {
   "cell_type": "code",
   "execution_count": null,
   "metadata": {},
   "outputs": [],
   "source": [
    "import os\n",
    "\n",
    "os.makedirs(\"my_first_directory/my_second_directory\")\n",
    "os.removedirs(\"my_first_directory/my_second_directory\")\n",
    "print(os.listdir())\n",
    "\n"
   ]
  },
  {
   "cell_type": "markdown",
   "metadata": {},
   "source": [
    "### system()\n",
    "\n",
    "You can specify a Unix/Windows specific command to thsi function as an argument and it will execute the argument in the shell of its operating system and then will return what is returned by the shell.\n",
    "\n",
    "\n",
    "It returns a `0` which means that it is a success"
   ]
  },
  {
   "cell_type": "code",
   "execution_count": null,
   "metadata": {},
   "outputs": [],
   "source": [
    "returned_value = os.system(\"mkdir Ak_dir\")\n",
    "print(returned_value)"
   ]
  },
  {
   "cell_type": "markdown",
   "metadata": {},
   "source": [
    "### Project"
   ]
  },
  {
   "cell_type": "code",
   "execution_count": 1,
   "metadata": {},
   "outputs": [
    {
     "name": "stdout",
     "output_type": "stream",
     "text": [
      "C:\\Users\\dandg\n"
     ]
    }
   ],
   "source": [
    "import os\n",
    "print(os.getcwd())  # C:\\Users\\dandg\n",
    "os.makedirs(\"./tree/c/other_courses/cpp\")\n",
    "os.makedirs(\"./tree/c/other_courses/python\")\n",
    "os.makedirs(\"./tree/cpp/other_courses/c\")\n",
    "os.makedirs(\"./tree/cpp/other_courses/python\")\n",
    "os.makedirs(\"./tree/python/other_courses/c\")\n",
    "os.makedirs(\"./tree/python/other_courses/cpp\")"
   ]
  },
  {
   "cell_type": "code",
   "execution_count": null,
   "metadata": {},
   "outputs": [],
   "source": [
    "def find(path,dir_name)\n",
    "    os.chdir(path)\n",
    "    "
   ]
  },
  {
   "cell_type": "code",
   "execution_count": null,
   "metadata": {},
   "outputs": [],
   "source": [
    "p = str(input(\"Enter the path: \"))\n",
    "d = str(input(\"Enter the dir name to find: \"))\n",
    "\n",
    "find(p,d)"
   ]
  },
  {
   "cell_type": "code",
   "execution_count": 5,
   "metadata": {},
   "outputs": [
    {
     "name": "stdout",
     "output_type": "stream",
     "text": [
      "C:\\Users\\dandg\\tree\n"
     ]
    }
   ],
   "source": [
    "print(os.getcwd()) "
   ]
  },
  {
   "cell_type": "code",
   "execution_count": 13,
   "metadata": {
    "scrolled": true
   },
   "outputs": [
    {
     "name": "stdout",
     "output_type": "stream",
     "text": [
      "['c']\n",
      "['c', 'cpp']\n",
      "C:\\Users\\dandg\\tree\n",
      "['other_courses']\n",
      "['other_courses', 'other_courses']\n"
     ]
    },
    {
     "ename": "FileNotFoundError",
     "evalue": "[WinError 3] The system cannot find the path specified: './tree/seach_here1[i]'",
     "output_type": "error",
     "traceback": [
      "\u001b[1;31m---------------------------------------------------------------------------\u001b[0m",
      "\u001b[1;31mFileNotFoundError\u001b[0m                         Traceback (most recent call last)",
      "\u001b[1;32m<ipython-input-13-63afa488a585>\u001b[0m in \u001b[0;36m<module>\u001b[1;34m\u001b[0m\n\u001b[0;32m     27\u001b[0m \u001b[0mseach_here2\u001b[0m\u001b[1;33m=\u001b[0m\u001b[1;33m[\u001b[0m\u001b[1;33m]\u001b[0m\u001b[1;33m\u001b[0m\u001b[1;33m\u001b[0m\u001b[0m\n\u001b[0;32m     28\u001b[0m \u001b[1;32mfor\u001b[0m \u001b[0mi\u001b[0m \u001b[1;32min\u001b[0m \u001b[0mrange\u001b[0m\u001b[1;33m(\u001b[0m\u001b[0mlen\u001b[0m\u001b[1;33m(\u001b[0m\u001b[0mseach_here1\u001b[0m\u001b[1;33m)\u001b[0m\u001b[1;33m)\u001b[0m\u001b[1;33m:\u001b[0m\u001b[1;33m\u001b[0m\u001b[1;33m\u001b[0m\u001b[0m\n\u001b[1;32m---> 29\u001b[1;33m     \u001b[0mos\u001b[0m\u001b[1;33m.\u001b[0m\u001b[0mchdir\u001b[0m\u001b[1;33m(\u001b[0m\u001b[1;34m\"./tree/seach_here1[i]\"\u001b[0m\u001b[1;33m)\u001b[0m\u001b[1;33m\u001b[0m\u001b[1;33m\u001b[0m\u001b[0m\n\u001b[0m\u001b[0;32m     30\u001b[0m     \u001b[1;32mfor\u001b[0m \u001b[0ms\u001b[0m \u001b[1;32min\u001b[0m \u001b[0mos\u001b[0m\u001b[1;33m.\u001b[0m\u001b[0mlistdir\u001b[0m\u001b[1;33m(\u001b[0m\u001b[0mseach_here1\u001b[0m\u001b[1;33m[\u001b[0m\u001b[0mi\u001b[0m\u001b[1;33m]\u001b[0m\u001b[1;33m)\u001b[0m\u001b[1;33m:\u001b[0m\u001b[1;33m\u001b[0m\u001b[1;33m\u001b[0m\u001b[0m\n\u001b[0;32m     31\u001b[0m         \u001b[1;32mif\u001b[0m \u001b[0mdir_n\u001b[0m \u001b[1;33m!=\u001b[0m \u001b[0ms\u001b[0m\u001b[1;33m:\u001b[0m\u001b[1;33m\u001b[0m\u001b[1;33m\u001b[0m\u001b[0m\n",
      "\u001b[1;31mFileNotFoundError\u001b[0m: [WinError 3] The system cannot find the path specified: './tree/seach_here1[i]'"
     ]
    }
   ],
   "source": [
    "#os.chdir(\"./tree\")\n",
    "dir_n=\"python\"\n",
    "seach_here=[]\n",
    "\n",
    "for s in os.listdir():\n",
    "    if dir_n != s:\n",
    "        seach_here.append(s)\n",
    "        print(seach_here)\n",
    "            \n",
    "    if dir_n == s:\n",
    "        store_dir=s\n",
    "        a=os.getcwd()\n",
    "        print(a)\n",
    "        \n",
    "seach_here1=[]\n",
    "for i in range(len(seach_here)):\n",
    "    for s in os.listdir(seach_here[i]):\n",
    "        if dir_n != s:\n",
    "            seach_here1.append(s)\n",
    "            print(seach_here1)\n",
    "\n",
    "        if dir_n == s:\n",
    "            store_dir1=s\n",
    "            a1=os.getcwd()\n",
    "            print(a1)\n",
    "            \n",
    "seach_here2=[]\n",
    "for i in range(len(seach_here1)):\n",
    "    os.chdir(\"./tree/seach_here1[i]\")\n",
    "    for s in os.listdir(seach_here1[i]):\n",
    "        if dir_n != s:\n",
    "            seach_here2.append(s)\n",
    "            print(seach_here2)\n",
    "\n",
    "        if dir_n == s:\n",
    "            store_dir2=s\n",
    "            a2=os.getcwd()\n",
    "            print(a2)\n",
    "    "
   ]
  }
 ],
 "metadata": {
  "kernelspec": {
   "display_name": "Python 3",
   "language": "python",
   "name": "python3"
  },
  "language_info": {
   "codemirror_mode": {
    "name": "ipython",
    "version": 3
   },
   "file_extension": ".py",
   "mimetype": "text/x-python",
   "name": "python",
   "nbconvert_exporter": "python",
   "pygments_lexer": "ipython3",
   "version": "3.7.6"
  }
 },
 "nbformat": 4,
 "nbformat_minor": 4
}
