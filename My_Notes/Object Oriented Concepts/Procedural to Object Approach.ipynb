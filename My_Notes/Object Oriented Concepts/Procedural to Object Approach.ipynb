{
 "cells": [
  {
   "cell_type": "markdown",
   "metadata": {},
   "source": [
    "## Procedural to Object Approach"
   ]
  },
  {
   "cell_type": "markdown",
   "metadata": {},
   "source": [
    "### Procedural Stack"
   ]
  },
  {
   "cell_type": "markdown",
   "metadata": {},
   "source": [
    "A stack is a structure developed to store data in a very specific way. Imagine a stack of coins. \n",
    "\n",
    "* You aren't able to put a **coin anywhere else but on the top of the stack.**\n",
    "* You can't get a coin off the stack from any place **other than the top of the stack.**\n",
    "* If you want to get the coin **that lies on the bottom, you have to remove all the coins from the higher levels.**\n",
    "\n",
    "<br> This is called LIFO (Last in First Out)"
   ]
  },
  {
   "attachments": {
    "Screenshot_23.png": {
     "image/png": "[encoded data removed]"
    }
   },
   "cell_type": "markdown",
   "metadata": {},
   "source": [
    "<div>\n",
    "<img src=\"attachment:Screenshot_23.png\" width=\"300\" align=\"center\">\n",
    "</div>"
   ]
  },
  {
   "cell_type": "markdown",
   "metadata": {},
   "source": [
    "There are 2 operations:\n",
    "\n",
    "* Push - when a new element is put on the top\n",
    "* Pull - when an existing element is taken away from the top"
   ]
  },
  {
   "cell_type": "code",
   "execution_count": 1,
   "metadata": {},
   "outputs": [
    {
     "name": "stdout",
     "output_type": "stream",
     "text": [
      "1\n",
      "2\n",
      "3\n"
     ]
    }
   ],
   "source": [
    "stack = []\n",
    "\n",
    "def push(val):\n",
    "    stack.append(val)\n",
    "def pop(): #  function doesn't check if there is any element in the stack.\n",
    "    val = stack[-1]\n",
    "    del stack[-1]\n",
    "    return val\n",
    "\n",
    "push(3)\n",
    "push(2)\n",
    "push(1)\n",
    "\n",
    "print(pop())\n",
    "print(pop())\n",
    "print(pop())"
   ]
  },
  {
   "cell_type": "markdown",
   "metadata": {},
   "source": [
    "Disadvantages of this approach:\n",
    "\n",
    "* **stack[0]** is an essential variable which is highly vulnerable: **anyone can modify it in an uncontrollable way** could be malicious or carlessness (Ex: stack[0]=0)\n",
    "\n",
    "* Also if you want **more than 1 stack later** you will have to create another list for the new stacks storage and new push and pop functions as well."
   ]
  },
  {
   "cell_type": "markdown",
   "metadata": {},
   "source": [
    "### How Object Oriented Approach can solve this:\n",
    "\n",
    "* **Encapsulation:** ability to hide selected values against unauthorised access. They can neither be accessed nor be modified if you want to use them exclusively. \n",
    "\n",
    "\n",
    "* **Class:** When you have 1 class with properties of stack you can use that as a blueprint and **produce as many stacks as you want, you dont need to copy or replicate any part of the code. **\n",
    "\n",
    "\n",
    "\n",
    "* **Inheritance:** ability to enrich the stack with new functions. `you can create a new class which inherits all the exsisting traits from the superclass and then adds new ones.`"
   ]
  },
  {
   "cell_type": "markdown",
   "metadata": {},
   "source": [
    "#### Implementation\n",
    "\n",
    "* We want the class to have 1 property as **stack storage**, we need **a list inside each object of the class**, each object needs to have its own list and `it must not be shared`.\n",
    "\n",
    "\n",
    "* We want the list to be **hidden** from the class user's sight.\n",
    "<br>\n",
    "\n",
    "All these properties have to be added manually to the class in python.\n",
    "\n",
    "<br>\n",
    "\n",
    "* **`Constructor`:** It is a function `which constructs new objects`, it should know everything about the objects structure, and must perform all the needed initializations. \n",
    "\n",
    "**The part of the Python class responsible for creating new objects is called the constructor, and it's implemented as a method of the name `__init__`.**\n",
    "\n",
    "<br>\n",
    "\n",
    "There is no trace of invoking the constructor inside the code. It has been invoked implicitly and automatically\n",
    "\n",
    "* **`self`**: Each class method declaration must contain at least one parameter (always the first one) usually referred to as self, and is used by the objects to identify themselves."
   ]
  },
  {
   "cell_type": "code",
   "execution_count": null,
   "metadata": {},
   "outputs": [],
   "source": [
    "class Stack:  # Defining the Stack class.\n",
    "    def __init__(self):  # Defining the constructor function.\n",
    "        print(\"Hi!\")\n",
    "\n",
    "\n",
    "stack_object = Stack()  # Instantiating the object.\n"
   ]
  },
  {
   "cell_type": "markdown",
   "metadata": {},
   "source": [
    "**Adding Properties to Constructor**\n",
    "<br>\n",
    "* Any change you make **inside the constructor that modifies the state of the `self` parameter** will be reflected in the newly created object.\n",
    "\n",
    "\n",
    "* `Dotted notation`, just like when invoking methods (which uses () too); this is the general convention for accessing an object's properties.\n",
    "\n",
    "\n",
    "* If you set a property's value for the very first time (like in the constructor), you are creating it; from that moment on\n",
    "\n",
    "\n",
    "* In the below example the `variable is NOT hidden.`\n",
    "\n",
    "\n",
    "\n",
    "\n",
    "\n",
    "\n"
   ]
  },
  {
   "cell_type": "code",
   "execution_count": 3,
   "metadata": {},
   "outputs": [
    {
     "name": "stdout",
     "output_type": "stream",
     "text": [
      "0\n"
     ]
    }
   ],
   "source": [
    "class Stack:\n",
    "    def __init__(self):\n",
    "        self.stack_list = []\n",
    "\n",
    "\n",
    "stack_obj = Stack()\n",
    "print(len(stack_obj.stack_list))\n"
   ]
  },
  {
   "cell_type": "markdown",
   "metadata": {},
   "source": [
    "**To HIDE that variable use `__` 2 underscores**: Name starting with two underscores (__), it becomes private"
   ]
  },
  {
   "cell_type": "code",
   "execution_count": 4,
   "metadata": {},
   "outputs": [
    {
     "ename": "AttributeError",
     "evalue": "'Stack' object has no attribute '__stack_list'",
     "output_type": "error",
     "traceback": [
      "\u001b[1;31m---------------------------------------------------------------------------\u001b[0m",
      "\u001b[1;31mAttributeError\u001b[0m                            Traceback (most recent call last)",
      "\u001b[1;32m<ipython-input-4-80ce5a638a7b>\u001b[0m in \u001b[0;36m<module>\u001b[1;34m\u001b[0m\n\u001b[0;32m      5\u001b[0m \u001b[1;33m\u001b[0m\u001b[0m\n\u001b[0;32m      6\u001b[0m \u001b[0mstack_object\u001b[0m \u001b[1;33m=\u001b[0m \u001b[0mStack\u001b[0m\u001b[1;33m(\u001b[0m\u001b[1;33m)\u001b[0m\u001b[1;33m\u001b[0m\u001b[1;33m\u001b[0m\u001b[0m\n\u001b[1;32m----> 7\u001b[1;33m \u001b[0mprint\u001b[0m\u001b[1;33m(\u001b[0m\u001b[0mlen\u001b[0m\u001b[1;33m(\u001b[0m\u001b[0mstack_object\u001b[0m\u001b[1;33m.\u001b[0m\u001b[0m__stack_list\u001b[0m\u001b[1;33m)\u001b[0m\u001b[1;33m)\u001b[0m\u001b[1;33m\u001b[0m\u001b[1;33m\u001b[0m\u001b[0m\n\u001b[0m",
      "\u001b[1;31mAttributeError\u001b[0m: 'Stack' object has no attribute '__stack_list'"
     ]
    }
   ],
   "source": [
    " class Stack:\n",
    "    def __init__(self):\n",
    "        self.__stack_list = []\n",
    "\n",
    "\n",
    "stack_object = Stack()\n",
    "print(len(stack_object.__stack_list)) # Raises AttributeError \n"
   ]
  },
  {
   "cell_type": "code",
   "execution_count": 8,
   "metadata": {},
   "outputs": [
    {
     "name": "stdout",
     "output_type": "stream",
     "text": [
      "1\n",
      "2\n",
      "3\n"
     ]
    }
   ],
   "source": [
    "class Stack_Ak:\n",
    "    def __init__(self):\n",
    "        self.__stack_ls=[]\n",
    "        \n",
    "    def push(self,val):\n",
    "        self.__stack_ls.append(val)\n",
    "        \n",
    "    def pop(self):\n",
    "        val = self.__stack_ls[-1]\n",
    "        del self.__stack_ls[-1]\n",
    "        return val\n",
    "    \n",
    "stack_obj=Stack_Ak() # Remember this\n",
    "\n",
    "stack_obj.push(3)\n",
    "stack_obj.push(2)\n",
    "stack_obj.push(1)\n",
    "\n",
    "print(stack_obj.pop())\n",
    "print(stack_obj.pop())\n",
    "print(stack_obj.pop())"
   ]
  },
  {
   "cell_type": "markdown",
   "metadata": {},
   "source": [
    "**To have multiple stacks**"
   ]
  },
  {
   "cell_type": "code",
   "execution_count": 9,
   "metadata": {},
   "outputs": [
    {
     "name": "stdout",
     "output_type": "stream",
     "text": [
      "3\n"
     ]
    }
   ],
   "source": [
    "class Stack_Ak:\n",
    "    def __init__(self):\n",
    "        self.__stack_ls=[]\n",
    "        \n",
    "    def push(self,val):\n",
    "        self.__stack_ls.append(val)\n",
    "        \n",
    "    def pop(self):\n",
    "        val = self.__stack_ls[-1]\n",
    "        del self.__stack_ls[-1]\n",
    "        return val\n",
    "    \n",
    "stack_1=Stack_Ak() # Remember this\n",
    "stack_2=Stack_Ak() # Remember this\n",
    "\n",
    "\n",
    "stack_1.push(3)              # Pushing 3 in S1\n",
    "stack_2.push(stack_1.pop())   # Pulling out 3 from S1 and pushing in S2\n",
    "\n",
    "print(stack_2.pop())  # popping out the S2"
   ]
  },
  {
   "cell_type": "markdown",
   "metadata": {},
   "source": [
    "#### Class on Class Action\n",
    "\n",
    "* We can add another `class` which can operate on a `class`.\n",
    "<br>\n",
    "\n",
    "**Define a new subclass pointing to the class which will be used as the superclass.**\n",
    "\n",
    "* We want the new stack to get all components from its `superclass` \n",
    "\n",
    "* We want the `push` to push the value on to the stack and add that value to the `sum` variable.\n",
    "\n",
    "* We want the `pop` to pop the value off the stack and then substract the value form the `sum` variable."
   ]
  },
  {
   "cell_type": "code",
   "execution_count": 12,
   "metadata": {},
   "outputs": [],
   "source": [
    "class Stack_Ak:\n",
    "    def __init__(self):\n",
    "        self.__stack_ls=[]\n",
    "        \n",
    "    def push(self,val):\n",
    "        self.__stack_ls.append(val)\n",
    "        \n",
    "    def pop(self):\n",
    "        val = self.__stack_ls[-1]\n",
    "        del self.__stack_ls[-1]\n",
    "        return val\n",
    "    \n",
    "class ADD_Stack_Ak:\n",
    "    def __init__(self):\n",
    "        Stack_Ak.__init__(self)\n",
    "        self.__sum=0\n",
    "        \n",
    "    def push(self, val):    # New implementation of push\n",
    "        self.__sum += val\n",
    "        Stack_Ak.push(self, val)  # invoking the PREVIOUS IMPLEMENTATION \n",
    "        \n",
    "    def pop(self):\n",
    "        val = Stack_Ak.pop(self)  #  invoking the PREVIOUS IMPLEMENTATION \n",
    "        self.__sum -= val\n",
    "        return val"
   ]
  },
  {
   "cell_type": "markdown",
   "metadata": {},
   "source": [
    "* Here `sum` is a **private variable** which will store all the summations.\n",
    "\n",
    "\n",
    "* `Stack_Ak.__init__(self)` Python forces you to **explicitity invoke the constructor of the superclass**   `<super_class>.<name_of_constructor_to_invoke>(self)`\n",
    "\n",
    "\n",
    "* `self` : points to the object which is the class's instance which has to be initialised by the constructor, when WITHIN CLASS invoking the constructor method **demands usage of `self`**\n",
    "\n",
    "\n",
    "* **Invoking any method (including constructors) OUTSIDE the CLASS** never requires using `self` as an argument.\n",
    "\n"
   ]
  },
  {
   "cell_type": "raw",
   "metadata": {},
   "source": [
    "def push(self, val):\n",
    "        self.__sum += val\n",
    "        Stack_Ak.push(self, val) #  invoking the PREVIOUS IMPLEMENTATION \n",
    "        \n",
    "\n",
    "def pop(self):\n",
    "        val = Stack_Ak.pop(self) #  invoking the PREVIOUS IMPLEMENTATION \n",
    "        self.__sum -= val\n",
    "        return val"
   ]
  },
  {
   "cell_type": "markdown",
   "metadata": {},
   "source": [
    "* Now inorder to add in the sub-class we need to **modify** the `push and pop methods of the super class`.\n",
    "\n",
    "\n",
    "\n",
    "* Also **we are invoking the PREVIOUS IMPLEMENTATION of the `push and pop` method in the superclass**"
   ]
  },
  {
   "cell_type": "raw",
   "metadata": {},
   "source": [
    "def get_sum(self):\n",
    "        return self.__sum"
   ]
  },
  {
   "cell_type": "markdown",
   "metadata": {},
   "source": [
    "* `__sum` is a private variable we need a **NEW METHOD** to return the __sum value\n",
    "<br>\n",
    "\n",
    "**A class method is actually a function declared inside the class and able to access all the class's components.**\n",
    "\n"
   ]
  },
  {
   "cell_type": "code",
   "execution_count": 15,
   "metadata": {
    "scrolled": true
   },
   "outputs": [
    {
     "name": "stdout",
     "output_type": "stream",
     "text": [
      "10\n",
      "4\n",
      "3\n",
      "2\n",
      "1\n",
      "0\n"
     ]
    }
   ],
   "source": [
    "class Stack_Ak:\n",
    "    def __init__(self):\n",
    "        self.__stack_ls=[]\n",
    "        \n",
    "    def push(self,val):\n",
    "        self.__stack_ls.append(val)\n",
    "        \n",
    "    def pop(self):\n",
    "        val = self.__stack_ls[-1]\n",
    "        del self.__stack_ls[-1]\n",
    "        return val\n",
    "    \n",
    "class ADD_Stack_Ak:\n",
    "    def __init__(self):\n",
    "        Stack_Ak.__init__(self)\n",
    "        self.__sum=0\n",
    "        \n",
    "    def push(self, val):    # New implementation of push\n",
    "        self.__sum += val\n",
    "        Stack_Ak.push(self, val)  # invoking the PREVIOUS IMPLEMENTATION \n",
    "        \n",
    "    def pop(self):\n",
    "        val = Stack_Ak.pop(self)  #  invoking the PREVIOUS IMPLEMENTATION \n",
    "        self.__sum -= val\n",
    "        return val\n",
    "    \n",
    "    def get_sum(self):\n",
    "        return self.__sum\n",
    "\n",
    "stack_add = AddingStack()\n",
    "\n",
    "for i in range(5):\n",
    "    stack_add.push(i)\n",
    "print(stack_add.get_sum())\n",
    "\n",
    "for i in range(5):\n",
    "    print(stack_add.pop())"
   ]
  },
  {
   "cell_type": "markdown",
   "metadata": {},
   "source": [
    "**Define a new exception named `QueueError` (choose an exception to derive it from) and raise it when get() tries to operate on an empty list.**\n",
    "\n",
    "<br>\n",
    "\n",
    "Below is FIFO"
   ]
  },
  {
   "cell_type": "code",
   "execution_count": 27,
   "metadata": {},
   "outputs": [
    {
     "name": "stdout",
     "output_type": "stream",
     "text": [
      "1\n",
      "dog\n",
      "False\n",
      "Queue error\n"
     ]
    }
   ],
   "source": [
    "class QueueError(IndexError):  # Choose base class for the new exception.\n",
    "    pass\n",
    "\n",
    "class Queue:\n",
    "    def __init__(self):\n",
    "        self.__queue=[]\n",
    "    \n",
    "    def put(self, elem):\n",
    "        self.__queue.append(elem)\n",
    "\n",
    "    def get(self):\n",
    "        if len(self.__queue) > 0:\n",
    "            val = self.__queue[0]\n",
    "            del self.__queue[0]\n",
    "            return val\n",
    "        else:\n",
    "            raise QueueError\n",
    "\n",
    "que = Queue()\n",
    "que.put(1)\n",
    "que.put(\"dog\")\n",
    "que.put(False)\n",
    "try:\n",
    "    for i in range(4):\n",
    "        print(que.get())\n",
    "except:\n",
    "    print(\"Queue error\")\n"
   ]
  }
 ],
 "metadata": {
  "kernelspec": {
   "display_name": "Python 3",
   "language": "python",
   "name": "python3"
  },
  "language_info": {
   "codemirror_mode": {
    "name": "ipython",
    "version": 3
   },
   "file_extension": ".py",
   "mimetype": "text/x-python",
   "name": "python",
   "nbconvert_exporter": "python",
   "pygments_lexer": "ipython3",
   "version": "3.7.6"
  }
 },
 "nbformat": 4,
 "nbformat_minor": 4
}
