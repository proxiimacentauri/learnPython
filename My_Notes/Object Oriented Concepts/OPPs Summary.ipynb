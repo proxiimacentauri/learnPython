{
 "cells": [
  {
   "cell_type": "markdown",
   "id": "bf719842",
   "metadata": {},
   "source": [
    "## Basics of OOPs\n"
   ]
  },
  {
   "cell_type": "markdown",
   "id": "2182132e",
   "metadata": {},
   "source": [
    "- **class** — an idea, blueprint, or recipe for an instance\n",
    "\n",
    "\n",
    "- **instance** — an instantiation of the class; very often used interchangeably with the term 'object';\n",
    "\n",
    "\n",
    "- **object** — objects could be aggregates of instances\n",
    "\n",
    "\n",
    "- **attribute** — any object or class trait; could be a variable or method;\n",
    "\n",
    "\n",
    "- **method** — a function built into a class that is executed on behalf of the class or object; some say that it’s a 'callable attribute';\n",
    "\n",
    "\n",
    "- **type** — refers to the class that was used to instantiate the object."
   ]
  },
  {
   "cell_type": "markdown",
   "id": "246c5199",
   "metadata": {},
   "source": [
    "### Why everything in Python is organised as objects ?\n",
    "\n",
    "- Object is an independant instance of class\n",
    "- It owns and shares methods, which can be used to perform actions"
   ]
  },
  {
   "cell_type": "markdown",
   "id": "a1b7284c",
   "metadata": {},
   "source": [
    "## Class\n",
    "\n",
    "- It expresses an idea, its something virtual\n",
    "- It can contain lots of different details\n",
    "\n",
    "\n",
    "- Class can be thought of as a building blueprint which represents an architecht's ideas.\n",
    "\n",
    "- Class instances are the actual buildings.\n",
    "\n",
    "\n",
    "- Classes can be built from scratch/ employ inheitance to get a more specialized class based on another class.\n",
    "- Class can be used as a superclass for newly derieved classes."
   ]
  },
  {
   "cell_type": "code",
   "execution_count": 1,
   "id": "9613ee6f",
   "metadata": {},
   "outputs": [],
   "source": [
    "class Duck:\n",
    "    def __init__(self, height, weight, sex):\n",
    "        self.height = height\n",
    "        self.weight = weight\n",
    "        self.sex = sex\n",
    "\n",
    "    def walk(self):\n",
    "        pass\n",
    "\n",
    "    def quack(self):\n",
    "        return print('Quack')"
   ]
  },
  {
   "cell_type": "markdown",
   "id": "4a835811",
   "metadata": {},
   "source": [
    "## Instance\n",
    "\n",
    "- It is a physical instantiation of a class that occupies memory and has data elements.\n",
    "\n",
    "- There can be unlimited instances of a given class.\n",
    "- Each instance has its own indivisual state"
   ]
  },
  {
   "cell_type": "code",
   "execution_count": 2,
   "id": "bd6ee965",
   "metadata": {},
   "outputs": [],
   "source": [
    "duckling = Duck(height=10, weight=3.4, sex=\"male\")\n",
    "drake = Duck(height=25, weight=3.7, sex=\"male\")\n",
    "hen = Duck(height=20, weight=3.4, sex=\"female\")"
   ]
  },
  {
   "cell_type": "markdown",
   "id": "7b2cc2da",
   "metadata": {},
   "source": [
    "## Attribute\n",
    "\n",
    "- It can refer to 2 main kind of class traits:\n",
    "\n",
    "- **Variables** - which contain info about class/ class instance\n",
    "- **Methods** - which are formulated as py func.\n",
    "\n",
    "Ex: method is a **callable attribute** of a py object\n",
    "\n",
    "- Each py object has **its own set of attributes**, we can even even extend that by adding new attri to exsisting objects or change them or control access to those attri\n",
    "\n",
    "\n",
    "- **methods** are called on behalf of an object and are usually executed on the obj data\n",
    "\n",
    "\n",
    "\n",
    "**Syntax** : \\<class\\>**dot**\\<attribute\\>\n",
    "\n",
    "\n",
    "- `getattr()` and `setattr()` can be used to modify the object's attri"
   ]
  },
  {
   "cell_type": "code",
   "execution_count": 4,
   "id": "48e777c8",
   "metadata": {},
   "outputs": [
    {
     "name": "stdout",
     "output_type": "stream",
     "text": [
      "Quack\n",
      "10\n"
     ]
    }
   ],
   "source": [
    "## Here we are calling and printing the attri of obj \n",
    "drake.quack()\n",
    "print(duckling.height)"
   ]
  },
  {
   "cell_type": "markdown",
   "id": "cef02b24",
   "metadata": {},
   "source": [
    "## Type\n",
    "\n",
    "- `type` is the first/foremost class in python that any class can be inherited from\n",
    "\n",
    "- If you look for the type/kind of class then = `type` is returned.\n",
    "\n",
    "\n",
    "\n",
    "#### In other cases\n",
    "\n",
    "- It referes to the class that was used to instantiate an object\n",
    "- It is a general term describing **kind** of any object\n",
    "\n",
    "### Information about object's class\n",
    "\n",
    "- Its also the name of a py func which returns the class information when the **arg of this func is an object**\n",
    "\n",
    "\n",
    "`type(object)`\n",
    "\n",
    "- Info about an objects class is contained in `__class__`\n"
   ]
  },
  {
   "cell_type": "code",
   "execution_count": 12,
   "id": "ef75dabd",
   "metadata": {},
   "outputs": [
    {
     "name": "stdout",
     "output_type": "stream",
     "text": [
      "<class 'type'>\n",
      "<class '__main__.Duck'>\n",
      "<class '__main__.Duck'>\n",
      "<class '__main__.Duck'>\n"
     ]
    }
   ],
   "source": [
    "print(type(Duck))\n",
    "print(type(duckling))\n",
    "print(type(drake))\n",
    "print(type(hen))\n"
   ]
  },
  {
   "cell_type": "code",
   "execution_count": 15,
   "id": "513da2a1",
   "metadata": {
    "scrolled": true
   },
   "outputs": [
    {
     "name": "stdout",
     "output_type": "stream",
     "text": [
      "<class 'type'>\n",
      "<class '__main__.Duck'>\n",
      "<class 'str'>\n",
      "<class 'method'>\n"
     ]
    }
   ],
   "source": [
    "print(Duck.__class__)\n",
    "print(duckling.__class__)\n",
    "print(duckling.sex.__class__)\n",
    "print(duckling.quack.__class__)"
   ]
  },
  {
   "cell_type": "markdown",
   "id": "e4214eed",
   "metadata": {},
   "source": [
    "## Exercise"
   ]
  },
  {
   "cell_type": "code",
   "execution_count": 20,
   "id": "b1d75f7f",
   "metadata": {},
   "outputs": [
    {
     "name": "stdout",
     "output_type": "stream",
     "text": [
      "mobile phone { 01632-960004 } is turned on\n",
      "mobile phone { 01632-960012 } is turned on\n",
      "Calling  555-34343\n",
      "mobile phone is turned off\n",
      "mobile phone is turned off\n"
     ]
    }
   ],
   "source": [
    "class mobile:\n",
    "    def __init__(self, num):\n",
    "        self.number=num\n",
    "    \n",
    "    def turn_on(self):\n",
    "        return print(\"mobile phone {\", self.number, \"} is turned on\")\n",
    "\n",
    "    def turn_off(self):\n",
    "        return print(\"mobile phone is turned off\")\n",
    "    \n",
    "    def call(self):\n",
    "        return print(\"Calling \", self.number)\n",
    "        \n",
    "p1=mobile(\"01632-960004\")\n",
    "p2=mobile(\"01632-960012\")\n",
    "\n",
    "p1.turn_on()\n",
    "p2.turn_on()\n",
    "mobile(\"555-34343\").call()\n",
    "p1.turn_off()\n",
    "p2.turn_off()\n"
   ]
  },
  {
   "cell_type": "markdown",
   "id": "81ffcf75",
   "metadata": {},
   "source": [
    "## Class and Instance Data"
   ]
  },
  {
   "cell_type": "markdown",
   "id": "e5b2515c",
   "metadata": {},
   "source": [
    "### Instance Variable"
   ]
  },
  {
   "cell_type": "markdown",
   "id": "c40135c4",
   "metadata": {},
   "source": [
    "- It exsists only when created and added to an object.\n",
    "- It can be dont during objects instantiation.\n",
    "- Performed by `__init__` method or later in the objects life.\n",
    "- Any exsisting property can be removed at anytime.\n",
    "\n",
    "- Each objs carries its own variables and they dont interfere with each other.\n",
    "\n",
    "To access an instance variable: `<obj_name>.<var_name>`\n",
    "\n",
    "\n",
    "- `self` is used to indicate the var is created coherently and indivisually from other instances of the same class."
   ]
  },
  {
   "cell_type": "code",
   "execution_count": 2,
   "id": "434201ba",
   "metadata": {},
   "outputs": [
    {
     "name": "stdout",
     "output_type": "stream",
     "text": [
      "d1 obj's instance var inst_var= 9\n",
      "d2 obj's instance var inst_var= 0\n"
     ]
    }
   ],
   "source": [
    "class Demo:\n",
    "    def __init__(self,val):\n",
    "        self.inst_var=val\n",
    "        \n",
    "d1=Demo(9)\n",
    "d2=Demo(0)\n",
    "\n",
    "print(\"d1 obj's instance var inst_var=\",d1.inst_var)\n",
    "print(\"d2 obj's instance var inst_var=\",d2.inst_var)\n",
    "\n"
   ]
  },
  {
   "cell_type": "markdown",
   "id": "7da7b967",
   "metadata": {},
   "source": [
    "Instance variables can be created at any moment in the ojects life\n",
    "- `__dict__` is a property present for every python object"
   ]
  },
  {
   "cell_type": "code",
   "execution_count": 3,
   "id": "47a1910c",
   "metadata": {
    "scrolled": true
   },
   "outputs": [
    {
     "name": "stdout",
     "output_type": "stream",
     "text": [
      "content of d1=  {'inst_var': 9, 'extra_var': 234}\n",
      "content of d2=  {'inst_var': 0, 'str': 'this is another var'}\n"
     ]
    }
   ],
   "source": [
    "d1.extra_var=234\n",
    "d2.str=\"this is another var\"\n",
    "\n",
    "print(\"content of d1= \", d1.__dict__)\n",
    "print(\"content of d2= \", d2.__dict__)"
   ]
  },
  {
   "cell_type": "markdown",
   "id": "c52308cd",
   "metadata": {},
   "source": [
    "### Class Variable"
   ]
  },
  {
   "cell_type": "markdown",
   "id": "d33d2b9e",
   "metadata": {},
   "source": [
    "- These are defined in the class construction.\n",
    "- These are available before any class instance is created.\n",
    "\n",
    "Access class var `<class_name>.<var_name>`\n",
    "\n",
    "\n",
    "- It is a class property which exsists in just **1 copy** and is stored **OUTSIDE any Class Instance**\n",
    "- Also as its defined outside the object, its **NOT listed in objects `__dict__`**"
   ]
  },
  {
   "cell_type": "code",
   "execution_count": 24,
   "id": "12ecae76",
   "metadata": {
    "scrolled": true
   },
   "outputs": [
    {
     "name": "stdout",
     "output_type": "stream",
     "text": [
      "akshay\n",
      "\n",
      "\n",
      " {'__module__': '__main__', '__doc__': 'This is the doc', 'c_var': 'akshay', '__dict__': <attribute '__dict__' of 'test' objects>, '__weakref__': <attribute '__weakref__' of 'test' objects>}\n",
      "\n",
      "\n",
      " The Documentation is as follows:\n",
      "\n",
      " This is the doc\n"
     ]
    }
   ],
   "source": [
    "class test:\n",
    "    \"\"\"This is the doc\"\"\"\n",
    "\n",
    "    c_var=\"akshay\"\n",
    "    \n",
    "print(test.c_var)\n",
    "print(\"\\n\\n\",test.__dict__)\n",
    "print(\"\\n\\n The Documentation is as follows:\\n\\n\",test.__doc__)"
   ]
  },
  {
   "cell_type": "markdown",
   "id": "94aa1576",
   "metadata": {},
   "source": [
    "- When we want to change the class var it needs to be done via `CLASS` and **NOT via instance**\n",
    "\n",
    "- If done via instance it will just create an instance variable with the same var name as class var\n",
    "\n",
    "- And if you do a `__dict__` on that instance you will see the instance var pop up as shown below"
   ]
  },
  {
   "cell_type": "code",
   "execution_count": 34,
   "id": "ddf000cb",
   "metadata": {
    "scrolled": true
   },
   "outputs": [
    {
     "name": "stdout",
     "output_type": "stream",
     "text": [
      "In Class: akshay\n",
      "In d1 obj: akshay\n",
      "In d2 obj: akshay\n",
      "\n",
      "\n",
      "In Class: akshay\n",
      "In d1 obj: I can change it in d1\n",
      "In d2 obj: akshay\n",
      "\n",
      "\n",
      "In Class: I can change it in class\n",
      "In d1 obj: I can change it in d1\n",
      "In d2 obj: I can change it in class\n",
      "\n",
      " contents of d1 c_var is a instance var not class var: {'c_var': 'I can change it in d1'}\n",
      "\n",
      " contents of d2: {}\n"
     ]
    }
   ],
   "source": [
    "class test:\n",
    "    \"\"\"This is the doc\"\"\"\n",
    "\n",
    "    c_var=\"akshay\"\n",
    "    \n",
    "d1 = test()\n",
    "d2 = test()\n",
    "\n",
    "print(\"In Class:\",test.c_var)\n",
    "print(\"In d1 obj:\",d1.c_var)\n",
    "print(\"In d2 obj:\",d2.c_var)\n",
    "\n",
    "d1.c_var=\"I can change it in d1\"\n",
    "print(\"\\n\\nIn Class:\",test.c_var)\n",
    "print(\"In d1 obj:\",d1.c_var)\n",
    "print(\"In d2 obj:\",d2.c_var)\n",
    "\n",
    "test.c_var=\"I can change it in class\"\n",
    "print(\"\\n\\nIn Class:\",test.c_var)\n",
    "print(\"In d1 obj:\",d1.c_var)\n",
    "print(\"In d2 obj:\",d2.c_var)\n",
    "\n",
    "print(\"\\n contents of d1 c_var is a instance var not class var:\", d1.__dict__)\n",
    "\n",
    "print(\"\\n contents of d2, c_var is NOT shown:\", d2.__dict__)\n"
   ]
  },
  {
   "cell_type": "markdown",
   "id": "473909d1",
   "metadata": {},
   "source": [
    "#### IMP\n",
    "\n",
    "There are 2 class vars:\n",
    "- `counter` = which is keeping a check on the no of instances as it is added in the `__init__` it is incremented as a obj is instantiated\n",
    "- `species` = is a kind of metadata which is stored "
   ]
  },
  {
   "cell_type": "code",
   "execution_count": 35,
   "id": "651c9a04",
   "metadata": {},
   "outputs": [
    {
     "name": "stdout",
     "output_type": "stream",
     "text": [
      "So many ducks were born: 3\n",
      "duck quacks\n",
      "duck quacks\n",
      "duck quacks\n",
      "chicken clucks\n"
     ]
    }
   ],
   "source": [
    "class Duck:\n",
    "    counter = 0\n",
    "    species = 'duck'\n",
    "\n",
    "    def __init__(self, height, weight, sex):\n",
    "        self.height = height\n",
    "        self.weight = weight\n",
    "        self.sex = sex\n",
    "        Duck.counter +=1\n",
    "\n",
    "    def walk(self):\n",
    "        pass\n",
    "\n",
    "    def quack(self):\n",
    "        print('quacks')\n",
    "\n",
    "class Chicken:\n",
    "    species = 'chicken'\n",
    "\n",
    "    def walk(self):\n",
    "        pass\n",
    "\n",
    "    def cluck(self):\n",
    "        print('clucks')\n",
    "\n",
    "duckling = Duck(height=10, weight=3.4, sex=\"male\")\n",
    "drake = Duck(height=25, weight=3.7, sex=\"male\")\n",
    "hen = Duck(height=20, weight=3.4, sex=\"female\")\n",
    "\n",
    "chicken = Chicken()\n",
    "\n",
    "print('So many ducks were born:', Duck.counter)\n",
    "\n",
    "for poultry in duckling, drake, hen, chicken:\n",
    "    print(poultry.species, end=' ')\n",
    "    if poultry.species == 'duck':\n",
    "        poultry.quack()\n",
    "    elif poultry.species == 'chicken':\n",
    "        poultry.cluck()\n"
   ]
  }
 ],
 "metadata": {
  "kernelspec": {
   "display_name": "Python 3 (ipykernel)",
   "language": "python",
   "name": "python3"
  },
  "language_info": {
   "codemirror_mode": {
    "name": "ipython",
    "version": 3
   },
   "file_extension": ".py",
   "mimetype": "text/x-python",
   "name": "python",
   "nbconvert_exporter": "python",
   "pygments_lexer": "ipython3",
   "version": "3.9.12"
  }
 },
 "nbformat": 4,
 "nbformat_minor": 5
}
