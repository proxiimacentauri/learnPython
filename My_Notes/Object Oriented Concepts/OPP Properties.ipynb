{
 "cells": [
  {
   "cell_type": "markdown",
   "metadata": {},
   "source": [
    "## OPP Properties"
   ]
  },
  {
   "cell_type": "markdown",
   "metadata": {},
   "source": [
    "### Instance Variables"
   ]
  },
  {
   "cell_type": "markdown",
   "metadata": {},
   "source": [
    "A class can be equipped with **two different kinds of data** to form a class's properties.\n",
    "<br>\n",
    "* This kind of class property **exists when and only when it is explicitly created and added to an object.** This can be done during the `object's initialization, performed by the constructor`.\n",
    "\n",
    "* It can be done in **any moment of the object's life**.\n",
    "\n",
    "* Any **existing property can be removed at any time.**\n",
    "\n",
    "<br>\n",
    "\n",
    "\n",
    "This causes some important changes:\n",
    "\n",
    "* Different objects of the **same class** may possess different sets of properties.\n",
    "\n",
    "* Way to check **safely check if a specific object owns the property** that you want to utilize\n",
    "\n",
    "* Each object **carries its own set of properties which dont interfere each other** `= such variables(properties) are called INSTANCE VARIABLES`\n",
    "\n",
    "* The word `instance` suggests that they are closely connected to the objects (which are class instances) not to the classes themselves."
   ]
  },
  {
   "cell_type": "code",
   "execution_count": 3,
   "metadata": {},
   "outputs": [
    {
     "name": "stdout",
     "output_type": "stream",
     "text": [
      "{'first': 999}\n",
      "{'first': 1}\n",
      "888\n",
      "{'first': 10000, 'Akshay': 444}\n"
     ]
    }
   ],
   "source": [
    "class ExampleClass:\n",
    "    def __init__(self, val = 1):\n",
    "        self.first = val                # first is an instance variable\n",
    "\n",
    "    def set_second(self, val):\n",
    "        self.second = val\n",
    "\n",
    "\n",
    "a1 = ExampleClass(999)  # When 999 is given val =999 is forced\n",
    "a2 = ExampleClass()\n",
    "print(a1.__dict__)\n",
    "print(a2.__dict__)\n",
    "\n",
    "a1.set_second(888)\n",
    "print(a1.second)\n",
    "\n",
    "\n",
    "## Creating a new variable on the fly\n",
    "\n",
    "a3 = ExampleClass(10000)     # Here we did not define for set_second it will not show on the dict\n",
    "a3.Akshay=444\n",
    "print(a3.__dict__)\n"
   ]
  },
  {
   "cell_type": "markdown",
   "metadata": {},
   "source": [
    "The reason we are able to use **`__dict__`** is because python objects are **gifted with a small set of predefined properties and methods each object gets them**\n",
    "\n",
    "<br>\n",
    "\n",
    "Modifying the instance variable of any object has no effect on all the other objects."
   ]
  },
  {
   "cell_type": "code",
   "execution_count": 1,
   "metadata": {},
   "outputs": [
    {
     "name": "stdout",
     "output_type": "stream",
     "text": [
      "{'_ExampleClass__first': 999, '_ExampleClass__second': 888}\n",
      "1\n"
     ]
    }
   ],
   "source": [
    "class ExampleClass:\n",
    "    def __init__(self, val = 1):\n",
    "        self.__first = val                # PRIVATE\n",
    "\n",
    "    def set_second(self, val):\n",
    "        self.__second = val            # PRIVATE\n",
    "\n",
    "\n",
    "a1 = ExampleClass(999)  # When 999 is given val =999 is forced\n",
    "a1.set_second(888)\n",
    "print(a1.__dict__)\n",
    "\n",
    "a2 = ExampleClass()\n",
    "print(a2._ExampleClass__first) ### The PRIVATE VARIABLE is accessible outside\n"
   ]
  },
  {
   "cell_type": "markdown",
   "metadata": {},
   "source": [
    "### Class Variables"
   ]
  },
  {
   "cell_type": "markdown",
   "metadata": {},
   "source": [
    "A class variable is a property which **exists in just 1 copy and is stored outside any object.**\n",
    "\n",
    "* If there is **NO Object in a class there will be NO Instance Variables**. \n",
    "\n",
    "\n",
    "* But a `CLASS Variable exisits` even if there are **NO objects in the class.**\n",
    "\n",
    "\n",
    "\n",
    " The reason the `counter =3 ` is because the `__init__` was called 3 times which is where the counter was incremented.\n",
    "\n",
    "\n",
    "* Accessing the `instance and class var` is the same but the class variable is outside the methods of the object."
   ]
  },
  {
   "cell_type": "code",
   "execution_count": 6,
   "metadata": {},
   "outputs": [
    {
     "name": "stdout",
     "output_type": "stream",
     "text": [
      "{'_AkClass__first': 1} 3\n",
      "{'_AkClass__first': 1} 3\n",
      "{'_AkClass__first': 1} 3\n"
     ]
    }
   ],
   "source": [
    "class AkClass:\n",
    "    counter = 0\n",
    "    def __init__(self, val = 1):\n",
    "        self.__first = val\n",
    "        AkClass.counter += 1\n",
    "\n",
    "\n",
    "b1 = AkClass()\n",
    "b2 = AkClass()\n",
    "b3 = AkClass()\n",
    "\n",
    "print(b1.__dict__, b1.counter)\n",
    "print(b2.__dict__, b2.counter)\n",
    "print(b3.__dict__, b3.counter)"
   ]
  },
  {
   "cell_type": "markdown",
   "metadata": {},
   "source": [
    "#### Mangling\n",
    "\n",
    "It is a process which helps to **access a class variable from OUTSIDE THE CLASS**.\n",
    "\n",
    "`<Object_name>._<class_name>__<class_var>`"
   ]
  },
  {
   "cell_type": "code",
   "execution_count": 8,
   "metadata": {},
   "outputs": [
    {
     "name": "stdout",
     "output_type": "stream",
     "text": [
      "{'_AkClass__first': 1} 3\n",
      "{'_AkClass__first': 2} 3\n",
      "{'_AkClass__first': 4} 3\n"
     ]
    }
   ],
   "source": [
    "class AkClass:\n",
    "    __counter = 0\n",
    "    def __init__(self, val = 1):\n",
    "        self.__first = val\n",
    "        AkClass.__counter += 1\n",
    "\n",
    "\n",
    "a1 = AkClass()\n",
    "a2 = AkClass(2)\n",
    "a3 = AkClass(4)\n",
    "\n",
    "print(a1.__dict__, a1._AkClass__counter)\n",
    "print(a2.__dict__, a2._AkClass__counter)\n",
    "print(a3.__dict__, a3._AkClass__counter)\n"
   ]
  },
  {
   "cell_type": "markdown",
   "metadata": {},
   "source": [
    "#### Instance Variable VS Class Variable VS Local Variable\n",
    "\n"
   ]
  },
  {
   "cell_type": "code",
   "execution_count": 31,
   "metadata": {
    "scrolled": true
   },
   "outputs": [
    {
     "name": "stdout",
     "output_type": "stream",
     "text": [
      "{'__module__': '__main__', 'p1': 1, '__init__': <function AKSHAYclass.__init__ at 0x000002430BAABB88>, '__dict__': <attribute '__dict__' of 'AKSHAYclass' objects>, '__weakref__': <attribute '__weakref__' of 'AKSHAYclass' objects>, '__doc__': None}\n",
      "{'__module__': '__main__', 'p1': 1, '__init__': <function AKSHAYclass.__init__ at 0x000002430BAABB88>, '__dict__': <attribute '__dict__' of 'AKSHAYclass' objects>, '__weakref__': <attribute '__weakref__' of 'AKSHAYclass' objects>, '__doc__': None}\n",
      "{}\n"
     ]
    }
   ],
   "source": [
    "class AKSHAYclass:\n",
    "    p1 = 1\n",
    "    def __init__(self, val):\n",
    "        #self.p1 = val          # INSTANCE Variable\n",
    "        #AKSHAYclass.p1 = val   # CLASS Variable\n",
    "        \n",
    "        p1 = val                # Methods Local Variable.\n",
    "\n",
    "\n",
    "print(AKSHAYclass.__dict__)\n",
    "obj1 = AKSHAYclass(2222225555555)\n",
    "\n",
    "print(AKSHAYclass.__dict__)\n",
    "print(obj1.__dict__)\n"
   ]
  },
  {
   "cell_type": "markdown",
   "metadata": {},
   "source": [
    "#### Checking Attribute\n",
    "\n",
    "Python provides a **function which is able to safely check if ant object/class contains a specified property**.\n",
    "\n",
    "\n",
    "`hasattr()` has 2 arguments:\n",
    "* Specify the class being checked\n",
    "* Specify the name of the property that you want to check.\n",
    "\n",
    "\n",
    "**`hasattr(<object_name>OR<class_name>,'<name_of_property>')`**\n"
   ]
  },
  {
   "cell_type": "code",
   "execution_count": 44,
   "metadata": {
    "scrolled": true
   },
   "outputs": [
    {
     "name": "stdout",
     "output_type": "stream",
     "text": [
      "0\n",
      "1\n",
      "Printing b of obj2 1\n"
     ]
    }
   ],
   "source": [
    "class Ak1:\n",
    "    def __init__(self, val):\n",
    "        if val % 2 != 0:\n",
    "            self.a = 0\n",
    "        else:\n",
    "            self.b = 1\n",
    "\n",
    "obj=Ak1(1)\n",
    "print(obj.a)   # the instance var \"a\" will be created and not \"b\" will NOT\n",
    "\n",
    "if hasattr(obj, 'b'):    \n",
    "    print(\"Printing b of obj\",obj.b)\n",
    "\n",
    " \n",
    "    \n",
    "obj2=Ak1(2)\n",
    "#print(obj2.a)   # the instance var \"a\" will NOT be created and not \"b\" will be\n",
    "print(obj2.b)\n",
    "\n",
    "if hasattr(obj2, 'b'):    \n",
    "    print(\"Printing b of obj2\",obj2.b)"
   ]
  },
  {
   "cell_type": "code",
   "execution_count": 18,
   "metadata": {},
   "outputs": [
    {
     "name": "stdout",
     "output_type": "stream",
     "text": [
      "True\n",
      "True\n",
      "False\n",
      "True\n"
     ]
    }
   ],
   "source": [
    "class ExampleClass:\n",
    "    __a = 1\n",
    "    def __init__(self):\n",
    "        self.b = 2\n",
    "\n",
    "\n",
    "example_object = ExampleClass()\n",
    "\n",
    "print(hasattr(example_object, 'b'))\n",
    "print(hasattr(example_object, '_ExampleClass__a'))\n",
    "print(hasattr(ExampleClass, 'b'))   # This is false only because the instance variable is created when the object is created\n",
    "print(hasattr(ExampleClass, '_ExampleClass__a'))\n",
    "\n"
   ]
  },
  {
   "cell_type": "markdown",
   "metadata": {},
   "source": [
    "### Methods in Detail\n",
    "\n"
   ]
  },
  {
   "cell_type": "markdown",
   "metadata": {},
   "source": [
    "A method is a **fucntion embedded inside a class.**\n",
    "\n",
    "* A method is **obliged to have atleast 1 parameter.** A method can be invoked without any argument but `cant be declared wihtout a parameter`. Ex: \n",
    "\n",
    "    - def method(self)\n",
    "    \n",
    "    \n",
    "    \n",
    "* All the parameters defined should be after `self`.\n",
    "\n",
    "\n",
    "* The `self` paramters is used to **obtain access to the objects instance and class variables.**\n",
    "\n",
    "\n",
    "* The `self` paramter is also **used to invoke other object/class methods from inside the class**\n",
    "\n"
   ]
  },
  {
   "cell_type": "code",
   "execution_count": 47,
   "metadata": {
    "scrolled": true
   },
   "outputs": [
    {
     "name": "stdout",
     "output_type": "stream",
     "text": [
      "method\n",
      "other\n"
     ]
    }
   ],
   "source": [
    "class Class1:\n",
    "    def other(self):\n",
    "        print(\"other\")\n",
    "\n",
    "    def method(self):\n",
    "        print(\"method\")\n",
    "        self.other()      ## using SELF we are calling the a method inside the class\n",
    "\n",
    "\n",
    "obj = Class1()\n",
    "obj.method()\n",
    "\n"
   ]
  },
  {
   "cell_type": "markdown",
   "metadata": {},
   "source": [
    "#### Constructor\n",
    "\n",
    "* Using `__init__` will ONLY **create a CONSTRUCTOR** which is not a regular method.\n",
    "\n",
    "\n",
    "* **If a class has a constructor, it is invoked automatically and implicitly when the object of the class is instantiated.**\n",
    "\n",
    "\n",
    "* `self` has to be a parameter for a constructor\n",
    "\n",
    "\n",
    "* It may have more parameters **but doesnt need to have more paramters other than `self`**\n",
    "\n",
    "\n",
    "* `__init__` main function is to properly initialize the internal state of the object iee\n",
    "    - To create instance variables\n",
    "    - instantiate any other objects if needed\n",
    "    - correct internal state of the object\n",
    "    \n",
    "    \n",
    "    \n",
    "**CONSTRUCTOR IS NOT**\n",
    "\n",
    "* **It can't return a value** it is only designed to `return a newly created object and nothing else`\n",
    "\n",
    "\n",
    "* **It can't be invoked directly either from the object or from inside the class**. You can invoke a constructor from any of the objects subclasses"
   ]
  },
  {
   "cell_type": "code",
   "execution_count": 48,
   "metadata": {
    "scrolled": true
   },
   "outputs": [
    {
     "name": "stdout",
     "output_type": "stream",
     "text": [
      "visible\n",
      "failed\n",
      "hidden\n"
     ]
    }
   ],
   "source": [
    "class Classy:\n",
    "    def visible(self):\n",
    "        print(\"visible\")\n",
    "    \n",
    "    def __hidden(self):\n",
    "        print(\"hidden\")\n",
    "\n",
    "\n",
    "obj = Classy()\n",
    "obj.visible()\n",
    "\n",
    "try:\n",
    "    obj.__hidden()\n",
    "except:\n",
    "    print(\"failed\")\n",
    "\n",
    "obj._Classy__hidden()\n",
    "\n"
   ]
  },
  {
   "cell_type": "markdown",
   "metadata": {},
   "source": [
    "#### Inner Life of Classess"
   ]
  },
  {
   "cell_type": "code",
   "execution_count": 52,
   "metadata": {},
   "outputs": [
    {
     "name": "stdout",
     "output_type": "stream",
     "text": [
      "Classy\n",
      "{'__module__': '__main__', 'varia': 1, '__init__': <function Classy.__init__ at 0x000002430C2F3048>, 'method': <function Classy.method at 0x000002430C048CA8>, '_Classy__hidden': <function Classy.__hidden at 0x000002430C048C18>, '__dict__': <attribute '__dict__' of 'Classy' objects>, '__weakref__': <attribute '__weakref__' of 'Classy' objects>, '__doc__': None}\n"
     ]
    }
   ],
   "source": [
    "class Classy:\n",
    "    varia = 1\n",
    "    def __init__(self):\n",
    "        self.var = 2\n",
    "\n",
    "    def method(self):\n",
    "        pass\n",
    "\n",
    "    def __hidden(self):\n",
    "        pass\n",
    "\n",
    "\n",
    "obj = Classy()\n",
    "\n",
    "print(obj.__dict__)      ### dict of an object \n",
    "print(Classy.__dict__)   ### dict of a class"
   ]
  },
  {
   "cell_type": "markdown",
   "metadata": {},
   "source": [
    "1. In order to know **which CLASS does the object belong to**:\n",
    "\n",
    "**`type(<obj_name>).__name__`**"
   ]
  },
  {
   "cell_type": "code",
   "execution_count": 50,
   "metadata": {
    "scrolled": true
   },
   "outputs": [
    {
     "name": "stdout",
     "output_type": "stream",
     "text": [
      "Classy\n",
      "Classy\n"
     ]
    }
   ],
   "source": [
    "class Classy:\n",
    "    pass\n",
    "\n",
    "obj = Classy()\n",
    "print(type(obj).__name__)   # Prints the name of the class to which object belongs\n",
    "\n",
    "print(Classy.__name__)    ## print name of class\n"
   ]
  },
  {
   "cell_type": "markdown",
   "metadata": {},
   "source": [
    "2. In order to know which **module** contains the definition of the class:\n",
    "\n",
    "**`<obj_name>.__module__`**"
   ]
  },
  {
   "cell_type": "code",
   "execution_count": 70,
   "metadata": {},
   "outputs": [
    {
     "name": "stdout",
     "output_type": "stream",
     "text": [
      "__main__\n",
      "__main__\n"
     ]
    }
   ],
   "source": [
    "class Classy:\n",
    "    pass\n",
    "\n",
    "obj = Classy()\n",
    "print(obj.__module__)       ## shows the module in which objt is declared\n",
    "print(Classy.__module__)   ## shows the module in which class is declared\n",
    "\n"
   ]
  },
  {
   "cell_type": "markdown",
   "metadata": {},
   "source": [
    "2. In order to know **what is the superclass of a class** \n",
    "\n",
    "**`<class_name>.__bases__`**: It returns a tuple\n",
    "\n",
    "\n",
    "\n",
    "**`<class_name>.__base__`**: It returns 1 name"
   ]
  },
  {
   "cell_type": "code",
   "execution_count": 67,
   "metadata": {},
   "outputs": [
    {
     "name": "stdout",
     "output_type": "stream",
     "text": [
      "(<class 'object'>,)\n",
      "(<class 'object'>,)\n",
      "(<class '__main__.SuperOne'>, <class '__main__.SuperTwo'>)\n",
      "<class '__main__.SuperOne'>\n"
     ]
    }
   ],
   "source": [
    "class SuperOne:\n",
    "    pass\n",
    "\n",
    "\n",
    "class SuperTwo:\n",
    "    pass\n",
    "\n",
    "\n",
    "class Sub(SuperOne, SuperTwo):\n",
    "    pass\n",
    "\n",
    "print(SuperOne.__bases__)\n",
    "print(SuperTwo.__bases__)\n",
    "print(Sub.__bases__)   # Returns a tuple\n",
    "print(Sub.__base__)   # Returns only 1 result\n"
   ]
  },
  {
   "cell_type": "markdown",
   "metadata": {},
   "source": [
    "####  Reflection\n",
    "\n",
    "It is the ability of a program to **manipulate the values, properties and/or functions of an OBJECT `at RUNTIME`**\n"
   ]
  },
  {
   "cell_type": "markdown",
   "metadata": {},
   "source": [
    "####  Introspection\n",
    "\n",
    "It is the ability of a program to **EXAMINE the types of properties of an OBJECT `at RUNTIME`**\n",
    "\n",
    "\n",
    "`getattr()`: takes two arguments: an object, and its property name (as a string), and returns the current attribute's value;\n",
    "\n",
    "\n",
    "\n",
    "`isinstance()`: check if the value is of type integer"
   ]
  },
  {
   "cell_type": "code",
   "execution_count": 37,
   "metadata": {
    "scrolled": true
   },
   "outputs": [
    {
     "name": "stdout",
     "output_type": "stream",
     "text": [
      "0\n",
      "99\n"
     ]
    },
    {
     "data": {
      "text/plain": [
       "False"
      ]
     },
     "execution_count": 37,
     "metadata": {},
     "output_type": "execute_result"
    }
   ],
   "source": [
    "class MyClass:\n",
    "    gg=0\n",
    "    pass\n",
    "\n",
    "obj = MyClass()\n",
    "obj.a = 1\n",
    "obj.b = 2\n",
    "obj.i = 3\n",
    "obj.ireal = 3.5\n",
    "obj.integer = 4\n",
    "obj.z = 5\n",
    "\n",
    "\n",
    "#for name in obj.__dict__.keys():\n",
    "#    print(name)\n",
    "#    val = getattr(obj, name)\n",
    "##    print(val)\n",
    "#   mar=isinstance(val, float)\n",
    "#    print(mar)\n",
    "        #        setattr(obj, name, val + 1)\n",
    "\n",
    "\n",
    "#print(obj.__dict__)\n",
    "\n",
    "print(getattr(obj,'gg'))\n",
    "setattr(obj,'gg',99)\n",
    "print(getattr(obj,'gg'))\n",
    "\n",
    "#isinstance(obj,MyClass)\n",
    "#isinstance('z',int)\n",
    "#incIntsI(obj)\n",
    "#print(obj.__dict__)\n"
   ]
  },
  {
   "cell_type": "markdown",
   "metadata": {},
   "source": [
    "##  Examples and Exercises\n",
    "\n",
    "A method named `__str__()` is responsible for converting an object's contents into a (more or less) readable string. You can redefine it if you want your object to be able to present itself in a more elegant form."
   ]
  },
  {
   "cell_type": "markdown",
   "metadata": {},
   "source": [
    "####  TRICKY"
   ]
  },
  {
   "cell_type": "code",
   "execution_count": 9,
   "metadata": {},
   "outputs": [
    {
     "name": "stdout",
     "output_type": "stream",
     "text": [
      "Python is a Snake\n",
      "Snake can be Python\n"
     ]
    }
   ],
   "source": [
    "class Snake:\n",
    "    pass\n",
    "\n",
    "\n",
    "class Python(Snake):\n",
    "    pass\n",
    "\n",
    "\n",
    "print(Python.__name__, 'is a', Snake.__name__)\n",
    "print(Python.__bases__[0].__name__, 'can be', Python.__name__)"
   ]
  },
  {
   "cell_type": "markdown",
   "metadata": {},
   "source": [
    "####  24-Hr Clock"
   ]
  },
  {
   "cell_type": "code",
   "execution_count": 99,
   "metadata": {
    "scrolled": false
   },
   "outputs": [
    {
     "name": "stdout",
     "output_type": "stream",
     "text": [
      "18:10:59\n",
      "18:11:0\n",
      "18:10:59\n"
     ]
    }
   ],
   "source": [
    "class Timer:\n",
    "    def __init__(self, h, m ,s):\n",
    "        self.__h=h\n",
    "        self.__m=m\n",
    "        self.__s=s\n",
    "\n",
    "    def __str__(self):\n",
    "        return str(self.__h)+\":\"+str(self.__m)+\":\"+str(self.__s)\n",
    "    \n",
    "    def next_second(self):\n",
    "        self.__s+=1\n",
    "        if self.__s > 59:\n",
    "            self.__m+=1\n",
    "            self.__s=0 \n",
    "            if self.__m > 59:\n",
    "                self.__h+=1\n",
    "                self.__m=0\n",
    "                if self.__h > 23:\n",
    "                    self.__h=0\n",
    "        \n",
    "        #return print_time(str(self.__h), str(self.__m), str(self.__s))\n",
    "    \n",
    "    def prev_second(self):\n",
    "        self.__s-=1\n",
    "        if self.__s < 0:\n",
    "            self.__m-=1\n",
    "            self.__s=59 \n",
    "            if self.__m < 0:\n",
    "                self.__h-=1\n",
    "                self.__m=59\n",
    "                if self.__h < 0:\n",
    "                    self.__h=23\n",
    "        \n",
    "        #return print_time(str(self.__h), str(self.__m), str(self.__s))\n",
    "\n",
    "    \n",
    "#def print_time(h,m,s):\n",
    "   # print(\"{}:{}:{}\".format(h,m,s))\n",
    "\n",
    "timer = Timer(18, 10, 59)\n",
    "print(timer)\n",
    "timer.next_second()\n",
    "print(timer)\n",
    "timer.prev_second()\n",
    "print(timer)\n"
   ]
  },
  {
   "cell_type": "markdown",
   "metadata": {},
   "source": [
    "####  Day adder and substractor"
   ]
  },
  {
   "cell_type": "code",
   "execution_count": 165,
   "metadata": {
    "scrolled": true
   },
   "outputs": [
    {
     "name": "stdout",
     "output_type": "stream",
     "text": [
      "Mon\n",
      "After adding days Tue\n",
      "Mon\n",
      "After substracting days Sat\n",
      "Mon\n",
      "Sorry, I can't serve your request.\n"
     ]
    }
   ],
   "source": [
    "class WeekDayError(Exception):\n",
    "    pass\n",
    "\n",
    "class Weeker:\n",
    "    #\n",
    "    # Write code here\n",
    "    #\n",
    "\n",
    "    def __init__(self, day):\n",
    "        self.d=str(day)\n",
    "        self.range1=(\"Mon\", \"Tue\", \"Wed\", \"Thu\", \"Fri\", \"Sat\", \"Sun\")\n",
    "        \n",
    "        if self.d not in self.range1:\n",
    "            raise WeekDayError\n",
    "\n",
    "    def __str__(self):\n",
    "        return self.d\n",
    "        \n",
    "    def add_days(self, n):\n",
    "        self.no_days=int(n)\n",
    "        if (self.no_days % 7) == 0:\n",
    "            return print(\"After adding days\",self.d)\n",
    "        else:\n",
    "            self.index_old = self.range1.index(self.d)\n",
    "            self.n_index = self.index_old + (self.no_days % 7)\n",
    "            return print(\"After adding days\",self.range1[self.n_index])\n",
    "\n",
    "    def subtract_days(self, n):\n",
    "        self.no_days=int(n)\n",
    "        if (self.no_days % 7) == 0:\n",
    "            return print(\"After substracting days\",self.d)\n",
    "        else:\n",
    "            self.index_old = self.range1.index(self.d)\n",
    "            self.n_index = self.index_old - (self.no_days % 7)\n",
    "            return print(\"After substracting days\",self.range1[self.n_index])\n",
    "\n",
    "\n",
    "try:\n",
    "    weekday = Weeker('Mon')\n",
    "    print(weekday)\n",
    "    weekday.add_days(15)\n",
    "    print(weekday)\n",
    "    weekday.subtract_days(23)\n",
    "    print(weekday)\n",
    "    weekday = Weeker('Monday')\n",
    "except WeekDayError:\n",
    "    print(\"Sorry, I can't serve your request.\")"
   ]
  },
  {
   "cell_type": "markdown",
   "metadata": {},
   "source": [
    "####  Euclidian Distance\n",
    "\n",
    "Focus on the part where another objects points are given as an argument. \n",
    "\n",
    "`point._Point__x`"
   ]
  },
  {
   "cell_type": "code",
   "execution_count": 166,
   "metadata": {},
   "outputs": [
    {
     "name": "stdout",
     "output_type": "stream",
     "text": [
      "1.4142135623730951\n",
      "1.4142135623730951\n"
     ]
    }
   ],
   "source": [
    "import math\n",
    "\n",
    "\n",
    "class Point:\n",
    "    def __init__(self, x=0.0, y=0.0):\n",
    "        self.__x=x\n",
    "        self.__y=y\n",
    "\n",
    "    def getx(self):\n",
    "        return print(self.__x)\n",
    "\n",
    "    def gety(self):\n",
    "        return print(self.__y)\n",
    "\n",
    "    def distance_from_xy(self, x, y):\n",
    "        return math.sqrt((x-self.__x)**2 + (y-self.__y)**2)\n",
    "\n",
    "    def distance_from_point(self, point):\n",
    "        #print(point._Point__x,point._Point__y)\n",
    "        return math.sqrt((point._Point__x-self.__x)**2 + (point._Point__y-self.__y)**2)\n",
    "\n",
    "    \n",
    "point1 = Point(0, 0)\n",
    "point2 = Point(1, 1)\n",
    "print(point1.distance_from_point(point2))\n",
    "print(point2.distance_from_xy(2, 0))\n"
   ]
  },
  {
   "cell_type": "markdown",
   "metadata": {},
   "source": [
    "#### Perimeter of a Triangle\n",
    "\n"
   ]
  },
  {
   "cell_type": "code",
   "execution_count": 176,
   "metadata": {},
   "outputs": [
    {
     "name": "stdout",
     "output_type": "stream",
     "text": [
      "3.414213562373095\n"
     ]
    }
   ],
   "source": [
    "import math\n",
    "\n",
    "\n",
    "class Point:\n",
    "    def __init__(self, x=0.0, y=0.0):\n",
    "        self.__x=x\n",
    "        self.__y=y\n",
    "\n",
    "\n",
    "class Triangle:\n",
    "    def __init__(self, vertice1, vertice2, vertice3):\n",
    "        self.v_x1 = vertice1._Point__x\n",
    "        self.v_y1 = vertice1._Point__y\n",
    "        self.v_x2 = vertice2._Point__x\n",
    "        self.v_y2 = vertice2._Point__y\n",
    "        self.v_x3 = vertice3._Point__x\n",
    "        self.v_y3 = vertice3._Point__y\n",
    "\n",
    "        \n",
    "    def perimeter(self):\n",
    "        d1 = math.sqrt((self.v_x1 - self.v_x2)**2 + (self.v_y1 - self.v_y2)**2)\n",
    "        d2 = math.sqrt((self.v_x1 - self.v_x3)**2 + (self.v_y1 - self.v_y3)**2)\n",
    "        d3 = math.sqrt((self.v_x2 - self.v_x3)**2 + (self.v_y2 - self.v_y3)**2)\n",
    "        return (d1+d2+d3)\n",
    "\n",
    "\n",
    "triangle = Triangle(Point(0, 0), Point(1, 0), Point(0, 1))\n",
    "print(triangle.perimeter())\n"
   ]
  }
 ],
 "metadata": {
  "kernelspec": {
   "display_name": "Python 3",
   "language": "python",
   "name": "python3"
  },
  "language_info": {
   "codemirror_mode": {
    "name": "ipython",
    "version": 3
   },
   "file_extension": ".py",
   "mimetype": "text/x-python",
   "name": "python",
   "nbconvert_exporter": "python",
   "pygments_lexer": "ipython3",
   "version": "3.7.6"
  }
 },
 "nbformat": 4,
 "nbformat_minor": 4
}
