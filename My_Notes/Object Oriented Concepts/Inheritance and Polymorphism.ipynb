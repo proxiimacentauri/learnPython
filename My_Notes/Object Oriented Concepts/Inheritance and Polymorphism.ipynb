{
 "cells": [
  {
   "cell_type": "markdown",
   "id": "d2c667b9",
   "metadata": {},
   "source": [
    "## Inheritance and Polymorphism"
   ]
  },
  {
   "cell_type": "markdown",
   "id": "86db2245",
   "metadata": {},
   "source": [
    "- Inheritance creates class hierarchy\n",
    "- Any object bound to a specific level of class hierarchy will inherit all the traits defiened inside any of the super classes\n",
    "- Superclassses are general\n",
    "- Subclasses are more specialized"
   ]
  },
  {
   "cell_type": "markdown",
   "id": "14533a2f",
   "metadata": {},
   "source": [
    "### MRO (Method Resolution Order)\n",
    "\n",
    "- In multiple inheritance any specific attribute is searched for 1st in the **current class**.\n",
    "- If NOT found\n",
    "- Search will continue into the direct **Parent Classes** (first level above) `Left ---> Right`\n",
    "\n",
    "This is the MRO"
   ]
  },
  {
   "cell_type": "code",
   "execution_count": null,
   "id": "087807a7",
   "metadata": {},
   "outputs": [],
   "source": [
    "class A:\n",
    "    def info(self):\n",
    "        print(\"Class A\")\n",
    "    \n",
    "class B(A):\n",
    "    def info(self):\n",
    "        print(\"Class B\")\n",
    "    \n",
    "\n",
    "class C(A):\n",
    "    def info(self):\n",
    "        print(\"Class C\")\n",
    "\n",
    "class D(B,C):\n",
    "    pass\n",
    "\n",
    "D().info()"
   ]
  },
  {
   "cell_type": "markdown",
   "id": "95e38d56",
   "metadata": {},
   "source": [
    "**In the below case MRO will NOT work**"
   ]
  },
  {
   "cell_type": "code",
   "execution_count": null,
   "id": "4205a9ac",
   "metadata": {
    "scrolled": true
   },
   "outputs": [],
   "source": [
    "class A:\n",
    "    def info(self):\n",
    "        print(\"Class A\")\n",
    "    \n",
    "class B(A):\n",
    "    def info(self):\n",
    "        print(\"Class B\")\n",
    "    \n",
    "\n",
    "class C(A):\n",
    "    def info(self):\n",
    "        print(\"Class C\")\n",
    "\n",
    "class D(A,C):\n",
    "    pass\n",
    "\n",
    "D().info()"
   ]
  },
  {
   "cell_type": "markdown",
   "id": "c688c1a3",
   "metadata": {},
   "source": [
    "#### Order matters when listing superclass in definition of subclass"
   ]
  },
  {
   "cell_type": "code",
   "execution_count": 2,
   "id": "04a665ee",
   "metadata": {
    "scrolled": true
   },
   "outputs": [
    {
     "name": "stdout",
     "output_type": "stream",
     "text": [
      "Class B\n",
      "Class C\n"
     ]
    }
   ],
   "source": [
    "class A:\n",
    "    def info(self):\n",
    "        print(\"Class A\")\n",
    "    \n",
    "class B(A):\n",
    "    def info(self):\n",
    "        print(\"Class B\")\n",
    "    \n",
    "\n",
    "class C(A):\n",
    "    def info(self):\n",
    "        print(\"Class C\")\n",
    "\n",
    "class D(B,C):\n",
    "    pass\n",
    "\n",
    "class E(C,B):\n",
    "    pass\n",
    "\n",
    "\n",
    "D().info()\n",
    "E().info()"
   ]
  },
  {
   "cell_type": "markdown",
   "id": "74ef2acf",
   "metadata": {},
   "source": [
    "## Polymorphism\n",
    "\n",
    "It is the provision of a single interface to objects of diff types.\n",
    "\n",
    "- Its used when diff class objs share conceptually similar methods (not always inherited)\n",
    "\n",
    "\n",
    "Ex. \n",
    "- Lets suppose we want to print a string or an integer\n",
    "\n",
    "- We know that `print()` is an object which can take an arg\n",
    "\n",
    "- But we dont want a `print_string()` and `print_int()` we just want 1 function called `print()`\n",
    "\n",
    "- However inside it, the `string` and the `int` is handeled differently\n",
    "\n",
    "- Therefore, we have a common interface `print()` which an abtract interface independant of the type of value to be printed.\n",
    "\n"
   ]
  },
  {
   "cell_type": "code",
   "execution_count": 4,
   "id": "2174796c",
   "metadata": {},
   "outputs": [
    {
     "name": "stdout",
     "output_type": "stream",
     "text": [
      "This is Radio\n",
      "This is Radio\n",
      "This is a Portable Radio\n",
      "This is a TV Set\n"
     ]
    }
   ],
   "source": [
    "class Device:\n",
    "    def turn_on(self):\n",
    "        print(\"This is Radio\")\n",
    "\n",
    "class Radio(Device):\n",
    "    pass\n",
    "\n",
    "class PortRadio(Device):\n",
    "    def turn_on(self):\n",
    "        print(\"This is a Portable Radio\")\n",
    "    \n",
    "class TvSet(Device):\n",
    "    def turn_on(self):\n",
    "        print(\"This is a TV Set\")\n",
    "        \n",
    "\n",
    "dev = Device()\n",
    "radio = Radio()\n",
    "pradio = PortRadio()\n",
    "tv = TvSet()\n",
    "\n",
    "for i in (dev, radio, pradio, tv):\n",
    "    i.turn_on()"
   ]
  },
  {
   "cell_type": "markdown",
   "id": "007f0703",
   "metadata": {},
   "source": [
    "**It means the same function name (but different signatures) being used for different types.**"
   ]
  },
  {
   "cell_type": "code",
   "execution_count": 1,
   "id": "8bfadfc6",
   "metadata": {},
   "outputs": [
    {
     "name": "stdout",
     "output_type": "stream",
     "text": [
      "New Delhi\n",
      "Hindi\n",
      "Developing\n",
      "Washington, D.C.\n",
      "English\n",
      "Developed\n"
     ]
    }
   ],
   "source": [
    "class India():\n",
    "    def capital(self):\n",
    "        print(\"New Delhi\")\n",
    " \n",
    "    def language(self):\n",
    "        print(\"Hindi\")\n",
    " \n",
    "    def type(self):\n",
    "        print(\"Developing\")\n",
    " \n",
    "class USA():\n",
    "    def capital(self):\n",
    "        print(\"Washington, D.C.\")\n",
    " \n",
    "    def language(self):\n",
    "        print(\"English\")\n",
    " \n",
    "    def type(self):\n",
    "        print(\"Developed\")\n",
    " \n",
    "obj_ind = India()\n",
    "obj_usa = USA()\n",
    "for country in (obj_ind, obj_usa):\n",
    "    country.capital()\n",
    "    country.language()\n",
    "    country.type()"
   ]
  },
  {
   "cell_type": "markdown",
   "id": "99a352a3",
   "metadata": {},
   "source": [
    "#### Inheritance\n",
    "- `Radio()` is inheriting `turn_on()` from its superclass.\n",
    "- The other subclass overrides the methods from superclass, hence we see different string printed.\n",
    "\n",
    "#### Polymorphism\n",
    "- All class instances allow calling of `turn_on()` even when you refer to objects using arbitirary var"
   ]
  },
  {
   "cell_type": "markdown",
   "id": "e0c1d647",
   "metadata": {},
   "source": [
    "### Duck Typing\n",
    "\n",
    "- Both `Wax()` and `Cheese()` have `melt()` methods.\n",
    "- But they represent totally different things which are unrelated.\n",
    "- Since `Wood()` class doesnt have `melt()` it will raise an `AttributeError`"
   ]
  },
  {
   "cell_type": "code",
   "execution_count": 6,
   "id": "bde87f07",
   "metadata": {},
   "outputs": [
    {
     "name": "stdout",
     "output_type": "stream",
     "text": [
      "Wax will Melt and can be used to make candles\n",
      "Melted Cheese is great for Fondue\n",
      "No melt()\n"
     ]
    }
   ],
   "source": [
    "class Wax:\n",
    "    def melt(self):\n",
    "        print (\"Wax will Melt and can be used to make candles\")\n",
    "\n",
    "class Cheese:\n",
    "    def melt(self):\n",
    "        print(\"Melted Cheese is great for Fondue\")\n",
    "        \n",
    "class Wood:\n",
    "    def burn(self):\n",
    "        print(\"Provides Heat\")\n",
    "        \n",
    "w = Wax()\n",
    "c = Cheese()\n",
    "wo = Wood()\n",
    "\n",
    "for i in (w, c, wo):\n",
    "    try:\n",
    "        i.melt()\n",
    "    except AttributeError:\n",
    "        print(\"No melt()\")"
   ]
  }
 ],
 "metadata": {
  "kernelspec": {
   "display_name": "Python 3 (ipykernel)",
   "language": "python",
   "name": "python3"
  },
  "language_info": {
   "codemirror_mode": {
    "name": "ipython",
    "version": 3
   },
   "file_extension": ".py",
   "mimetype": "text/x-python",
   "name": "python",
   "nbconvert_exporter": "python",
   "pygments_lexer": "ipython3",
   "version": "3.9.12"
  }
 },
 "nbformat": 4,
 "nbformat_minor": 5
}
