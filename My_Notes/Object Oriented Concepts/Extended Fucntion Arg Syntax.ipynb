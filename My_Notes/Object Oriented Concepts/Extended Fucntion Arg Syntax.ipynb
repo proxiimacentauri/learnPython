{
 "cells": [
  {
   "cell_type": "markdown",
   "id": "11e74bfc",
   "metadata": {},
   "source": [
    "## Extended Fucntion Arg Syntax\n"
   ]
  },
  {
   "cell_type": "markdown",
   "id": "870bca43",
   "metadata": {},
   "source": [
    "### `*args`\n",
    "\n",
    "- Refers to a **tuple of all additional, not explicitly expected positional arguments**\n",
    "- Collects Args passed **without keywords and passed next after the expected arguments**\n",
    "- Collects **ALL unmatched positional args**\n",
    "\n",
    "\n",
    "## `**kwargs`\n",
    "\n",
    "\n",
    "- Refers to a dictionary of all unexpected arguments that were **passed in the form of keyword=value pairs.**"
   ]
  },
  {
   "cell_type": "code",
   "execution_count": null,
   "id": "8e97ae97",
   "metadata": {},
   "outputs": [],
   "source": [
    "def test_f(a,b,*args,**kwargs):\n",
    "    print(a)\n",
    "    print(b)\n",
    "    print(args)\n",
    "    print(kwargs)\n",
    "    \n",
    "test_f (1,2,3,4,5,6,ak=7,ai=8)"
   ]
  },
  {
   "cell_type": "code",
   "execution_count": null,
   "id": "40826b2c",
   "metadata": {},
   "outputs": [],
   "source": [
    "def test_f(a,b,*m,**mm):\n",
    "    print(a)\n",
    "    print(b)\n",
    "    print(m)\n",
    "    print(mm)\n",
    "    \n",
    "test_f (1,2,3,4,5,6,ak=7,ai=8)"
   ]
  },
  {
   "cell_type": "markdown",
   "id": "57b0f560",
   "metadata": {},
   "source": [
    "- `*args` and `**kwargs` should be put as the **last two parameters**\n",
    "- Their names could be changed because it is just a convention.\n",
    "- More Important to **sustain the order of the parameters and leading asterisks**."
   ]
  },
  {
   "cell_type": "markdown",
   "id": "a68b24b9",
   "metadata": {},
   "source": [
    "### Forwading Args to other Functions"
   ]
  },
  {
   "cell_type": "markdown",
   "id": "060c3b60",
   "metadata": {},
   "source": [
    "Here we are able to Pass the `*arg` and `**kwarg` to a sub_func:\n",
    "- When we do that it will get the tuple and the dictionary"
   ]
  },
  {
   "cell_type": "code",
   "execution_count": null,
   "id": "1d0abbf2",
   "metadata": {},
   "outputs": [],
   "source": [
    "def super_func(a,b, *arg, **kwarg):\n",
    "    sub_func(*arg, **kwarg)\n",
    "    \n",
    "def sub_func(*y, **yy):\n",
    "    print(\"my args\", y)\n",
    "    print(\"my kwargs\", yy)\n",
    "    \n",
    "super_func(10,\"aki\", 9, 987, val=90, time=1080)"
   ]
  },
  {
   "cell_type": "markdown",
   "id": "a64115fe",
   "metadata": {},
   "source": [
    "- Here we remove the `*` and `**` from the `sub_func` call\n",
    "- All the Params will be handedled by `*y` both the tuple and the dictionary."
   ]
  },
  {
   "cell_type": "code",
   "execution_count": null,
   "id": "a0ce3c38",
   "metadata": {},
   "outputs": [],
   "source": [
    "def super_func(a,b, *arg, **kwarg):\n",
    "    sub_func(arg, kwarg)\n",
    "    \n",
    "def sub_func(*y, **yy):\n",
    "    print(\"my args\", y)\n",
    "    print(\"my kwargs\", yy)\n",
    "    \n",
    "super_func(10,\"aki\", 9, 987, val=90, time=1080)"
   ]
  },
  {
   "cell_type": "markdown",
   "id": "0a45157a",
   "metadata": {},
   "source": [
    "- Here we can combine a `keyword ak=88` with args and kwargs"
   ]
  },
  {
   "cell_type": "code",
   "execution_count": null,
   "id": "fd3432a8",
   "metadata": {},
   "outputs": [],
   "source": [
    "def super_func(a,b, *arg,ak=88, **kwarg):\n",
    "    sub_func(ak, *arg, **kwarg)\n",
    "    \n",
    "def sub_func(var, *y, **yy):\n",
    "    print(\"my ak\", var)\n",
    "    print(\"my args\", y)\n",
    "    print(\"my kwargs\", yy)\n",
    "    \n",
    "super_func(10,\"aki\", 9, 987, val=90,ak=80, time=1080)"
   ]
  },
  {
   "cell_type": "markdown",
   "id": "844732b6",
   "metadata": {},
   "source": [
    "## Decorators with Functions"
   ]
  },
  {
   "cell_type": "markdown",
   "id": "3e943f6e",
   "metadata": {},
   "source": [
    "- It is a function/class which wraps an original functions with decorations.\n",
    "- The decorating functions takes the parameters of the orig function and perform additional actions.\n",
    "- Ex: The decorating function can calculate the time it takes to execute a function.\n",
    "\n",
    "\n",
    "- Decorating Functions perform operations before and after a call to the orig funciton **OR to even prevent its execution depending upon the circumstances.**\n",
    "\n",
    "\n",
    "- Uses:\n",
    " - Validation of Args\n",
    " - Modification of Args\n",
    " - Modification of returned objects\n",
    " - Measurement of execution time\n",
    " - message logging\n",
    " - thread synchronization\n",
    " - code refactorization\n",
    " - caching\n",
    "  "
   ]
  },
  {
   "cell_type": "code",
   "execution_count": 2,
   "id": "febaf3e8",
   "metadata": {},
   "outputs": [
    {
     "name": "stdout",
     "output_type": "stream",
     "text": [
      "We are about to call \"hello\"\n",
      "Hello from simple function!\n"
     ]
    }
   ],
   "source": [
    "def decorator_func(function):\n",
    "    print('We are about to call \"{}\"'.format(function.__name__))\n",
    "    return function\n",
    "\n",
    "def hello():\n",
    "    print(\"Hello from simple function!\")\n",
    "    \n",
    "deco_obj = decorator_func(hello)\n",
    "deco_obj()"
   ]
  },
  {
   "cell_type": "code",
   "execution_count": 1,
   "id": "831cf600",
   "metadata": {},
   "outputs": [
    {
     "name": "stdout",
     "output_type": "stream",
     "text": [
      "We are about to call \"hello\"\n",
      "Hello from simple function!\n"
     ]
    }
   ],
   "source": [
    "def decorator_func(function):\n",
    "    print('We are about to call \"{}\"'.format(function.__name__))\n",
    "    return function\n",
    "\n",
    "@decorator_func\n",
    "def hello():\n",
    "    print(\"Hello from simple function!\")\n",
    "\n",
    "\n",
    "hello()"
   ]
  },
  {
   "cell_type": "markdown",
   "id": "26d660b8",
   "metadata": {},
   "source": [
    "The above 2 are exactly the same, but the one below has a cleaner syntax which python allows."
   ]
  },
  {
   "cell_type": "code",
   "execution_count": 4,
   "id": "bf85d54e",
   "metadata": {},
   "outputs": [
    {
     "name": "stdout",
     "output_type": "stream",
     "text": [
      "Function Name addition_func\n",
      "Function Args ('a', 90) {'p': 88}\n",
      "Args Recieved by the Orig Functions are: ('a', 90) {'p': 88}\n",
      "Decorator can still run after the function call\n"
     ]
    }
   ],
   "source": [
    "def decorator_f(function):\n",
    "    \n",
    "    def wrapper(*args,**kwargs):\n",
    "        print(\"Function Name\",function.__name__)\n",
    "        print(\"Function Args\",args, kwargs)\n",
    "        function(*args,**kwargs)\n",
    "        print(\"Decorator can still run after the function call\")\n",
    "\n",
    "    return wrapper\n",
    "\n",
    "@decorator_f\n",
    "def addition_func(*args, **kwargs):\n",
    "    print(\"Args Recieved by the Orig Functions are:\",args, kwargs)\n",
    "    \n",
    "\n",
    "addition_func ('a', 90,p=88)"
   ]
  },
  {
   "cell_type": "code",
   "execution_count": 5,
   "id": "106723bc",
   "metadata": {},
   "outputs": [
    {
     "name": "stdout",
     "output_type": "stream",
     "text": [
      "<strong>*</strong> Wrapping items from pack_books with kraft\n",
      "We'll pack books: ('Alice in Wonderland', 'Winnie the Pooh')\n",
      "\n",
      "<strong>*</strong> Wrapping items from pack_toys with foil\n",
      "We'll pack toys: ('doll', 'car')\n",
      "\n",
      "<strong>*</strong> Wrapping items from pack_fruits with cardboard\n",
      "We'll pack fruits: ('plum', 'pear')\n",
      "\n"
     ]
    }
   ],
   "source": [
    "def warehouse_decorator(material):\n",
    "    def wrapper(our_function):\n",
    "        def internal_wrapper(*args):\n",
    "            print('<strong>*</strong> Wrapping items from {} with {}'.format(our_function.__name__, material))\n",
    "            our_function(*args)\n",
    "            print()\n",
    "        return internal_wrapper\n",
    "    return wrapper\n",
    "\n",
    "\n",
    "@warehouse_decorator('kraft')\n",
    "def pack_books(*args):\n",
    "    print(\"We'll pack books:\", args)\n",
    "\n",
    "\n",
    "@warehouse_decorator('foil')\n",
    "def pack_toys(*args):\n",
    "    print(\"We'll pack toys:\", args)\n",
    "\n",
    "\n",
    "@warehouse_decorator('cardboard')\n",
    "def pack_fruits(*args):\n",
    "    print(\"We'll pack fruits:\", args)\n",
    "\n",
    "\n",
    "pack_books('Alice in Wonderland', 'Winnie the Pooh')\n",
    "pack_toys('doll', 'car')\n",
    "pack_fruits('plum', 'pear')"
   ]
  },
  {
   "cell_type": "code",
   "execution_count": 6,
   "id": "c08af6ec",
   "metadata": {},
   "outputs": [
    {
     "name": "stdout",
     "output_type": "stream",
     "text": [
      "We'll pack books: ('Alice in Wonderland', 'Winnie the Pooh')\n",
      "<strong>*</strong> Wrapping items from pack_books with bubble foil\n",
      "<strong>*</strong> The whole order would be packed with plain cardboard\n",
      "\n",
      "We'll pack toys: ('doll', 'car')\n",
      "<strong>*</strong> Wrapping items from pack_toys with foil\n",
      "<strong>*</strong> The whole order would be packed with colourful cardboard\n",
      "\n",
      "We'll pack fruits: ('plum', 'pear')\n",
      "<strong>*</strong> Wrapping items from pack_fruits with cardboard\n",
      "<strong>*</strong> The whole order would be packed with strong cardboard\n",
      "\n"
     ]
    }
   ],
   "source": [
    "def big_container(collective_material):\n",
    "    def wrapper(our_function):\n",
    "        def internal_wrapper(*args):\n",
    "            our_function(*args)\n",
    "            print('<strong>*</strong> The whole order would be packed with', collective_material)\n",
    "            print()\n",
    "        return internal_wrapper\n",
    "    return wrapper\n",
    "\n",
    "def warehouse_decorator(material):\n",
    "    def wrapper(our_function):\n",
    "        def internal_wrapper(*args):\n",
    "            our_function(*args)\n",
    "            print('<strong>*</strong> Wrapping items from {} with {}'.format(our_function.__name__, material))\n",
    "        return internal_wrapper\n",
    "    return wrapper\n",
    "\n",
    "@big_container('plain cardboard')\n",
    "@warehouse_decorator('bubble foil')\n",
    "def pack_books(*args):\n",
    "    print(\"We'll pack books:\", args)\n",
    "\n",
    "@big_container('colourful cardboard')\n",
    "@warehouse_decorator('foil')\n",
    "def pack_toys(*args):\n",
    "    print(\"We'll pack toys:\", args)\n",
    "\n",
    "@big_container('strong cardboard')\n",
    "@warehouse_decorator('cardboard')\n",
    "def pack_fruits(*args):\n",
    "    print(\"We'll pack fruits:\", args)\n",
    "\n",
    "\n",
    "pack_books('Alice in Wonderland', 'Winnie the Pooh')\n",
    "pack_toys('doll', 'car')\n",
    "pack_fruits('plum', 'pear')"
   ]
  },
  {
   "cell_type": "markdown",
   "id": "486c1559",
   "metadata": {},
   "source": [
    "## Decorators with Classes"
   ]
  },
  {
   "cell_type": "code",
   "execution_count": null,
   "id": "23eeb11c",
   "metadata": {},
   "outputs": [],
   "source": []
  }
 ],
 "metadata": {
  "kernelspec": {
   "display_name": "Python 3 (ipykernel)",
   "language": "python",
   "name": "python3"
  },
  "language_info": {
   "codemirror_mode": {
    "name": "ipython",
    "version": 3
   },
   "file_extension": ".py",
   "mimetype": "text/x-python",
   "name": "python",
   "nbconvert_exporter": "python",
   "pygments_lexer": "ipython3",
   "version": "3.9.12"
  }
 },
 "nbformat": 4,
 "nbformat_minor": 5
}
