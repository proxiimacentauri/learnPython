{
 "cells": [
  {
   "cell_type": "markdown",
   "id": "7d04a0e9",
   "metadata": {},
   "source": [
    "## Python Core Syntax"
   ]
  },
  {
   "cell_type": "markdown",
   "id": "1533b049",
   "metadata": {},
   "source": [
    "An ability to **perform specific operation on different data types**, when the operations are formulated using same operators/instructions/functions.\n",
    "\n",
    "\n",
    "Python core syntax covers:\n",
    "\n",
    " - `+ - * / %`\n",
    " - `== < > <= in`\n",
    " - indexing\n",
    " - slicing\n",
    " - subscripting\n",
    " - str()\n",
    " - len()\n",
    " - isinstance()\n",
    " - issubclass()\n",
    " \n",
    " and more...\n",
    " \n",
    " \n",
    " \n",
    " Python allows us to **employ CORE operators to our objects**.\n",
    " \n",
    " Example:\n",
    " \n",
    " - A class represents a person, which has set attributes: height, weight, age\n",
    " \n",
    " - If you are dev an application for an elevator, you should kno elevator has safety limits regarding Total Weight\n",
    " \n",
    " - In this case of `+` on a person object should mean: ADD the weight attribute and return the corresponding result."
   ]
  },
  {
   "cell_type": "markdown",
   "id": "1094e752",
   "metadata": {},
   "source": [
    "### Magic Methods / Special Purpose Methods\n",
    "\n",
    "- When functions/operators **that state the CORE syntax** are ----> TRANSLATED into MAGIC methods which are delivered by specific classes.\n",
    "\n",
    "\n",
    "- When the Python Interpreter spots `+` between 2 numbers/strings/objects, **it looks for the magic method responsible for the called func/operator**.\n",
    "\n",
    "> Name of each magic method is surrounded by **double underscore --> dunder** `__add__()`\n",
    "\n",
    "\n",
    "- Dunders indicate such methods are NOT called directly, **but called in process of expression evaluation.**"
   ]
  },
  {
   "cell_type": "code",
   "execution_count": null,
   "id": "4594c479",
   "metadata": {},
   "outputs": [],
   "source": [
    "num = 10\n",
    "print(num + 20)\n",
    "\n",
    "# ↑↑↑↑↑↑↑ The above is translated to below ↓ ↓ ↓ ↓ ↓ \n",
    "\n",
    "print(number.__add__(20))"
   ]
  },
  {
   "cell_type": "markdown",
   "id": "3a3e7b0f",
   "metadata": {},
   "source": [
    "### Under the hood\n",
    "\n",
    "Python is executing the magic method `__add__()` in place of the `+` operator:\n",
    "- On the left operand `num` --> **which is an object** \n",
    "- And the right operand `20` ---> **passed as a method arg**"
   ]
  },
  {
   "cell_type": "code",
   "execution_count": null,
   "id": "ee57edfb",
   "metadata": {},
   "outputs": [],
   "source": [
    "class Person:\n",
    "    def __init__(self, weight, height, age):\n",
    "        self.weight = weight\n",
    "        self.height = height\n",
    "        self.age = age\n",
    "        \n",
    "p1 = Person(150,5,25)\n",
    "p2 = Person(165,6,29)\n",
    "\n",
    "print(p1 + p2)"
   ]
  },
  {
   "cell_type": "markdown",
   "id": "0591c3f0",
   "metadata": {},
   "source": [
    "Here you can see we are overiding the operation of the operator `+`"
   ]
  },
  {
   "cell_type": "code",
   "execution_count": null,
   "id": "d9a80c9d",
   "metadata": {},
   "outputs": [],
   "source": [
    "class Person:\n",
    "    def __init__(self, weight, height, age):\n",
    "        self.weight = weight\n",
    "        self.height = height\n",
    "        self.age = age\n",
    "        \n",
    "    def __add__(self, other_obj):\n",
    "        return self.weight + other_obj.weight\n",
    "        \n",
    "p1 = Person(150,5,25)\n",
    "p2 = Person(165,6,29)\n",
    "\n",
    "print(p1 + p2)"
   ]
  },
  {
   "cell_type": "markdown",
   "id": "e3c3946d",
   "metadata": {},
   "source": [
    "### Helper Functions for Magic Methods"
   ]
  },
  {
   "cell_type": "markdown",
   "id": "1022ea17",
   "metadata": {},
   "source": [
    "`dir()`\n",
    "\n",
    "It returns a list of the attributes and methods of the object."
   ]
  },
  {
   "cell_type": "code",
   "execution_count": null,
   "id": "5eb02c92",
   "metadata": {},
   "outputs": [],
   "source": [
    "print(dir(8))"
   ]
  },
  {
   "cell_type": "code",
   "execution_count": null,
   "id": "bbf5a68f",
   "metadata": {
    "scrolled": true
   },
   "outputs": [],
   "source": [
    "print(dir(str))"
   ]
  },
  {
   "cell_type": "markdown",
   "id": "ce123bbe",
   "metadata": {},
   "source": [
    "`help()`\n",
    "\n",
    "It returns help on each attribute and method"
   ]
  },
  {
   "cell_type": "code",
   "execution_count": null,
   "id": "a582c51d",
   "metadata": {},
   "outputs": [],
   "source": [
    "help(10)"
   ]
  },
  {
   "cell_type": "code",
   "execution_count": null,
   "id": "89f36215",
   "metadata": {},
   "outputs": [],
   "source": [
    "help(str)"
   ]
  },
  {
   "cell_type": "markdown",
   "id": "309acae7",
   "metadata": {},
   "source": [
    "### Comparison methods\n",
    "\n",
    "\n",
    "| Function or operator | Magic method            | Implementation meaning or purpose |\n",
    "| -------------------- | ----------------------- | --------------------------------- |\n",
    "|  |\n",
    "| \\==                  | \\_\\_eq\\_\\_(self, other) | equality operator                 |\n",
    "| !=                   | \\_\\_ne\\_\\_(self, other) | inequality operator               |\n",
    "| <                    | \\_\\_lt\\_\\_(self, other) | less-than operator                |\n",
    "| \\>                   | \\_\\_gt\\_\\_(self, other) | greater-than operator             |\n",
    "| <=                   | \\_\\_le\\_\\_(self, other) | less-than-or-equal-to operator    |\n",
    "| \\>=                  | \\_\\_ge\\_\\_(self, other) | greater-than-or-equal-to operator |"
   ]
  },
  {
   "cell_type": "markdown",
   "id": "34f78c49",
   "metadata": {},
   "source": [
    "### Unary operators and functions\n",
    "\n",
    "| Function or operator | Magic method           | Implementation meaning or purpose     |\n",
    "| -------------------- | ---------------------- | ------------------------------------- |\n",
    "|  |\n",
    "| +                    | \\_\\_pos\\_\\_(self)      | **unary** positive, like a = +b       |\n",
    "| \\-                   | \\_\\_neg\\_\\_(self)      | **unary** negative, like a = -b       |\n",
    "| abs()                | \\_\\_abs\\_\\_(self)      | behavior for abs() function           |\n",
    "| round(a, b)          | \\_\\_round\\_\\_(self, b) | behavior for round() function<br><br> |"
   ]
  },
  {
   "cell_type": "markdown",
   "id": "6df1fefd",
   "metadata": {},
   "source": [
    "### Common, binary operators and functions\n",
    "\n",
    "| Function or operator | Magic method                  | Implementation meaning or purpose |\n",
    "| -------------------- | ----------------------------- | --------------------------------- |\n",
    "|  |\n",
    "| +                    | \\_\\_add\\_\\_(self, other)      | addition operator                 |\n",
    "| \\-                   | \\_\\_sub\\_\\_(self, other)      | subtraction operator              |\n",
    "| \\*                   | \\_\\_mul\\_\\_(self, other)      | multiplication operator           |\n",
    "| //                   | \\_\\_floordiv\\_\\_(self, other) | integer division operator         |\n",
    "| /                    | \\_\\_div\\_\\_(self, other)      | division operator                 |\n",
    "| %                    | \\_\\_mod\\_\\_(self, other)      | modulo operator                   |\n",
    "| \\*\\*                 | \\_\\_pow\\_\\_(self, other)      | exponential (power) operator      |"
   ]
  },
  {
   "cell_type": "markdown",
   "id": "a01034af",
   "metadata": {},
   "source": [
    "### Augumented operators and functions\n",
    "\n",
    "| Function or operator | Magic method                   | Implementation meaning or purpose           |\n",
    "| -------------------- | ------------------------------ | ------------------------------------------- |\n",
    "|  |\n",
    "| +=                   | \\_\\_iadd\\_\\_(self, other)      | addition and assignment operator            |\n",
    "| \\-=                  | \\_\\_isub\\_\\_(self, other)      | subtraction and assignment operator         |\n",
    "| \\*=                  | \\_\\_imul\\_\\_(self, other)      | multiplication and assignment operator      |\n",
    "| //=                  | \\_\\_ifloordiv\\_\\_(self, other) | integer division and assignment operator    |\n",
    "| /=                   | \\_\\_idiv\\_\\_(self, other)      | division and assignment operator            |\n",
    "| %=                   | \\_\\_imod\\_\\_(self, other)      | modulo and assignment operator              |\n",
    "| \\*\\*=                | \\_\\_ipow\\_\\_(self, other)      | exponential (power) and assignment operator |"
   ]
  },
  {
   "cell_type": "markdown",
   "id": "aa1b0aea",
   "metadata": {},
   "source": [
    "### Type conversion methods\n",
    "\n",
    "| Function | Magic method        | Implementation meaning or purpose                                     |\n",
    "| -------- | ------------------- | --------------------------------------------------------------------- |\n",
    "|  |\n",
    "| int()    | \\_\\_int\\_\\_(self)   | conversion to integer type                                            |\n",
    "| float()  | \\_\\_float\\_\\_(self) | conversion to float type                                              |\n",
    "| oct()    | \\_\\_oct\\_\\_(self)   | conversion to string, containing an octal representation              |\n",
    "| hex()    | \\_\\_hex\\_\\_(self)   | conversion to string, containing a hexadecimal representation<br><br> |"
   ]
  },
  {
   "cell_type": "markdown",
   "id": "677d345a",
   "metadata": {},
   "source": [
    "### Object introspection\n",
    "\n",
    "| Function | Magic method                    | Implementation meaning or purpose                               |\n",
    "| -------- | ------------------------------- | --------------------------------------------------------------- |\n",
    "|  |\n",
    "| str()    | \\_\\_str\\_\\_(self)               | responsible for handling str() function calls                   |\n",
    "| repr()   | \\_\\_repr\\_\\_(self)              | responsible for handling repr() function calls                  |\n",
    "| format() | \\_\\_format\\_\\_(self, formatstr) | called when new-style string formatting is applied to an object |\n",
    "| hash()   | \\_\\_hash\\_\\_(self)              | responsible for handling hash() function calls                  |\n",
    "| dir()    | \\_\\_dir\\_\\_(self)               | responsible for handling dir() function calls                   |\n",
    "| bool()   | \\_\\_nonzero\\_\\_(self)           | responsible for handling bool() function calls                  |"
   ]
  },
  {
   "cell_type": "markdown",
   "id": "944facb1",
   "metadata": {},
   "source": [
    "### Object retrospection\n",
    "| Function                    | Magic method                          | Implementation meaning or purpose                    |\n",
    "| --------------------------- | ------------------------------------- | ---------------------------------------------------- |\n",
    "|  |\n",
    "| isinstance(object, class)   | \\_\\_instancecheck\\_\\_(self, object)   | responsible for handling isinstance() function calls |\n",
    "| issubclass(subclass, class) | \\_\\_subclasscheck\\_\\_(self, subclass) | responsible for handling issubclass() function calls |"
   ]
  },
  {
   "cell_type": "markdown",
   "id": "28d88050",
   "metadata": {},
   "source": [
    "### Object attribute access\n",
    "\n",
    "| Expression example       | Magic method                            | Implementation meaning or purpose                           |\n",
    "| ------------------------ | --------------------------------------- | ----------------------------------------------------------- |\n",
    "|  |\n",
    "| object.attribute         | \\_\\_getattr\\_\\_(self, attribute)        | responsible for handling access to a non-existing attribute |\n",
    "| object.attribute         | \\_\\_getattribute\\_\\_(self, attribute)   | responsible for handling access to an existing attribute    |\n",
    "| object.attribute = value | \\_\\_setattr\\_\\_(self, attribute, value) | responsible for setting an attribute value                  |\n",
    "| del object.attribute     | \\_\\_delattr\\_\\_(self, attribute)        | responsible for deleting an attribute                       |"
   ]
  },
  {
   "cell_type": "markdown",
   "id": "4da444c1",
   "metadata": {},
   "source": [
    "### Methods allowing access to containers\n",
    "\n",
    "| xpression example        | Magic method                      | Implementation meaning or purpose                                              |\n",
    "| ------------------------ | --------------------------------- | ------------------------------------------------------------------------------ |\n",
    "|  |\n",
    "| len(container)           | \\_\\_len\\_\\_(self)                 | returns the length (number of elements) of the container                       |\n",
    "| container\\[key\\]         | \\_\\_getitem\\_\\_(self, key)        | responsible for accessing (fetching) an element identified by the key argument |\n",
    "| container\\[key\\] = value | \\_\\_setitem\\_\\_(self, key, value) | responsible for setting a value to an element identified by the key argument   |\n",
    "| del container\\[key\\]     | \\_\\_delitem\\_\\_(self, key)        | responsible for deleting an element identified by the key argument             |\n",
    "| for element in container | \\_\\_iter\\_\\_(self)                | returns an iterator for the container                                          |\n",
    "| item in container        | \\_\\_contains\\_\\_(self, item)      | responds to the question: does the container contain the selected item?        |"
   ]
  },
  {
   "cell_type": "code",
   "execution_count": 3,
   "id": "6f0910d3",
   "metadata": {},
   "outputs": [
    {
     "name": "stdout",
     "output_type": "stream",
     "text": [
      "T1 Obj =  21:58:50\n",
      "T2 Obj =  1:45:22\n"
     ]
    },
    {
     "ename": "TypeError",
     "evalue": "convert_to_sec() missing 1 required positional argument: 'secs'",
     "output_type": "error",
     "traceback": [
      "\u001b[0;31m---------------------------------------------------------------------------\u001b[0m",
      "\u001b[0;31mTypeError\u001b[0m                                 Traceback (most recent call last)",
      "Input \u001b[0;32mIn [3]\u001b[0m, in \u001b[0;36m<cell line: 79>\u001b[0;34m()\u001b[0m\n\u001b[1;32m     77\u001b[0m \u001b[38;5;28mprint\u001b[39m(\u001b[38;5;124m\"\u001b[39m\u001b[38;5;124mT1 Obj = \u001b[39m\u001b[38;5;124m\"\u001b[39m,t1)\n\u001b[1;32m     78\u001b[0m \u001b[38;5;28mprint\u001b[39m(\u001b[38;5;124m\"\u001b[39m\u001b[38;5;124mT2 Obj = \u001b[39m\u001b[38;5;124m\"\u001b[39m,t2)\n\u001b[0;32m---> 79\u001b[0m \u001b[38;5;28mprint\u001b[39m(\u001b[38;5;124m\"\u001b[39m\u001b[38;5;124mT1 + T2 = \u001b[39m\u001b[38;5;124m\"\u001b[39m,\u001b[43mt1\u001b[49m\u001b[38;5;241;43m+\u001b[39;49m\u001b[43mt2\u001b[49m)\n\u001b[1;32m     80\u001b[0m \u001b[38;5;28mprint\u001b[39m(\u001b[38;5;124m\"\u001b[39m\u001b[38;5;124mT1 - T2 = \u001b[39m\u001b[38;5;124m\"\u001b[39m,t1\u001b[38;5;241m-\u001b[39mt2)\n\u001b[1;32m     81\u001b[0m \u001b[38;5;28mprint\u001b[39m(\u001b[38;5;124m\"\u001b[39m\u001b[38;5;124mT1 * 2 = \u001b[39m\u001b[38;5;124m\"\u001b[39m,t1\u001b[38;5;241m*\u001b[39m\u001b[38;5;241m2\u001b[39m)\n",
      "Input \u001b[0;32mIn [3]\u001b[0m, in \u001b[0;36mtime_int.__add__\u001b[0;34m(self, new_obj)\u001b[0m\n\u001b[1;32m     32\u001b[0m \u001b[38;5;28;01mdef\u001b[39;00m \u001b[38;5;21m__add__\u001b[39m(\u001b[38;5;28mself\u001b[39m, new_obj):\n\u001b[1;32m     33\u001b[0m     \u001b[38;5;124;03m\"\"\"\u001b[39;00m\n\u001b[1;32m     34\u001b[0m \u001b[38;5;124;03m        Implement Addition of time interval class Objects\u001b[39;00m\n\u001b[1;32m     35\u001b[0m \u001b[38;5;124;03m    \"\"\"\u001b[39;00m\n\u001b[0;32m---> 36\u001b[0m     \u001b[38;5;28mself\u001b[39m\u001b[38;5;241m.\u001b[39mhrs_to_sec, \u001b[38;5;28mself\u001b[39m\u001b[38;5;241m.\u001b[39mmin_to_sec \u001b[38;5;241m=\u001b[39m \u001b[38;5;28;43mself\u001b[39;49m\u001b[38;5;241;43m.\u001b[39;49m\u001b[43mconvert_to_sec\u001b[49m\u001b[43m(\u001b[49m\u001b[38;5;28;43mself\u001b[39;49m\u001b[38;5;241;43m.\u001b[39;49m\u001b[43mhours\u001b[49m\u001b[43m,\u001b[49m\u001b[43m \u001b[49m\u001b[38;5;28;43mself\u001b[39;49m\u001b[38;5;241;43m.\u001b[39;49m\u001b[43mmins\u001b[49m\u001b[43m)\u001b[49m\n\u001b[1;32m     37\u001b[0m     \u001b[38;5;28mself\u001b[39m\u001b[38;5;241m.\u001b[39mhrs_to_sec_oth, \u001b[38;5;28mself\u001b[39m\u001b[38;5;241m.\u001b[39mmin_to_sec_oth \u001b[38;5;241m=\u001b[39m \u001b[38;5;28mself\u001b[39m\u001b[38;5;241m.\u001b[39mconvert_to_sec(new_obj\u001b[38;5;241m.\u001b[39mhours, new_obj\u001b[38;5;241m.\u001b[39mmins)\n\u001b[1;32m     39\u001b[0m     \u001b[38;5;28mself\u001b[39m\u001b[38;5;241m.\u001b[39mtot_sec \u001b[38;5;241m=\u001b[39m \u001b[38;5;28mself\u001b[39m\u001b[38;5;241m.\u001b[39mhrs_to_sec \u001b[38;5;241m+\u001b[39m \u001b[38;5;28mself\u001b[39m\u001b[38;5;241m.\u001b[39mmin_to_sec \u001b[38;5;241m+\u001b[39m \u001b[38;5;28mself\u001b[39m\u001b[38;5;241m.\u001b[39mseconds\n",
      "\u001b[0;31mTypeError\u001b[0m: convert_to_sec() missing 1 required positional argument: 'secs'"
     ]
    }
   ],
   "source": [
    "class time_int():\n",
    "    def __init__(self, hrs, mins, secs):\n",
    "        self.hours=hrs\n",
    "        self.mins=mins\n",
    "        self.seconds=secs\n",
    "\n",
    "        var_list=[self.hours, self.mins, self.seconds]\n",
    "        for var in var_list:\n",
    "            if not isinstance(var, int):\n",
    "                raise TypeError(\"Only integers are allowed!\")\n",
    "\n",
    "        \n",
    "    def __str__(self):\n",
    "        \"\"\"\n",
    "            Return HH:MM:SS string of the time interval object\n",
    "        \"\"\"\n",
    "        return f'{self.hours}:{self.mins}:{self.seconds}'\n",
    "        \n",
    "    def convert_to_sec(self, hrs, mins, secs):\n",
    "        self.hrs_to_sec = hrs * 3600\n",
    "        self.min_to_sec = mins * 60\n",
    "        \n",
    "        return self.hrs_to_sec, self.min_to_sec\n",
    "    \n",
    "    def convert_from_sec(self, secs):\n",
    "        self.sec_to_hrs = secs // 3600\n",
    "        self.sec_to_min = (secs % 3600) // 60\n",
    "        self.secs = secs % 60\n",
    "        \n",
    "        return self.sec_to_hrs, self.sec_to_min, self.secs\n",
    "        \n",
    "    def __add__(self, new_obj):\n",
    "        \"\"\"\n",
    "            Implement Addition of time interval class Objects\n",
    "        \"\"\"\n",
    "        self.hrs_to_sec, self.min_to_sec = self.convert_to_sec(self.hours, self.mins)\n",
    "        self.hrs_to_sec_oth, self.min_to_sec_oth = self.convert_to_sec(new_obj.hours, new_obj.mins)\n",
    "        \n",
    "        self.tot_sec = self.hrs_to_sec + self.min_to_sec + self.seconds\n",
    "        self.tot_sec_oth = self.hrs_to_sec_oth + self.min_to_sec_oth + new_obj.seconds\n",
    "        \n",
    "        self.total = self.tot_sec + self.tot_sec_oth\n",
    "        \n",
    "        \n",
    "        self.hours, self.mins, self.seconds = self.convert_from_sec(self.total)\n",
    "        \n",
    "        return self.__str__()\n",
    "\n",
    "    def __sub__(self, new_obj):\n",
    "        \"\"\"\n",
    "            Implement Substraction of time interval class Objects\n",
    "        \"\"\"\n",
    "        self.hrs_to_sec, self.min_to_sec = self.convert_to_sec(self.hours, self.mins)\n",
    "        self.hrs_to_sec_oth, self.min_to_sec_oth = self.convert_to_sec(new_obj.hours, new_obj.mins)\n",
    "        \n",
    "        self.tot_sec = self.hrs_to_sec + self.min_to_sec + self.seconds\n",
    "        self.tot_sec_oth = self.hrs_to_sec_oth + self.min_to_sec_oth + new_obj.seconds\n",
    "        \n",
    "        self.total = self.tot_sec - self.tot_sec_oth\n",
    "        \n",
    "        \n",
    "        self.hours, self.mins, self.seconds = self.convert_from_sec(self.total)\n",
    "        \n",
    "        return self.__str__()\n",
    "    \n",
    "    def __mul__(self, num):\n",
    "        \"\"\"\n",
    "            Implement Multiplication of time interval class Objects by an integer\n",
    "        \"\"\"\n",
    "        self.hours = self.hours * num\n",
    "        \n",
    "        return self.__str__()\n",
    "\n",
    "t1 = time_int(21,58,50)\n",
    "t2 = time_int(1,45,22)\n",
    "\n",
    "print(\"T1 Obj = \",t1)\n",
    "print(\"T2 Obj = \",t2)\n",
    "print(\"T1 + T2 = \",t1+t2)\n",
    "print(\"T1 - T2 = \",t1-t2)\n",
    "print(\"T1 * 2 = \",t1*2)"
   ]
  },
  {
   "cell_type": "code",
   "execution_count": null,
   "id": "63b95496",
   "metadata": {},
   "outputs": [],
   "source": []
  }
 ],
 "metadata": {
  "kernelspec": {
   "display_name": "Python 3 (ipykernel)",
   "language": "python",
   "name": "python3"
  },
  "language_info": {
   "codemirror_mode": {
    "name": "ipython",
    "version": 3
   },
   "file_extension": ".py",
   "mimetype": "text/x-python",
   "name": "python",
   "nbconvert_exporter": "python",
   "pygments_lexer": "ipython3",
   "version": "3.9.12"
  }
 },
 "nbformat": 4,
 "nbformat_minor": 5
}
