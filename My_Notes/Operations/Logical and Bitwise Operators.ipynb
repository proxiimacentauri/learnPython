{
 "cells": [
  {
   "cell_type": "markdown",
   "metadata": {},
   "source": [
    "## LOGICAL OPERATORS\n",
    "\n",
    "\n",
    "and, or, not = Logical Operators, these are binary operators.\n"
   ]
  },
  {
   "cell_type": "markdown",
   "metadata": {},
   "source": [
    "### AND\n",
    "\n",
    "counter > 0 and value == 100\n",
    "\n",
    "They have a **lower priority** than comparison operators.\n"
   ]
  },
  {
   "cell_type": "markdown",
   "metadata": {},
   "source": [
    "### OR\n",
    "\n",
    "counter > 0 or value == 100\n",
    "\n",
    "They have a **lower priority** than **AND** operators.\n"
   ]
  },
  {
   "cell_type": "markdown",
   "metadata": {},
   "source": [
    "### NOT\n",
    "\n",
    "not <argument>\n",
    "\n",
    "Its a unary operator and is logical negation.\n",
    "\n",
    "It has a **very high priority** on the same as unary + and -.\n"
   ]
  },
  {
   "cell_type": "code",
   "execution_count": 2,
   "metadata": {},
   "outputs": [
    {
     "name": "stdout",
     "output_type": "stream",
     "text": [
      "True\n",
      "True\n",
      "True\n"
     ]
    }
   ],
   "source": [
    "var=1\n",
    "print(var >0)\n",
    "print(not (var <=0))\n",
    "\n",
    "i = 1\n",
    "j = not not i\n",
    "print (j)"
   ]
  },
  {
   "cell_type": "markdown",
   "metadata": {
    "code_folding": []
   },
   "source": [
    "### De Morgan's Laws\n",
    "\n",
    "#### Conjunction = AND <br> Disjunction = OR\n",
    "\n",
    "The negation of a conjunction is the disjunction of the negations.\n",
    "`not (a and b) = (not a) or (not b)`\n",
    "\n",
    "The negation of a disjunction is the conjunction of the negations.\n",
    "`not (a or b) = (not a) and (not b)`\n",
    "\n"
   ]
  },
  {
   "cell_type": "markdown",
   "metadata": {},
   "source": [
    "## BITWISE OPERATORS\n",
    "\n",
    "\n",
    "* & (ampersand) - bitwise conjunction **(AND)**\n",
    "* | (bar) - bitwise disjunction **(OR)**\n",
    "* ~ (tilde) - bitwise negation **(NOT)**\n",
    "* ^ (caret) - bitwise exclusive or **(XOR)**\n",
    "\n",
    "\n",
    "The **arguments** of these bitwise operators must always be **integers**\n",
    "\n",
    "The logical operators DONT penetrate into the BIT LEVEL of the argument. \n",
    "\n",
    "\n",
    "\n",
    "* `x = x & y\tx &= y`\n",
    "* `x = x | y\tx |= y`\n",
    "* `x = x ^ y\tx ^= y`\n"
   ]
  },
  {
   "cell_type": "markdown",
   "metadata": {},
   "source": [
    "### LOGICAL VS BITWISE\n",
    "\n",
    "\n",
    "Example: <br>\n",
    "\n",
    "* i = 15 : 00000000000000000000000000001111\n",
    "* j = 22 : 00000000000000000000000000010110\n",
    "\n",
    "Bitwise is operating on all the 32 bits of that integer 15 or 22."
   ]
  },
  {
   "cell_type": "code",
   "execution_count": 12,
   "metadata": {},
   "outputs": [
    {
     "name": "stdout",
     "output_type": "stream",
     "text": [
      "22\n",
      "6\n"
     ]
    }
   ],
   "source": [
    "i=15\n",
    "j=22\n",
    "logical = i and j\n",
    "bitwise = i & j \n",
    "print(logical)\n",
    "print(bitwise)"
   ]
  },
  {
   "cell_type": "code",
   "execution_count": 14,
   "metadata": {},
   "outputs": [
    {
     "name": "stdout",
     "output_type": "stream",
     "text": [
      "False\n",
      "-16\n"
     ]
    }
   ],
   "source": [
    "i=15\n",
    "logicaln = not i\n",
    "bitwisen = ~i\n",
    "print(logicaln)\n",
    "print(bitwisen)"
   ]
  },
  {
   "cell_type": "markdown",
   "metadata": {
    "heading_collapsed": true
   },
   "source": [
    "### Checking if BIT is SET or RESET\n",
    "\n",
    "register = $00000x000$\n",
    "<br>\n",
    "\n",
    "If $x =$ 1\n",
    "\n",
    "x & 1 = 1 <br>\n",
    "x & 0 = 0 \n",
    "\n",
    "If you apply `& 1` operation to the $x$ in that register and keep everything else 0 it will result to = TRUE\n",
    "<br>\n",
    "which can be used as to check that particular bit."
   ]
  },
  {
   "cell_type": "markdown",
   "metadata": {
    "heading_collapsed": true,
    "hidden": true
   },
   "source": [
    "#### For the 3rd Bit\n",
    "\n",
    "$2^{3} = 8$\n",
    "\n",
    "* mask = 8 :` 0000 1000`\n",
    "* flag = 80 :` 0101 0000`\n",
    "*  `&       : 0000 0000`\n",
    "\n",
    "Since the bitwise operation is = 0 the if condition is false and it fails"
   ]
  },
  {
   "cell_type": "code",
   "execution_count": 12,
   "metadata": {
    "hidden": true
   },
   "outputs": [
    {
     "name": "stdout",
     "output_type": "stream",
     "text": [
      "The 3rd bit is: RESET\n"
     ]
    }
   ],
   "source": [
    "mask = 8      # DEC = 8\n",
    "flag = 0x50   # DEC = 80\n",
    "if flag & mask:\n",
    "    print('The 3rd bit is: SET')\n",
    "else:\n",
    "    print('The 3rd bit is: RESET')"
   ]
  },
  {
   "cell_type": "markdown",
   "metadata": {
    "heading_collapsed": true,
    "hidden": true
   },
   "source": [
    "#### For the 4th Bit\n",
    "\n",
    "$2^{4} = 16$\n",
    "\n",
    "* mask = 16 :` 0001 0000`\n",
    "* flag = 80 :` 0101 0000`\n",
    "*  `&       : 0001 0000`\n",
    "\n",
    "Since the bitwise operation is = 1 the if condition is true and it passes."
   ]
  },
  {
   "cell_type": "code",
   "execution_count": 11,
   "metadata": {
    "hidden": true
   },
   "outputs": [
    {
     "name": "stdout",
     "output_type": "stream",
     "text": [
      "The 4th bit is: SET\n"
     ]
    }
   ],
   "source": [
    "mask = 16      # DEC = 16\n",
    "flag = 0x50   # DEC = 80\n",
    "if flag & mask:\n",
    "    print('The 4th bit is: SET')\n",
    "else:\n",
    "    print('The 4th bit is: RESET')\n",
    "\n"
   ]
  },
  {
   "cell_type": "markdown",
   "metadata": {
    "heading_collapsed": true
   },
   "source": [
    "### RESET a particular BIT\n",
    "\n",
    "Place a '0' on the mask at the bit place that you want to `reset`:\n",
    "\n",
    "#### Reset the 5th Bit \n",
    "\n",
    "* mask =    :` 1110 1111`\n",
    "* flag = 80 :` 0101 0000`\n",
    "*  `&       : 0100 0000` = 64"
   ]
  },
  {
   "cell_type": "code",
   "execution_count": 28,
   "metadata": {
    "hidden": true
   },
   "outputs": [
    {
     "name": "stdout",
     "output_type": "stream",
     "text": [
      "64\n"
     ]
    }
   ],
   "source": [
    "mask=0b11101111\n",
    "register=0x50\n",
    "register= register & mask\n",
    "#register &= mask\n",
    "print(register)"
   ]
  },
  {
   "cell_type": "markdown",
   "metadata": {
    "heading_collapsed": true
   },
   "source": [
    "### SET a particular BIT\n",
    "\n",
    "Place a '1' on the mask at the bit place that you want to `set`:\n",
    "\n",
    "#### Set the 4th Bit \n",
    "\n",
    "* mask =    :` 0000 1000`\n",
    "* flag = 80 :` 0101 0000`\n",
    "*  `|       : 0101 1000` = 88"
   ]
  },
  {
   "cell_type": "code",
   "execution_count": 29,
   "metadata": {
    "hidden": true
   },
   "outputs": [
    {
     "name": "stdout",
     "output_type": "stream",
     "text": [
      "88\n"
     ]
    }
   ],
   "source": [
    "mask=0b00001000\n",
    "register=0x50\n",
    "register= register | mask\n",
    "#register |= mask\n",
    "print(register)"
   ]
  },
  {
   "cell_type": "markdown",
   "metadata": {},
   "source": [
    "### NEGATE a particular BIT\n",
    "\n",
    "Place a '1' on the mask at the bit place that you want to `negate`:\n",
    "\n",
    "#### Set the 4th Bit \n",
    "\n",
    "* mask =    :` 1111 1111`\n",
    "* flag = 80 :` 0101 0000`\n",
    "*  `^       : 1010 1111` = 175"
   ]
  },
  {
   "cell_type": "markdown",
   "metadata": {},
   "source": [
    "## SHIFT OPERATORS\n",
    "\n",
    "* Shifting a value 1-bit to `LEFT = x2` represented by `<<` \n",
    "* Shifting a value 1-bit to `RIGHT = /2` represented by `>>`\n",
    "\n",
    "**left_arg << right_arg**\n",
    "\n",
    "Left Argument = Interger value whose bits will be shifted <br>\n",
    "Right Argument = Size of the shift\n",
    "\n",
    "`17 >> 1 → 17 // 2` (17 floor-divided by $2^1$) → 8 <br>\n",
    "<br>\n",
    "`17 << 2 → 17 * 4` (17 multiplied by $2^2$) → 68\n",
    "<br>\n",
    "`5 << 5 → 5 * 32` (5 multiplied by $2^5$) → 160\n",
    "\n"
   ]
  },
  {
   "cell_type": "code",
   "execution_count": 35,
   "metadata": {},
   "outputs": [
    {
     "name": "stdout",
     "output_type": "stream",
     "text": [
      "17 68 8\n"
     ]
    }
   ],
   "source": [
    "var = 17\n",
    "var_right = var >> 1\n",
    "var_left = var << 2\n",
    "print(var, var_left, var_right)\n"
   ]
  },
  {
   "cell_type": "markdown",
   "metadata": {},
   "source": [
    "## Priority in Operators\n",
    "\n",
    "| Priority | Operator |\n",
    "-----|-----\n",
    "1| ~, +, -\t**unary**\n",
    "2| **\t\n",
    "3| *, /, //, %\t\n",
    "4| +, -\t**binary**\n",
    "5|<<, >>\t\n",
    "6|<, <=, >, >=\t\n",
    "7|==, !=\t\n",
    "8|&\t\n",
    "9| pip symbol $|$\n",
    "10|\t=, +=, -=, *=, /=, %=, &=, ^=, |=, >>=, <<=\t"
   ]
  },
  {
   "cell_type": "code",
   "execution_count": 43,
   "metadata": {},
   "outputs": [
    {
     "name": "stdout",
     "output_type": "stream",
     "text": [
      "0\n",
      "31\n",
      "-16\n",
      "31\n",
      "8\n",
      "128\n"
     ]
    }
   ],
   "source": [
    "x=15\n",
    "y=16\n",
    "print(\"{0:d}\".format(x&y))\n",
    "print(\"{0:d}\".format(x|y))\n",
    "print(\"{0:d}\".format(~x))\n",
    "print(\"{0:d}\".format(x^y))\n",
    "print(\"{0:d}\".format(y>>1))\n",
    "print(\"{0:d}\".format(y<<3))"
   ]
  }
 ],
 "metadata": {
  "kernelspec": {
   "display_name": "Python 3",
   "language": "python",
   "name": "python3"
  },
  "language_info": {
   "codemirror_mode": {
    "name": "ipython",
    "version": 3
   },
   "file_extension": ".py",
   "mimetype": "text/x-python",
   "name": "python",
   "nbconvert_exporter": "python",
   "pygments_lexer": "ipython3",
   "version": "3.7.6"
  }
 },
 "nbformat": 4,
 "nbformat_minor": 4
}
