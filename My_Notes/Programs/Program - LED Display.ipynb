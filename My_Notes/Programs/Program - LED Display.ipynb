{
 "cells": [
  {
   "cell_type": "markdown",
   "metadata": {},
   "source": [
    "## LED Display"
   ]
  },
  {
   "cell_type": "code",
   "execution_count": null,
   "metadata": {},
   "outputs": [],
   "source": [
    "def print1(a,b,c,d,e,f,g,h,i,j,k,l,m,n,o):\n",
    "\n",
    "    print(\"\"\"\n",
    "         {a1}{a2}{a3}{s}{b1}{b2}{b3}{s}\n",
    "         {a4}{a5}{a6}{s}{b4}{b5}{b6}{s}\n",
    "         {a7}{a8}{a9}{s}{b7}{b8}{b9}{s}\n",
    "         {a10}{a11}{a12}{s}{b10}{b11}{b12}{s}\n",
    "         {a13}{a14}{a15}{s}{b13}{b14}{b15}{s}\n",
    "         }\n",
    "         \"\"\".format(a,b,c,d,e,f,g,h,i,j,k,l,m,n,o))\n",
    "         \n",
    "def sp():\n",
    "    a=d=g=j=m='  '\n",
    "    b=c=e=f=h=i=k=l=n=o=''\n",
    "    print1(a,b,c,d,e,f,g,h,i,j,k,l,m,n,o)\n",
    "\n",
    "def disp(n):\n",
    "    n=str(n)\n",
    "    on=[]\n",
    "    \n",
    "    for i in n:\n",
    "        if i == '1':\n",
    "            \n",
    "        if i == '2':\n",
    "            a1=b1=c1=f1=g1=h1=i1=j1=m1=n1=o1='#'\n",
    "            d1=e1=k1=l1=' '\n",
    "            print1(a1,b1,c1,d1,e1,f1,g1,h1,i1,j1,k1,l1,m1,n1,o1)\n",
    "            sp()\n",
    "    \n",
    "disp(123)\n"
   ]
  }
 ],
 "metadata": {
  "kernelspec": {
   "display_name": "Python 3",
   "language": "python",
   "name": "python3"
  },
  "language_info": {
   "codemirror_mode": {
    "name": "ipython",
    "version": 3
   },
   "file_extension": ".py",
   "mimetype": "text/x-python",
   "name": "python",
   "nbconvert_exporter": "python",
   "pygments_lexer": "ipython3",
   "version": "3.7.6"
  }
 },
 "nbformat": 4,
 "nbformat_minor": 4
}
