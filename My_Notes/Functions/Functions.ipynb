{
 "cells": [
  {
   "cell_type": "markdown",
   "metadata": {},
   "source": [
    "## Functions"
   ]
  },
  {
   "cell_type": "markdown",
   "metadata": {},
   "source": [
    "A good and attentive developer divides the code (or more accurately: the problem) into well-isolated pieces, and encodes each of them in the form of a function.\n",
    "\n",
    " A function is a block of code that performs a specific task when the function is called (invoked). You can use functions to make your code reusable, better organized, and more readable. Functions can have parameters and return values.\n",
    "\n",
    "\n",
    "Rules:\n",
    "\n",
    "- It always starts with keyword `def` for define.\n",
    "- In front of `def` is the `nameof the function`, rules for that are same as naming the variables.\n",
    "- After the name the like has to end with a `:`\n",
    "- A function is only launched when it is `Invoked`, which is done by calling the function name `name_of_function()`.\n",
    "\n",
    "\n",
    "\n",
    "**NOTE**\n",
    "* Python reads the code from **Top --> Bottom**, it is not going to look ahead for a function.\n",
    "* Define the functions before their invocation.\n",
    "* We must not have the the same name for var_name and func_name. The latter will overwirite the former. \n",
    "\n",
    "\n",
    "`def func_name(optional parameters):`<br>\n",
    "`     # the body of the function`\n",
    "\n"
   ]
  },
  {
   "cell_type": "markdown",
   "metadata": {},
   "source": [
    "#### Without Argument\n"
   ]
  },
  {
   "cell_type": "code",
   "execution_count": null,
   "metadata": {},
   "outputs": [],
   "source": [
    "def message():    # defining a function\n",
    "    print(\"Hello\")    # body of the function\n",
    "\n",
    "message()    # calling the function\n"
   ]
  },
  {
   "cell_type": "markdown",
   "metadata": {},
   "source": [
    "#### With Argument\n"
   ]
  },
  {
   "cell_type": "code",
   "execution_count": 1,
   "metadata": {},
   "outputs": [
    {
     "name": "stdout",
     "output_type": "stream",
     "text": [
      "Enter your name: d\n",
      "Hello, d\n"
     ]
    }
   ],
   "source": [
    "def hello(name):    # defining a function\n",
    "    print(\"Hello,\", name)    # body of the function\n",
    "\n",
    "\n",
    "name = input(\"Enter your name: \")\n",
    "\n",
    "hello(name)    # calling the function"
   ]
  },
  {
   "cell_type": "code",
   "execution_count": 2,
   "metadata": {},
   "outputs": [
    {
     "name": "stdout",
     "output_type": "stream",
     "text": [
      "Hello, AKSHAY\n"
     ]
    }
   ],
   "source": [
    "def hello(name='AKSHAY'):    # defining a function\n",
    "    print(\"Hello,\", name)    # body of the function\n",
    "\n",
    "hello()    # calling the function"
   ]
  },
  {
   "cell_type": "markdown",
   "metadata": {},
   "source": [
    "#### Keyword Parameters\n",
    "\n",
    "Where the meaning of the argument is dictated by its name, not by its position - it's called keyword argument passing."
   ]
  },
  {
   "cell_type": "markdown",
   "metadata": {},
   "source": [
    "#### Argument given when NOT defined\n"
   ]
  },
  {
   "cell_type": "code",
   "execution_count": 2,
   "metadata": {
    "scrolled": true
   },
   "outputs": [
    {
     "ename": "TypeError",
     "evalue": "hi() takes 0 positional arguments but 1 was given",
     "output_type": "error",
     "traceback": [
      "\u001b[1;31m---------------------------------------------------------------------------\u001b[0m",
      "\u001b[1;31mTypeError\u001b[0m                                 Traceback (most recent call last)",
      "\u001b[1;32m<ipython-input-2-5e201ca84380>\u001b[0m in \u001b[0;36m<module>\u001b[1;34m\u001b[0m\n\u001b[0;32m      2\u001b[0m     \u001b[0mprint\u001b[0m\u001b[1;33m(\u001b[0m\u001b[1;34m\"hi\"\u001b[0m\u001b[1;33m)\u001b[0m\u001b[1;33m\u001b[0m\u001b[1;33m\u001b[0m\u001b[0m\n\u001b[0;32m      3\u001b[0m \u001b[1;33m\u001b[0m\u001b[0m\n\u001b[1;32m----> 4\u001b[1;33m \u001b[0mhi\u001b[0m\u001b[1;33m(\u001b[0m\u001b[1;36m5\u001b[0m\u001b[1;33m)\u001b[0m\u001b[1;33m\u001b[0m\u001b[1;33m\u001b[0m\u001b[0m\n\u001b[0m",
      "\u001b[1;31mTypeError\u001b[0m: hi() takes 0 positional arguments but 1 was given"
     ]
    }
   ],
   "source": [
    "def hi():\n",
    "    print(\"hi\")\n",
    "\n",
    "hi(5)"
   ]
  },
  {
   "cell_type": "markdown",
   "metadata": {},
   "source": [
    "### Parameterized Functions\n",
    "\n",
    "A parameter is a variable but 2 things make it a bit different:\n",
    "\n",
    "* They exist only inside the functions in which they have been defined.\n",
    "* Assigning value to a parameter is done at the time of invocation.\n",
    "\n",
    "`Arguments` exist outside functions, they are carriers of values passed to corresponding parameters.\n",
    "\n",
    "\n",
    "If a function is parameterised at the time of defining, then all the parameters must be specified at the time of invocation. "
   ]
  },
  {
   "cell_type": "code",
   "execution_count": 4,
   "metadata": {},
   "outputs": [
    {
     "name": "stdout",
     "output_type": "stream",
     "text": [
      "Function is run and the parameter given to func is 1654135\n"
     ]
    }
   ],
   "source": [
    "def message(number):\n",
    "    print(\"Function is run and the parameter given to func is\", number)\n",
    "\n",
    "message(1654135)"
   ]
  },
  {
   "cell_type": "markdown",
   "metadata": {},
   "source": [
    "**It's legal, and possible, to have a variable named the same as a function's parameter.**"
   ]
  },
  {
   "cell_type": "code",
   "execution_count": 5,
   "metadata": {},
   "outputs": [
    {
     "name": "stdout",
     "output_type": "stream",
     "text": [
      "Enter a number: 1\n",
      "1234\n"
     ]
    }
   ],
   "source": [
    "def message(number):\n",
    "    print(\"Enter a number:\", number)\n",
    "\n",
    "number = 1234\n",
    "message(1)\n",
    "print(number)"
   ]
  },
  {
   "cell_type": "markdown",
   "metadata": {},
   "source": [
    "#### Positional Parameters\n",
    "\n",
    "A technique which assigns the ith (first, second, and so on) argument to the ith (first, second, and so on) function parameter is called positional parameter passing, while arguments passed in this way are named positional arguments."
   ]
  },
  {
   "cell_type": "code",
   "execution_count": 9,
   "metadata": {},
   "outputs": [
    {
     "name": "stdout",
     "output_type": "stream",
     "text": [
      "A K S H\n",
      "H S K A\n"
     ]
    }
   ],
   "source": [
    "def my_func(x,y,z,a):\n",
    "    print(x,y,z,a)\n",
    "    \n",
    "my_func('A','K','S','H')\n",
    "my_func('H','S','K','A')"
   ]
  },
  {
   "cell_type": "markdown",
   "metadata": {},
   "source": [
    "#### Keyword Parameters\n",
    "\n",
    "Where the meaning of the argument is dictated by its name, not by its position - it's called keyword argument passing."
   ]
  },
  {
   "cell_type": "code",
   "execution_count": 13,
   "metadata": {},
   "outputs": [
    {
     "name": "stdout",
     "output_type": "stream",
     "text": [
      "A K S H\n",
      "A K S H\n"
     ]
    }
   ],
   "source": [
    "def my_func(x,y,z,a):\n",
    "    print(x,y,z,a)\n",
    "    \n",
    "my_func(x='A', y='K', z='S', a='H')\n",
    "my_func(a='H', z='S', y='K', x='A')"
   ]
  },
  {
   "cell_type": "markdown",
   "metadata": {},
   "source": [
    "#### Keyword and Positional Parameters Mixed\n",
    "\n",
    "You can mix both fashions if you want - there is only one unbreakable rule: **you have to put positional arguments before keyword arguments.**"
   ]
  },
  {
   "cell_type": "code",
   "execution_count": 6,
   "metadata": {},
   "outputs": [
    {
     "name": "stdout",
     "output_type": "stream",
     "text": [
      "AK KP S H\n"
     ]
    }
   ],
   "source": [
    "def my_func(x,y,z,a):\n",
    "    print(x,y,z,a)\n",
    "    \n",
    "my_func('AK', 'KP', z='S', a='H')"
   ]
  },
  {
   "cell_type": "code",
   "execution_count": 33,
   "metadata": {
    "code_folding": []
   },
   "outputs": [
    {
     "name": "stdout",
     "output_type": "stream",
     "text": [
      "89 K S H\n",
      "6546 K S H\n"
     ]
    }
   ],
   "source": [
    "# Suppose we know that always a= 89\n",
    "def my_func(y,z,a,x=89): # the x=89 should always be done after the default parameters\n",
    "    print(x,y,z,a)\n",
    "    \n",
    "my_func(y='K', z='S',a='H') # Here we can skip defining x=89\n",
    "my_func('K','S','H',6546) # It can be easily Overridden"
   ]
  },
  {
   "cell_type": "markdown",
   "metadata": {},
   "source": [
    "### Return Instruction"
   ]
  },
  {
   "cell_type": "markdown",
   "metadata": {},
   "source": [
    "#### Return Without an expression\n",
    "\n",
    "It causes the **immediate termination of the function's execution, and an instant return** (hence the name) and back to the point of invocation\n",
    "\n",
    "You can use it to terminate a function's activities on demand, **before the control reaches the function's last line.**"
   ]
  },
  {
   "cell_type": "code",
   "execution_count": 36,
   "metadata": {},
   "outputs": [
    {
     "name": "stdout",
     "output_type": "stream",
     "text": [
      "1\n",
      "2\n"
     ]
    }
   ],
   "source": [
    "def anyname(x=True): #  Try out False\n",
    "    print(1)\n",
    "    print(2)\n",
    "    if x==True:\n",
    "        return\n",
    "    print(3)\n",
    "anyname()"
   ]
  },
  {
   "cell_type": "markdown",
   "metadata": {},
   "source": [
    "#### Return With an expression\n",
    "\n",
    "It causes the immediate termination of the function's execution same as above.\n",
    "\n",
    "The function will **evaluate the expression's value and will return** (hence the name once again) it as the function's result."
   ]
  },
  {
   "cell_type": "code",
   "execution_count": 37,
   "metadata": {},
   "outputs": [
    {
     "name": "stdout",
     "output_type": "stream",
     "text": [
      "345\n",
      "A\n"
     ]
    }
   ],
   "source": [
    "def wht():\n",
    "    print(345)\n",
    "    return 'A'\n",
    "\n",
    "a=wht()\n",
    "print(a)\n"
   ]
  },
  {
   "cell_type": "markdown",
   "metadata": {},
   "source": [
    "## None"
   ]
  },
  {
   "cell_type": "markdown",
   "metadata": {},
   "source": [
    "Its data doesn't represent any reasonable value - actually, it's not a value at all; hence, it mustn't take part in any expressions.\n",
    "\n",
    "`print(None + 2)` # Not to be used like this. <br>\n",
    "<br>\n",
    "\n",
    "`TypeError: unsupported operand type(s) for +: 'NoneType' and 'int'`\n",
    "\n",
    "There are only 2 kinds of circumstances when None can be safely used:\n",
    "\n",
    "* When you assign it to a variable (or return it as a function's result)\n",
    "* When you compare it with a variable to diagnose its internal state."
   ]
  },
  {
   "cell_type": "code",
   "execution_count": 38,
   "metadata": {},
   "outputs": [
    {
     "name": "stdout",
     "output_type": "stream",
     "text": [
      "Sorry, you don't carry any value\n"
     ]
    }
   ],
   "source": [
    "value = None\n",
    "if value is None:\n",
    "    print(\"Sorry, value is None\")"
   ]
  },
  {
   "cell_type": "code",
   "execution_count": 42,
   "metadata": {},
   "outputs": [
    {
     "name": "stdout",
     "output_type": "stream",
     "text": [
      "True\n",
      "None\n"
     ]
    }
   ],
   "source": [
    "def strange_function(n):\n",
    "    if(n % 2 == 0):\n",
    "        return True\n",
    "    \n",
    "print(strange_function(4))\n",
    "print(strange_function(1)) # ODD"
   ]
  },
  {
   "cell_type": "markdown",
   "metadata": {},
   "source": [
    "#### Passing a List as an Arugement to a Function"
   ]
  },
  {
   "cell_type": "code",
   "execution_count": 46,
   "metadata": {
    "scrolled": true
   },
   "outputs": [
    {
     "name": "stdout",
     "output_type": "stream",
     "text": [
      "7\n"
     ]
    }
   ],
   "source": [
    "def sum_list(array1):\n",
    "    sum=0\n",
    "    for ele in array1:\n",
    "        sum+=ele\n",
    "    \n",
    "    return sum\n",
    "\n",
    "print(sum_list([5,2,0]))"
   ]
  },
  {
   "cell_type": "markdown",
   "metadata": {},
   "source": [
    "#### Returning a List as a Function Result"
   ]
  },
  {
   "cell_type": "code",
   "execution_count": 47,
   "metadata": {},
   "outputs": [
    {
     "name": "stdout",
     "output_type": "stream",
     "text": [
      "[0, 0, 0, 0, 0, 0, 0, 0]\n"
     ]
    }
   ],
   "source": [
    "def array_output():\n",
    "    send=[0 for i in range(8)]\n",
    "    \n",
    "    return send\n",
    "\n",
    "print(array_output())"
   ]
  },
  {
   "cell_type": "markdown",
   "metadata": {},
   "source": [
    "## Tricky\n"
   ]
  },
  {
   "cell_type": "markdown",
   "metadata": {},
   "source": [
    "### Difference between fun() & print(func())"
   ]
  },
  {
   "cell_type": "code",
   "execution_count": 6,
   "metadata": {},
   "outputs": [
    {
     "name": "stdout",
     "output_type": "stream",
     "text": [
      "My Wishes\n",
      "My Wishes\n",
      "Happy Birthday\n"
     ]
    }
   ],
   "source": [
    "def wishes():\n",
    "    print(\"My Wishes\")\n",
    "    return \"Happy Birthday\"\n",
    "\n",
    "wishes()    # outputs: My Wishes\n",
    "\n",
    "\n",
    "# Example 2\n",
    "def wishes1():\n",
    "    print(\"My Wishes\")\n",
    "    return \"Happy Birthday\"\n",
    "\n",
    "print(wishes1())"
   ]
  }
 ],
 "metadata": {
  "kernelspec": {
   "display_name": "Python 3",
   "language": "python",
   "name": "python3"
  },
  "language_info": {
   "codemirror_mode": {
    "name": "ipython",
    "version": 3
   },
   "file_extension": ".py",
   "mimetype": "text/x-python",
   "name": "python",
   "nbconvert_exporter": "python",
   "pygments_lexer": "ipython3",
   "version": "3.7.6"
  }
 },
 "nbformat": 4,
 "nbformat_minor": 4
}
