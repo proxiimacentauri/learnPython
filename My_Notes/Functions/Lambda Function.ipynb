{
 "cells": [
  {
   "cell_type": "markdown",
   "metadata": {},
   "source": [
    "## `lambda` function"
   ]
  },
  {
   "cell_type": "markdown",
   "metadata": {},
   "source": [
    " Its a **function without a name** (you can also call it an anonymous function).\n",
    " \n",
    " \n",
    " \n",
    " * It can exist and work while remaining fully incognito.\n",
    " \n",
    " \n",
    " \n",
    " * It **returns the value of the expression when taking into account the current value of the `current lambda argument`.**\n",
    " \n",
    " \n",
    " \n",
    " \n",
    " **`lambda parameters: expression`**"
   ]
  },
  {
   "cell_type": "markdown",
   "metadata": {},
   "source": [
    "**PEP 8**, the Style Guide for Python Code, **recommends that lambdas should not be assigned to variables, but rather they should be defined as functions.**"
   ]
  },
  {
   "cell_type": "code",
   "execution_count": null,
   "metadata": {},
   "outputs": [],
   "source": [
    "# Recommended:\n",
    "def f(x): return 3*x\n",
    "\n",
    "\n",
    "# Not recommended:\n",
    "f = lambda x: 3*x\n"
   ]
  },
  {
   "cell_type": "code",
   "execution_count": 22,
   "metadata": {},
   "outputs": [
    {
     "name": "stdout",
     "output_type": "stream",
     "text": [
      "2\n",
      "4 1 0 1 4 "
     ]
    }
   ],
   "source": [
    "two = lambda: 2          # Parameterless function\n",
    "sqr = lambda x: x * x    # 1 parameter function\n",
    "\n",
    "print(two())\n",
    "for a in range(-2, 3):\n",
    "    print(sqr(a), end=\" \")\n",
    "    \n",
    "\n"
   ]
  },
  {
   "cell_type": "code",
   "execution_count": 11,
   "metadata": {
    "scrolled": true
   },
   "outputs": [
    {
     "name": "stdout",
     "output_type": "stream",
     "text": [
      "4\n",
      "1\n",
      "0\n",
      "1\n",
      "4\n"
     ]
    }
   ],
   "source": [
    "pwr = lambda x, y: x ** y     # 2 parameter function\n",
    "\n",
    "for a in range(-2, 3):\n",
    "    print(pwr(a, two()))"
   ]
  },
  {
   "cell_type": "markdown",
   "metadata": {},
   "source": [
    "#### Benefit of using the `lambda` function\n"
   ]
  },
  {
   "cell_type": "code",
   "execution_count": 12,
   "metadata": {},
   "outputs": [
    {
     "name": "stdout",
     "output_type": "stream",
     "text": [
      "f(-2)=18\n",
      "f(-1)=8\n",
      "f(0)=2\n",
      "f(1)=0\n",
      "f(2)=2\n"
     ]
    }
   ],
   "source": [
    "def print_function(args, fun):\n",
    "    for x in args:\n",
    "        print('f(', x,')=', fun(x), sep='')\n",
    "\n",
    "\n",
    "def poly(x):\n",
    "    return 2 * x**2 - 4 * x + 2\n",
    "\n",
    "\n",
    "print_function([x for x in range(-2, 3)], poly)\n"
   ]
  },
  {
   "cell_type": "code",
   "execution_count": 13,
   "metadata": {},
   "outputs": [
    {
     "name": "stdout",
     "output_type": "stream",
     "text": [
      "f(-2)=18\n",
      "f(-1)=8\n",
      "f(0)=2\n",
      "f(1)=0\n",
      "f(2)=2\n"
     ]
    }
   ],
   "source": [
    "def print_function(args, fun):\n",
    "    for x in args:\n",
    "        print('f(', x,')=', fun(x), sep='')\n",
    "\n",
    "print_function([x for x in range(-2, 3)], lambda x: 2 * x**2 - 4 * x + 2)\n",
    "\n"
   ]
  },
  {
   "cell_type": "markdown",
   "metadata": {},
   "source": [
    "####  `lambda` and `map()`\n",
    "\n",
    "`map(function, list)`\n",
    "\n",
    "\n",
    "* `list` : is an entity that can be iterated and passed to the function.\n",
    "\n",
    "\n",
    "* `map()` can accept more than 2 arguments.\n",
    "\n",
    "\n",
    "\n",
    "`map()` takes all the elements of the `list` (2nd arg) and applies it to the `function` (1st arg) and returns an iterator\n",
    "\n",
    "\n",
    "**The resulting iterator can be converted into a list or a generator as below**"
   ]
  },
  {
   "cell_type": "code",
   "execution_count": 26,
   "metadata": {},
   "outputs": [
    {
     "name": "stdout",
     "output_type": "stream",
     "text": [
      "<map object at 0x000001B9C1DDB588>\n"
     ]
    }
   ],
   "source": [
    "list_1 = [x for x in range(4)]\n",
    "list_2 = map(lambda x: x ** x, list_1)\n",
    "print(list_2)\n",
    "\n",
    "#for x in map(lambda x: x * x, list_2):\n",
    "#    print(x, end=' ')\n",
    "#print()\n"
   ]
  },
  {
   "cell_type": "markdown",
   "metadata": {},
   "source": [
    "####  `lambda` and `filter()`\n",
    "\n",
    "It acts the same as the `map()` function but the only difference is:\n",
    "\n",
    "* The function is invoked for each list element, **just like in map()**\n",
    "\n",
    "\n",
    "\n",
    "* **Only the elements which return `True`** from the function **pass the filter - the `others are rejected`.**\n"
   ]
  },
  {
   "cell_type": "code",
   "execution_count": 30,
   "metadata": {},
   "outputs": [
    {
     "name": "stdout",
     "output_type": "stream",
     "text": [
      "[2, 4, 6]\n",
      "[-7, 6, 5, -4, -1]\n",
      "[6]\n"
     ]
    }
   ],
   "source": [
    "from random import seed, randint\n",
    "\n",
    "#seed()\n",
    "data = [randint(-10,10) for x in range(5)]\n",
    "filtered = list(filter(lambda x: x > 0 and x % 2 == 0, data))   #Only which pass the condition will be stored.\n",
    "\n",
    "f=[i for i in range(7)]\n",
    "fil = list(filter(lambda x: x > 0 and x %2 ==0,f))\n",
    "print(fil)\n",
    "\n",
    "\n",
    "\n",
    "print(data)\n",
    "print(filtered)\n"
   ]
  },
  {
   "cell_type": "markdown",
   "metadata": {},
   "source": [
    "## Tricky"
   ]
  },
  {
   "cell_type": "code",
   "execution_count": 20,
   "metadata": {},
   "outputs": [
    {
     "name": "stdout",
     "output_type": "stream",
     "text": [
      "[1, 3, 3, 5]\n"
     ]
    }
   ],
   "source": [
    "any_list = [1, 2, 3, 4]\n",
    "even_list = list(map(lambda n: n | 1, any_list))\n",
    "print(even_list)"
   ]
  }
 ],
 "metadata": {
  "kernelspec": {
   "display_name": "Python 3",
   "language": "python",
   "name": "python3"
  },
  "language_info": {
   "codemirror_mode": {
    "name": "ipython",
    "version": 3
   },
   "file_extension": ".py",
   "mimetype": "text/x-python",
   "name": "python",
   "nbconvert_exporter": "python",
   "pygments_lexer": "ipython3",
   "version": "3.7.6"
  }
 },
 "nbformat": 4,
 "nbformat_minor": 4
}
