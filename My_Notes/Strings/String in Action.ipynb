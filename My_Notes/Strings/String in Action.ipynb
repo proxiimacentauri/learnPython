{
 "cells": [
  {
   "cell_type": "markdown",
   "metadata": {},
   "source": [
    "## String in Action"
   ]
  },
  {
   "cell_type": "markdown",
   "metadata": {},
   "source": [
    "Python's strings can be compared using the same set of operators which are in use in relation to numbers.\n",
    "\n",
    "<br>\n",
    "\n",
    "* **It just compares code point values, character by character.**\n",
    "\n",
    "\n",
    "* **Two strings are equal when they consist of the same characters in the same order.**\n",
    "\n",
    "\n",
    "* The **final relation between strings is determined by comparing the first different character in both strings**\n",
    "\n",
    "\n",
    "* When you compare two strings of `different lengths` and the shorter one is identical to the longer one's beginning, the longer string is considered greater.\n",
    "\n",
    "\n",
    "* Upper-case letters are taken as `lesser` than lower-case\n",
    "\n",
    "<br>\n",
    "\n",
    "`string == number` is always False;<br>\n",
    "`string != number` is always True;<br>\n",
    "`string >= number` always raises an exception.<br>"
   ]
  },
  {
   "cell_type": "code",
   "execution_count": 2,
   "metadata": {},
   "outputs": [
    {
     "name": "stdout",
     "output_type": "stream",
     "text": [
      "False\n",
      "True\n"
     ]
    }
   ],
   "source": [
    "print('8' == 8)\n",
    "#print('8' >= 8) # Value Error\n",
    "print('8' != 8)\n",
    "#print('8' <= 8) # Value Error"
   ]
  },
  {
   "cell_type": "code",
   "execution_count": 4,
   "metadata": {},
   "outputs": [
    {
     "name": "stdout",
     "output_type": "stream",
     "text": [
      "True\n",
      "False\n"
     ]
    }
   ],
   "source": [
    "print('alpha' == 'alpha')\n",
    "print('alpha' == 'Alpha')\n"
   ]
  },
  {
   "cell_type": "code",
   "execution_count": 6,
   "metadata": {},
   "outputs": [
    {
     "name": "stdout",
     "output_type": "stream",
     "text": [
      "True\n",
      "True\n"
     ]
    }
   ],
   "source": [
    "print('alpha' < 'alphabet')\n",
    "print('alphZ' < 'alphabet')"
   ]
  },
  {
   "cell_type": "code",
   "execution_count": 13,
   "metadata": {
    "scrolled": true
   },
   "outputs": [
    {
     "name": "stdout",
     "output_type": "stream",
     "text": [
      "True\n",
      "True\n"
     ]
    }
   ],
   "source": [
    "print('beta' > 'Beta')\n",
    "print('betz' > 'Beta')"
   ]
  },
  {
   "cell_type": "markdown",
   "metadata": {},
   "source": [
    "**Even if a string contains digits only, it's still not a number.** It's interpreted as-is, like any other regular string, and its (potential) numerical aspect is not taken into consideration in any way."
   ]
  },
  {
   "cell_type": "code",
   "execution_count": 22,
   "metadata": {
    "scrolled": false
   },
   "outputs": [
    {
     "name": "stdout",
     "output_type": "stream",
     "text": [
      "False\n",
      "True\n",
      "False\n",
      "True\n",
      "True\n",
      "False\n"
     ]
    }
   ],
   "source": [
    "print('10' == '010')\n",
    "print('10' > '010')\n",
    "print('10' > '8')\n",
    "print('20' < '8')\n",
    "print('20' < '80')\n",
    "print('12' == '12.8')"
   ]
  },
  {
   "cell_type": "markdown",
   "metadata": {},
   "source": [
    "**Comparing strings against numbers is generally a bad idea.** "
   ]
  },
  {
   "cell_type": "code",
   "execution_count": 17,
   "metadata": {
    "scrolled": true
   },
   "outputs": [
    {
     "name": "stdout",
     "output_type": "stream",
     "text": [
      "False\n",
      "True\n",
      "False\n",
      "True\n"
     ]
    }
   ],
   "source": [
    "print('10' == 10)\n",
    "print('10' != 10)\n",
    "print('10' == 1)\n",
    "print('10' != 1)\n",
    "#print('10' > 10) # TypeError exception"
   ]
  },
  {
   "cell_type": "markdown",
   "metadata": {},
   "source": [
    "**str(), int() and float()  -- Convert String to number and vice versa** <br>\n",
    "\n",
    "You cant convert '12.8' into an integer"
   ]
  },
  {
   "cell_type": "code",
   "execution_count": 20,
   "metadata": {
    "scrolled": false
   },
   "outputs": [
    {
     "name": "stdout",
     "output_type": "stream",
     "text": [
      "13 1.3\n"
     ]
    }
   ],
   "source": [
    "itg = 13\n",
    "flt = 1.3\n",
    "si = str(itg)\n",
    "sf = str(flt)\n",
    "\n",
    "print(si + ' ' + sf)"
   ]
  },
  {
   "cell_type": "code",
   "execution_count": 8,
   "metadata": {},
   "outputs": [
    {
     "name": "stdout",
     "output_type": "stream",
     "text": [
      "14.3\n"
     ]
    }
   ],
   "source": [
    "si = '13'\n",
    "sf = '1.3'\n",
    "itg = int(si)\n",
    "flt = float(sf)\n",
    "\n",
    "print(itg + flt)"
   ]
  },
  {
   "cell_type": "markdown",
   "metadata": {},
   "source": [
    "### Sort() [Function VS Method]"
   ]
  },
  {
   "cell_type": "markdown",
   "metadata": {},
   "source": [
    "#### Function\n",
    "The function takes one argument (a list) and returns a `new list`, filled with the sorted argument's elements."
   ]
  },
  {
   "cell_type": "code",
   "execution_count": 18,
   "metadata": {},
   "outputs": [
    {
     "name": "stdout",
     "output_type": "stream",
     "text": [
      "['omega', 'alpha', 'pi', 'gamma']\n",
      "['alpha', 'gamma', 'omega', 'pi']\n"
     ]
    }
   ],
   "source": [
    "a = ['omega', 'alpha', 'pi', 'gamma']\n",
    "a1 = sorted(a)\n",
    "\n",
    "print(a)\n",
    "print(a1)"
   ]
  },
  {
   "cell_type": "markdown",
   "metadata": {},
   "source": [
    "#### Method\n",
    "Method affects the list itself - `no new list is created.`\n"
   ]
  },
  {
   "cell_type": "code",
   "execution_count": 19,
   "metadata": {
    "scrolled": true
   },
   "outputs": [
    {
     "name": "stdout",
     "output_type": "stream",
     "text": [
      "['omega', 'alpha', 'pi', 'gamma']\n",
      "['alpha', 'gamma', 'omega', 'pi']\n"
     ]
    }
   ],
   "source": [
    "b = ['omega', 'alpha', 'pi', 'gamma']\n",
    "print(b)\n",
    "\n",
    "b.sort()\n",
    "print(b)"
   ]
  },
  {
   "cell_type": "markdown",
   "metadata": {},
   "source": [
    "### Comparing Strings"
   ]
  },
  {
   "cell_type": "markdown",
   "metadata": {},
   "source": [
    "Comparing strings in a strict way (as Python does) can be very unsatisfactory.\n",
    "\n",
    "* **Hamming Distance** - Which is used to determine the similarity of two strings.\n",
    "* **Levenshtein Distance** - \n",
    "* **Soundex ** - finding their acoustic similarity, which means a process leading to determine if two strings sound similar (like \"raise\" and \"race\")."
   ]
  },
  {
   "cell_type": "markdown",
   "metadata": {},
   "source": [
    "#### Hamming Distance"
   ]
  },
  {
   "cell_type": "raw",
   "metadata": {},
   "source": [
    "karolin\n",
    "kathrin\n",
    "  |||      Different at 3 positions so a distance of 3\n",
    "\n",
    "1011101\n",
    "1001001\n",
    "  | |      Distance of 2\n",
    "\n",
    "2173896\n",
    "2233796\n",
    " || |      Distance of 3"
   ]
  }
 ],
 "metadata": {
  "kernelspec": {
   "display_name": "Python 3",
   "language": "python",
   "name": "python3"
  },
  "language_info": {
   "codemirror_mode": {
    "name": "ipython",
    "version": 3
   },
   "file_extension": ".py",
   "mimetype": "text/x-python",
   "name": "python",
   "nbconvert_exporter": "python",
   "pygments_lexer": "ipython3",
   "version": "3.7.6"
  }
 },
 "nbformat": 4,
 "nbformat_minor": 4
}
