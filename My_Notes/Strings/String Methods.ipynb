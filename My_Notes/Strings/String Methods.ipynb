{
 "cells": [
  {
   "cell_type": "markdown",
   "metadata": {},
   "source": [
    "## String Methods"
   ]
  },
  {
   "cell_type": "markdown",
   "metadata": {},
   "source": [
    "### Summary"
   ]
  },
  {
   "cell_type": "markdown",
   "metadata": {},
   "source": [
    "`capitalize()` – changes the index 0 to upper case; <br>\n",
    "`center()` – centers the string inside the field of a known length;<br>\n",
    "`count()` – counts ALL occurrences of a given character;<br>\n",
    "`join()` – joins all items of a tuple/list into one string;<br>\n",
    "`lower()` – converts all the string's letters into lower-case letters;<br>\n",
    "`lstrip()` – removes the white characters from the beginning of the string;<br>\n",
    "`replace()` – replaces a given substring with another;<br>\n",
    "`rfind()` – finds a substring starting from the end of the string;<br>\n",
    "`rstrip()` – removes the trailing white spaces from the end of the string;<br>\n",
    "`split()` – splits the string into a substring using a given delimiter;<br>\n",
    "`strip()` – removes the leading and trailing white spaces;<br>\n",
    "`swapcase()` – swaps the letters' cases (lower to upper and vice versa)<br>\n",
    "`title()` – makes the first letter in each word upper-case;<br>\n",
    "`upper()` – converts all the string's letter into upper-case letters.<br>\n",
    "\n",
    "<br>\n",
    "\n",
    "`endswith()` – does the string end with a given substring?<br>\n",
    "`isalnum()` – does the string consist only of letters and digits?<br>\n",
    "`isalpha()` – does the string consist only of letters?<br>\n",
    "`islower()` – does the string consists only of lower-case letters?<br>\n",
    "`isspace()` – does the string consists only of white spaces?<br>\n",
    "`isupper()` – does the string consists only of upper-case letters?<br>\n",
    "`startswith()` – does the string begin with a given substring?<br>"
   ]
  },
  {
   "cell_type": "code",
   "execution_count": null,
   "metadata": {},
   "outputs": [],
   "source": [
    "def mysplit(s):\n",
    "    #\n",
    "    # put your code here\n",
    "    \n",
    "    a=[] # To store the Index\n",
    "    c=\"\" # To Store the bunch of words\n",
    "    d=[] # To store the result\n",
    "    \n",
    "    for i in range(len(s)): # Initializing i as the index counter\n",
    "        if s[i] != \" \":   # When the elenment is not a space\n",
    "            a.append(i) # Storing the index of non-space eleemtn\n",
    "        \n",
    "        if s[i] == \" \":   # When the ele is a space\n",
    "            for j in a:     # initialise the j as elements of stores index\n",
    "                c += s[j] # Concatenate the stored elements into 1 element\n",
    "            \n",
    "            d.append(c) # Store that element\n",
    "            c=\"\"        # re-initialize \n",
    "            a=[]        # re-initializw\n",
    "    return d\n",
    "    #\n",
    "\n",
    "\n",
    "print(mysplit(\"To be or not to be, that is the question\"))\n",
    "print(mysplit(\"To be or not to be,that is the question\"))\n",
    "print(mysplit(\"   \"))\n",
    "print(mysplit(\" abc \"))\n",
    "print(mysplit(\"\"))"
   ]
  },
  {
   "cell_type": "markdown",
   "metadata": {},
   "source": [
    "### Details"
   ]
  },
  {
   "cell_type": "markdown",
   "metadata": {},
   "source": [
    "#### index()\n"
   ]
  },
  {
   "cell_type": "markdown",
   "metadata": {},
   "source": [
    "It searches the sequence from the beginning, in order to find the first element of the value specified in its argument.\n",
    "\n",
    "*  The element searched for must occur in the sequence - its absence will cause a `ValueError` exception.\n",
    "* The `method` returns the **index of the first occurrence of the argument** (which means that the lowest possible result is 0, while the highest is the length of argument decremented by 1)."
   ]
  },
  {
   "cell_type": "code",
   "execution_count": 4,
   "metadata": {
    "scrolled": true
   },
   "outputs": [
    {
     "name": "stdout",
     "output_type": "stream",
     "text": [
      "2\n",
      "13\n",
      "5\n"
     ]
    }
   ],
   "source": [
    "print(\"aAbByYzZaA\".index(\"b\"))\n",
    "print(\"Akshay Dandgaval\".index(\"v\"))\n",
    "print(\"Aishwayra\".index(\"a\"))"
   ]
  },
  {
   "cell_type": "markdown",
   "metadata": {},
   "source": [
    "#### find()"
   ]
  },
  {
   "cell_type": "markdown",
   "metadata": {},
   "source": [
    "It looks for a substring and `returns the index of first occurrence` of this substring, but:\n",
    "\n",
    "* It's safer - it doesn't generate an error for an argument containing a non-existent substring **(it returns -1 then)**\n",
    "* I works with **strings only** - don't try to apply it to any other sequence."
   ]
  },
  {
   "cell_type": "code",
   "execution_count": null,
   "metadata": {
    "scrolled": true
   },
   "outputs": [],
   "source": [
    "print(\"Eta\".find(\"ta\"))\n",
    "print(\"Eta\".find(\"mma\"))"
   ]
  },
  {
   "cell_type": "code",
   "execution_count": null,
   "metadata": {
    "scrolled": false
   },
   "outputs": [],
   "source": [
    "t = 'theta'\n",
    "print(t.find('eta'))\n",
    "print(t.find('et'))\n",
    "print(t.find('the'))\n",
    "print(t.find('ha'))\n"
   ]
  },
  {
   "cell_type": "markdown",
   "metadata": {},
   "source": [
    "**2-argument** If you want to perform the find, not from the string's beginning, **but from any position**\n",
    "\n",
    "<br>\n",
    "\n",
    "The **2nd argument** specifies the index at which the search will be started (it doesn't have to fit inside the string)."
   ]
  },
  {
   "cell_type": "code",
   "execution_count": null,
   "metadata": {
    "scrolled": true
   },
   "outputs": [],
   "source": [
    "print('kappa'.find('a', 2)) # here the 'a' on the 2nd index will be ignored"
   ]
  },
  {
   "cell_type": "code",
   "execution_count": null,
   "metadata": {
    "scrolled": true
   },
   "outputs": [],
   "source": [
    "the_text = \"\"\"A variation of the ordinary lorem ipsum\n",
    "text has been used in typesetting since the 1960s \n",
    "or earlier, when it was popularized by advertisements \n",
    "for Letraset transfer sheets. It was introduced to \n",
    "the Information Age in the mid-1980s by the Aldus Corporation, \n",
    "which employed it in graphics and word-processing templates\n",
    "for its desktop publishing program PageMaker (from Wikipedia)\"\"\"\n",
    "\n",
    "fnd = the_text.find('the')\n",
    "while fnd != -1:\n",
    "    print(fnd)\n",
    "    fnd = the_text.find('the', fnd + 1)"
   ]
  },
  {
   "cell_type": "markdown",
   "metadata": {},
   "source": [
    "**3-argument** the third argument points to the first index which won't be taken into consideration during the search (it's actually the **upper limit of the search).**\n"
   ]
  },
  {
   "cell_type": "code",
   "execution_count": 1,
   "metadata": {},
   "outputs": [
    {
     "name": "stdout",
     "output_type": "stream",
     "text": [
      "1\n",
      "-1\n"
     ]
    }
   ],
   "source": [
    "print('kappa'.find('a', 1, 4)) # only the 4th index 'a' is ignored\n",
    "print('kappa'.find('a', 2, 4)) # Both the 2nd index and the 4th index 'a' are ignored"
   ]
  },
  {
   "cell_type": "code",
   "execution_count": null,
   "metadata": {
    "scrolled": true
   },
   "outputs": [],
   "source": [
    "print('kappa'.find('a', 2)) # here the 'a' on the 2nd index will be ignored"
   ]
  },
  {
   "cell_type": "markdown",
   "metadata": {},
   "source": [
    "#### rfind() "
   ]
  },
  {
   "cell_type": "markdown",
   "metadata": {},
   "source": [
    "The method **1,2 and 3 -argument but start their searches from the end of the string, not the beginning (hence the prefix r, for right).** `same function as find() but rfind starts from end `\n",
    "\n",
    "* In the **Parameterless** version it removes `whitespaces`"
   ]
  },
  {
   "cell_type": "code",
   "execution_count": null,
   "metadata": {
    "scrolled": false
   },
   "outputs": [],
   "source": [
    "print(\"tau tau tau\".rfind(\"ta\"))\n",
    "print(\"tau tau tau\".rfind(\"ta\", 9))\n",
    "print(\"tau tau tau\".rfind(\"ta\", 3, 9))\n"
   ]
  },
  {
   "cell_type": "code",
   "execution_count": null,
   "metadata": {},
   "outputs": [],
   "source": [
    "print(\"tau tau tau\".find(\"ta\"))\n",
    "print(\"tau tau tau\".find(\"ta\", 9))\n",
    "print(\"tau tau tau\".find(\"ta\", 3, 9))"
   ]
  },
  {
   "cell_type": "markdown",
   "metadata": {
    "heading_collapsed": true
   },
   "source": [
    "#### count() "
   ]
  },
  {
   "cell_type": "markdown",
   "metadata": {
    "hidden": true
   },
   "source": [
    "The count() method counts all occurrences of the element inside the sequence. \n",
    "\n",
    "*  The absence of such elements doesn't cause any problems.\n"
   ]
  },
  {
   "cell_type": "code",
   "execution_count": null,
   "metadata": {
    "hidden": true,
    "scrolled": true
   },
   "outputs": [],
   "source": [
    "print(\"abcabc\".count(\"b\"))\n",
    "print('abcabc'.count(\"d\"))"
   ]
  },
  {
   "cell_type": "markdown",
   "metadata": {
    "heading_collapsed": true
   },
   "source": [
    "#### capitalize() "
   ]
  },
  {
   "cell_type": "markdown",
   "metadata": {
    "hidden": true
   },
   "source": [
    "It creates a new string filled with characters taken from the source string. but it tries to modify them in the following way:\n",
    "\n",
    "*  If the first character inside the string is a letter (note: the first character is an element with an index equal to 0, not just the first visible character), it will be converted to upper-case\n",
    "* All remaining letters from the string will be converted to lower-case.\n",
    "* The original string is `invoked` and not changed in any way, and the capitalised string is returned as a result, if not saved to a variable it will not be available.\n"
   ]
  },
  {
   "cell_type": "code",
   "execution_count": null,
   "metadata": {
    "hidden": true,
    "scrolled": false
   },
   "outputs": [],
   "source": [
    "a=\"akshayD\"\n",
    "print(a.capitalize())\n",
    "\n",
    "print(\"δαβγδ\".capitalize())\n",
    "print(\" δαβγδ\".capitalize())\n",
    "print(\"123\".capitalize())"
   ]
  },
  {
   "cell_type": "markdown",
   "metadata": {
    "heading_collapsed": true
   },
   "source": [
    "#### center() "
   ]
  },
  {
   "cell_type": "markdown",
   "metadata": {
    "hidden": true
   },
   "source": [
    "The **1-parameter** variant of the center() method makes a copy of the original string, trying to center it inside a field of a specified width.\n",
    "\n",
    "* Centering is actually done by **adding some spaces before and after the string.**\n",
    "<br>\n",
    "\n",
    "The **2-parameter** variant of center() makes use of the character from the second argument, instead of a space.\n",
    "\n"
   ]
  },
  {
   "cell_type": "code",
   "execution_count": null,
   "metadata": {
    "hidden": true,
    "scrolled": false
   },
   "outputs": [],
   "source": [
    "a=\"Akshay\" # Its has 6 characters\n",
    "print('['+ a.center(2) +']')\n",
    "print('['+ a.center(4) +']')\n",
    "print('['+ a.center(6) +']')\n",
    "print('['+ a.center(7) +']')\n",
    "print('['+ a.center(8) +']')"
   ]
  },
  {
   "cell_type": "code",
   "execution_count": null,
   "metadata": {
    "hidden": true,
    "scrolled": true
   },
   "outputs": [],
   "source": [
    "a=\"Akshay\" # Its has 6 characters\n",
    "print('['+ a.center(2,\"*\") +']')\n",
    "print('['+ a.center(4,\"*\") +']')\n",
    "print('['+ a.center(6,\"*\") +']')\n",
    "print('['+ a.center(7,\"*\") +']')\n",
    "print('['+ a.center(8,\"*\") +']')\n",
    "print('['+ a.center(20,\"*\") +']')"
   ]
  },
  {
   "cell_type": "markdown",
   "metadata": {
    "heading_collapsed": true
   },
   "source": [
    "#### startswith() "
   ]
  },
  {
   "cell_type": "markdown",
   "metadata": {
    "hidden": true
   },
   "source": [
    "Method is a mirror reflection of endswith() - it checks if a given string starts with the specified substring"
   ]
  },
  {
   "cell_type": "code",
   "execution_count": null,
   "metadata": {
    "hidden": true,
    "scrolled": true
   },
   "outputs": [],
   "source": [
    "t = \"zeta\"\n",
    "print(t.startswith(\"z\"))\n",
    "print(t.startswith(\"ze\"))\n",
    "print(t.startswith(\"et\"))\n",
    "print(t.startswith(\"eta\"))"
   ]
  },
  {
   "cell_type": "markdown",
   "metadata": {
    "heading_collapsed": true
   },
   "source": [
    "#### endswith() "
   ]
  },
  {
   "cell_type": "markdown",
   "metadata": {
    "hidden": true
   },
   "source": [
    "checks if the given string ends with the specified argument and returns `True` or `False`\n",
    "\n"
   ]
  },
  {
   "cell_type": "code",
   "execution_count": null,
   "metadata": {
    "hidden": true,
    "scrolled": true
   },
   "outputs": [],
   "source": [
    "t = \"zeta\"\n",
    "print(t.endswith(\"a\"))\n",
    "print(t.endswith(\"A\"))\n",
    "print(t.endswith(\"et\"))\n",
    "print(t.endswith(\"eta\"))"
   ]
  },
  {
   "cell_type": "markdown",
   "metadata": {
    "heading_collapsed": true
   },
   "source": [
    "#### isalnum() "
   ]
  },
  {
   "cell_type": "markdown",
   "metadata": {
    "hidden": true
   },
   "source": [
    "The **parameterless metho**d named isalnum() checks if the string contains `only digits or alphabetical characters (letters)`, and returns True or False according to the result."
   ]
  },
  {
   "cell_type": "code",
   "execution_count": null,
   "metadata": {
    "hidden": true,
    "scrolled": true
   },
   "outputs": [],
   "source": [
    "print('lambda30'.isalnum())\n",
    "print('lambda '.isalnum())    # If a space is included, its FALSE\n",
    "print('30'.isalnum())\n",
    "print('@'.isalnum())               # False\n",
    "print('lambda_30'.isalnum())      # False\n",
    "print(''.isalnum())              # False\n",
    "print('ΑβΓδ'.isalnum())         # True\n",
    "print(' '.isalnum())           # False"
   ]
  },
  {
   "cell_type": "markdown",
   "metadata": {
    "heading_collapsed": true
   },
   "source": [
    "#### isalpha() "
   ]
  },
  {
   "cell_type": "markdown",
   "metadata": {
    "hidden": true
   },
   "source": [
    "The **parameterless method** checks if the string contains `only alphabetical characters (letters)`, and returns True or False according to the result."
   ]
  },
  {
   "cell_type": "code",
   "execution_count": null,
   "metadata": {
    "hidden": true,
    "scrolled": true
   },
   "outputs": [],
   "source": [
    "print(\"Moooo\".isalpha())\n",
    "print('Mu40'.isalpha())"
   ]
  },
  {
   "cell_type": "markdown",
   "metadata": {
    "heading_collapsed": true
   },
   "source": [
    "#### isdigit() "
   ]
  },
  {
   "cell_type": "markdown",
   "metadata": {
    "hidden": true
   },
   "source": [
    "The **parameterless method** checks if the string contains `only digits`, and returns True or False according to the result."
   ]
  },
  {
   "cell_type": "code",
   "execution_count": null,
   "metadata": {
    "hidden": true,
    "scrolled": true
   },
   "outputs": [],
   "source": [
    "print('2018'.isdigit())\n",
    "print(\"Year2019\".isdigit())"
   ]
  },
  {
   "cell_type": "markdown",
   "metadata": {
    "heading_collapsed": true
   },
   "source": [
    "#### islower() "
   ]
  },
  {
   "cell_type": "markdown",
   "metadata": {
    "hidden": true
   },
   "source": [
    "The **parameterless method** checks if the string contains `only  lower-case letters only`, and returns True or False according to the result."
   ]
  },
  {
   "cell_type": "code",
   "execution_count": null,
   "metadata": {
    "hidden": true,
    "scrolled": false
   },
   "outputs": [],
   "source": [
    "print(\"Moooo\".islower())\n",
    "print('moooo'.islower())"
   ]
  },
  {
   "cell_type": "markdown",
   "metadata": {
    "heading_collapsed": true
   },
   "source": [
    "#### isupper() "
   ]
  },
  {
   "cell_type": "markdown",
   "metadata": {
    "hidden": true
   },
   "source": [
    "The **parameterless method** checks if the string contains `only upper-case letters`, and returns True or False according to the result."
   ]
  },
  {
   "cell_type": "code",
   "execution_count": null,
   "metadata": {
    "hidden": true,
    "scrolled": false
   },
   "outputs": [],
   "source": [
    "print(\"Moooo\".isupper())\n",
    "print('moooo'.isupper())\n",
    "print('MOOOO'.isupper())"
   ]
  },
  {
   "cell_type": "markdown",
   "metadata": {
    "heading_collapsed": true
   },
   "source": [
    "#### isspace() "
   ]
  },
  {
   "cell_type": "markdown",
   "metadata": {
    "hidden": true
   },
   "source": [
    "The **parameterless method** checks if the string contains `only whitespaces `, and returns True or False according to the result."
   ]
  },
  {
   "cell_type": "code",
   "execution_count": null,
   "metadata": {
    "hidden": true,
    "scrolled": true
   },
   "outputs": [],
   "source": [
    "print(' \\n '.isspace())\n",
    "print(\" \".isspace())\n",
    "print(\"mooo mooo mooo\".isspace())"
   ]
  },
  {
   "cell_type": "markdown",
   "metadata": {
    "heading_collapsed": true
   },
   "source": [
    "#### isdigit() "
   ]
  },
  {
   "cell_type": "markdown",
   "metadata": {
    "hidden": true
   },
   "source": [
    "The **parameterless method** checks if the string contains `only digits`, and returns True or False according to the result."
   ]
  },
  {
   "cell_type": "code",
   "execution_count": null,
   "metadata": {
    "hidden": true,
    "scrolled": false
   },
   "outputs": [],
   "source": [
    "print('2018'.isdigit())\n",
    "print(\"Year2019\".isdigit())"
   ]
  },
  {
   "cell_type": "markdown",
   "metadata": {
    "heading_collapsed": true
   },
   "source": [
    "#### join() "
   ]
  },
  {
   "cell_type": "markdown",
   "metadata": {
    "hidden": true
   },
   "source": [
    "The method **performs a join** it expects 1-argument as a **list** and the **lists elemts are STRINGS** otherwise it will raise a `TypeError` exception.\n",
    "\n",
    "* All the lists elements will be **joined into 1-string** but the string from which the menthod is invoked is **used as a sperator** put among the strings."
   ]
  },
  {
   "cell_type": "code",
   "execution_count": 3,
   "metadata": {
    "hidden": true,
    "scrolled": true
   },
   "outputs": [
    {
     "name": "stdout",
     "output_type": "stream",
     "text": [
      "omicron,pi,rho\n",
      "omicron******pi******rho\n"
     ]
    }
   ],
   "source": [
    "print(\",\".join([\"omicron\", \"pi\", \"rho\"]))\n",
    "print(\"******\".join([\"omicron\", \"pi\", \"rho\"]))\n"
   ]
  },
  {
   "cell_type": "markdown",
   "metadata": {
    "heading_collapsed": true
   },
   "source": [
    "#### split() "
   ]
  },
  {
   "cell_type": "markdown",
   "metadata": {
    "hidden": true
   },
   "source": [
    "The method **splits the string and builds a list of all detected substrings.** \n",
    "\n",
    "* The method assumes that the substrings are delimited by whitespaces (\\t, \\n any whitespace)"
   ]
  },
  {
   "cell_type": "code",
   "execution_count": null,
   "metadata": {
    "hidden": true,
    "scrolled": true
   },
   "outputs": [],
   "source": [
    "print(\"phi       chi\\npsi\".split())"
   ]
  },
  {
   "cell_type": "markdown",
   "metadata": {
    "heading_collapsed": true
   },
   "source": [
    "#### lower() [Parameterless]"
   ]
  },
  {
   "cell_type": "markdown",
   "metadata": {
    "hidden": true
   },
   "source": [
    "The method **makes a copy of a source string, replaces all upper-case letters with their lower-case counterparts**. The source string remains untouched.\n",
    "\n",
    "* Its is parameterless"
   ]
  },
  {
   "cell_type": "code",
   "execution_count": null,
   "metadata": {
    "hidden": true,
    "scrolled": false
   },
   "outputs": [],
   "source": [
    "print(\"SiGmA=60\".lower())\n",
    "print(\"AKSHAYDANDGAVA;34899979DF4D86S74F97\".lower())"
   ]
  },
  {
   "cell_type": "markdown",
   "metadata": {
    "heading_collapsed": true
   },
   "source": [
    "#### strip() "
   ]
  },
  {
   "cell_type": "markdown",
   "metadata": {
    "hidden": true
   },
   "source": [
    "The method **method combines the effects caused by rstrip() and lstrip() - it makes a new string lacking all the leading and trailing whitespaces.**. The source string remains untouched.\n"
   ]
  },
  {
   "cell_type": "code",
   "execution_count": null,
   "metadata": {
    "hidden": true,
    "scrolled": false
   },
   "outputs": [],
   "source": [
    "print(\"www.cisco.com\".strip(\".com\"))\n",
    "print(\"www.cisco.com\".strip(\"w.\"))\n",
    "print(\"www cisco com\".strip(\" \"))"
   ]
  },
  {
   "cell_type": "markdown",
   "metadata": {
    "heading_collapsed": true
   },
   "source": [
    "#### lstrip() "
   ]
  },
  {
   "cell_type": "markdown",
   "metadata": {
    "hidden": true
   },
   "source": [
    "The method **returns a newly created string formed from the original one by removing the argument specified**. The source string remains untouched.\n",
    "\n",
    "* In the **Parameterless** version it removes `whitespaces`"
   ]
  },
  {
   "cell_type": "code",
   "execution_count": null,
   "metadata": {
    "hidden": true,
    "scrolled": false
   },
   "outputs": [],
   "source": [
    "print(\"www.cisco.com\".lstrip(\".com\")) # IT doesnt work for some reason\n",
    "print(\"www.cisco.com\".lstrip(\"w.\"))\n",
    "print(\"www cisco com\".lstrip(\" \"))"
   ]
  },
  {
   "cell_type": "markdown",
   "metadata": {
    "heading_collapsed": true
   },
   "source": [
    "#### rstrip() "
   ]
  },
  {
   "cell_type": "markdown",
   "metadata": {
    "hidden": true
   },
   "source": [
    "The method **same as lstrips, but affect the opposite side of the string.**"
   ]
  },
  {
   "cell_type": "code",
   "execution_count": null,
   "metadata": {
    "hidden": true,
    "scrolled": true
   },
   "outputs": [],
   "source": [
    "print(\"www.cisco.com\".rstrip(\".com\")) # IT doesnt work for some reason\n",
    "print(\"www.cisco.com\".rstrip(\"w.\"))\n",
    "print(\"www cisco com\".rstrip(\" \"))"
   ]
  },
  {
   "cell_type": "markdown",
   "metadata": {
    "heading_collapsed": true
   },
   "source": [
    "#### replace() "
   ]
  },
  {
   "cell_type": "markdown",
   "metadata": {
    "hidden": true
   },
   "source": [
    "The **2-parameter** method **returns a copy of the original string in which all occurrences of the first argument have been replaced by the second argument.**. The source string remains untouched."
   ]
  },
  {
   "cell_type": "code",
   "execution_count": null,
   "metadata": {
    "hidden": true,
    "scrolled": false
   },
   "outputs": [],
   "source": [
    "print(\"www.netacad.com\".replace(\"netacad.com\", \"pythoninstitute.org\"))\n",
    "print(\"This is it!\".replace(\"is\", \"are\"))\n",
    "print(\"Apple juice\".replace(\"juice\", \"\"))"
   ]
  },
  {
   "cell_type": "markdown",
   "metadata": {
    "hidden": true
   },
   "source": [
    "The **3-parameter** method **third argument (a number) to limit the number of replacements.**. The source string remains untouched."
   ]
  },
  {
   "cell_type": "code",
   "execution_count": null,
   "metadata": {
    "hidden": true,
    "scrolled": false
   },
   "outputs": [],
   "source": [
    "print(\"This is it!\".replace(\"is\", \"are\", 1))\n",
    "print(\"This is it!\".replace(\"is\", \"are\", 2))"
   ]
  },
  {
   "cell_type": "markdown",
   "metadata": {
    "heading_collapsed": true
   },
   "source": [
    "#### swapcase() "
   ]
  },
  {
   "cell_type": "markdown",
   "metadata": {
    "hidden": true
   },
   "source": [
    "The **makes a new string by swapping the case of all letters within the source string: lower-case characters become upper-case, and vice versa.**"
   ]
  },
  {
   "cell_type": "code",
   "execution_count": null,
   "metadata": {
    "hidden": true,
    "scrolled": false
   },
   "outputs": [],
   "source": [
    "print(\"I know that I know nothing.\".swapcase())"
   ]
  },
  {
   "cell_type": "markdown",
   "metadata": {
    "heading_collapsed": true
   },
   "source": [
    "#### title() "
   ]
  },
  {
   "cell_type": "markdown",
   "metadata": {
    "hidden": true
   },
   "source": [
    "The **changes every word's first letter to upper-case, turning all other ones to lower-case**"
   ]
  },
  {
   "cell_type": "code",
   "execution_count": null,
   "metadata": {
    "hidden": true,
    "scrolled": true
   },
   "outputs": [],
   "source": [
    "print(\"I know that I know nothing. Part 1.\".title())"
   ]
  },
  {
   "cell_type": "markdown",
   "metadata": {
    "heading_collapsed": true
   },
   "source": [
    "#### upper() "
   ]
  },
  {
   "cell_type": "markdown",
   "metadata": {
    "hidden": true
   },
   "source": [
    "The **makes a copy of the source string, replaces all lower-case letters with their upper-case counterparts**"
   ]
  },
  {
   "cell_type": "code",
   "execution_count": null,
   "metadata": {
    "hidden": true,
    "scrolled": false
   },
   "outputs": [],
   "source": [
    "print(\"I know that I know nothing. Part 2.\".upper())\n",
    "print(\"i know that I know nothing. Part 2.\".capitalize())"
   ]
  },
  {
   "cell_type": "code",
   "execution_count": null,
   "metadata": {
    "hidden": true
   },
   "outputs": [],
   "source": []
  }
 ],
 "metadata": {
  "kernelspec": {
   "display_name": "Python 3",
   "language": "python",
   "name": "python3"
  },
  "language_info": {
   "codemirror_mode": {
    "name": "ipython",
    "version": 3
   },
   "file_extension": ".py",
   "mimetype": "text/x-python",
   "name": "python",
   "nbconvert_exporter": "python",
   "pygments_lexer": "ipython3",
   "version": "3.7.6"
  }
 },
 "nbformat": 4,
 "nbformat_minor": 4
}
