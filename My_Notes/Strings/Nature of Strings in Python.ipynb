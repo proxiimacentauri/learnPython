{
 "cells": [
  {
   "cell_type": "markdown",
   "metadata": {},
   "source": [
    "## Nature of Strings in Python"
   ]
  },
  {
   "cell_type": "markdown",
   "metadata": {},
   "source": [
    "Strings in Python are **immutable**."
   ]
  },
  {
   "cell_type": "code",
   "execution_count": 45,
   "metadata": {},
   "outputs": [
    {
     "name": "stdout",
     "output_type": "stream",
     "text": [
      "2\n",
      "0\n",
      "3\n",
      "1\n"
     ]
    }
   ],
   "source": [
    "word = 'by'\n",
    "print(len(word))\n",
    "\n",
    "empty = ''\n",
    "print(len(empty))\n",
    "\n",
    "i_am = 'I\\'m'\n",
    "print(len(i_am))\n",
    "\n",
    "tricky=\"\"\"\n",
    "\"\"\"\n",
    "print(len(tricky))"
   ]
  },
  {
   "cell_type": "markdown",
   "metadata": {},
   "source": [
    "The missing character is simply invisible - it's a **whitespace**. It's located between the two text lines."
   ]
  },
  {
   "cell_type": "code",
   "execution_count": 3,
   "metadata": {},
   "outputs": [
    {
     "name": "stdout",
     "output_type": "stream",
     "text": [
      "15\n"
     ]
    }
   ],
   "source": [
    "multiline = '''Line #1\n",
    "Line #2'''\n",
    "\n",
    "#Line #1 = 7char\n",
    "#Line #2 = 7char\n",
    "\n",
    "#Total=14 ?\n",
    "print(len(multiline))"
   ]
  },
  {
   "cell_type": "markdown",
   "metadata": {},
   "source": [
    "### Operations on Strings"
   ]
  },
  {
   "cell_type": "markdown",
   "metadata": {},
   "source": [
    "#### Concatenation (+)"
   ]
  },
  {
   "cell_type": "code",
   "execution_count": 4,
   "metadata": {},
   "outputs": [
    {
     "name": "stdout",
     "output_type": "stream",
     "text": [
      "ab\n",
      "ba\n"
     ]
    }
   ],
   "source": [
    "str1 = 'a'\n",
    "str2 = 'b'\n",
    "print(str1 + str2)\n",
    "print(str2 + str1)"
   ]
  },
  {
   "cell_type": "markdown",
   "metadata": {},
   "source": [
    "#### Replication (\\*) (Its is not multiplication) "
   ]
  },
  {
   "cell_type": "markdown",
   "metadata": {},
   "source": [
    "**Operator Overloading:** The ability to use the same operator against completely different kinds of data (like numbers vs. strings) is called overloading"
   ]
  },
  {
   "cell_type": "code",
   "execution_count": 5,
   "metadata": {
    "scrolled": true
   },
   "outputs": [
    {
     "name": "stdout",
     "output_type": "stream",
     "text": [
      "aaaaa\n",
      "bbbb\n"
     ]
    }
   ],
   "source": [
    "print(5 * 'a')\n",
    "print('b' * 4)\n"
   ]
  },
  {
   "cell_type": "markdown",
   "metadata": {},
   "source": [
    "#### Ordinal ord()"
   ]
  },
  {
   "cell_type": "markdown",
   "metadata": {},
   "source": [
    "If you want to know a specific character's ASCII/UNICODE code point value, you can use a function named ord() (as in ordinal).\n",
    "<br>\n",
    "The function needs a `one-character string as its argument` - **breaching this requirement causes a TypeError exception, and returns a number representing the argument's code point.**"
   ]
  },
  {
   "cell_type": "code",
   "execution_count": 12,
   "metadata": {},
   "outputs": [
    {
     "name": "stdout",
     "output_type": "stream",
     "text": [
      "97\n",
      "2309\n",
      "32\n"
     ]
    }
   ],
   "source": [
    "char_1 = 'a'\n",
    "char_2 = 'अ'  \n",
    "char_3 = ' '  # space\n",
    "\n",
    "\n",
    "print(ord(char_1))\n",
    "print(ord(char_2))\n",
    "print(ord(char_3))"
   ]
  },
  {
   "cell_type": "markdown",
   "metadata": {},
   "source": [
    "#### Character chr()"
   ]
  },
  {
   "cell_type": "markdown",
   "metadata": {},
   "source": [
    "If you know the code point (number) and want to get the corresponding character, you can use a function named chr()\n",
    "<br>\n",
    "The function takes a `code point and returns its character`. - **Invoking it with an invalid argument (e.g., a negative or invalid code point) causes ValueError or TypeError exceptions.**"
   ]
  },
  {
   "cell_type": "code",
   "execution_count": 1,
   "metadata": {},
   "outputs": [
    {
     "ename": "ValueError",
     "evalue": "chr() arg not in range(0x110000)",
     "output_type": "error",
     "traceback": [
      "\u001b[1;31m---------------------------------------------------------------------------\u001b[0m",
      "\u001b[1;31mValueError\u001b[0m                                Traceback (most recent call last)",
      "\u001b[1;32m<ipython-input-1-6e5f36cacc7c>\u001b[0m in \u001b[0;36m<module>\u001b[1;34m\u001b[0m\n\u001b[1;32m----> 1\u001b[1;33m \u001b[0mprint\u001b[0m\u001b[1;33m(\u001b[0m\u001b[0mchr\u001b[0m\u001b[1;33m(\u001b[0m\u001b[1;33m-\u001b[0m\u001b[1;36m97\u001b[0m\u001b[1;33m)\u001b[0m\u001b[1;33m)\u001b[0m\u001b[1;33m\u001b[0m\u001b[1;33m\u001b[0m\u001b[0m\n\u001b[0m\u001b[0;32m      2\u001b[0m \u001b[0mprint\u001b[0m\u001b[1;33m(\u001b[0m\u001b[0mchr\u001b[0m\u001b[1;33m(\u001b[0m\u001b[1;36m2310\u001b[0m\u001b[1;33m)\u001b[0m\u001b[1;33m)\u001b[0m\u001b[1;33m\u001b[0m\u001b[1;33m\u001b[0m\u001b[0m\n\u001b[0;32m      3\u001b[0m \u001b[0mprint\u001b[0m\u001b[1;33m(\u001b[0m\u001b[0mchr\u001b[0m\u001b[1;33m(\u001b[0m\u001b[1;36m1310\u001b[0m\u001b[1;33m)\u001b[0m\u001b[1;33m)\u001b[0m\u001b[1;33m\u001b[0m\u001b[1;33m\u001b[0m\u001b[0m\n",
      "\u001b[1;31mValueError\u001b[0m: chr() arg not in range(0x110000)"
     ]
    }
   ],
   "source": [
    "print(chr(97))\n",
    "print(chr(2310))\n",
    "print(chr(1310))\n"
   ]
  },
  {
   "cell_type": "code",
   "execution_count": 48,
   "metadata": {},
   "outputs": [
    {
     "name": "stdout",
     "output_type": "stream",
     "text": [
      "bcd"
     ]
    }
   ],
   "source": [
    "# chr(ord(character)) == character # True\n",
    "# ord(chr(codepoint)) == codepoint # True\n",
    "\n",
    "x='a'\n",
    "chr(ord(x)) == x\n",
    "y=987\n",
    "ord(chr(y)) == y\n",
    "\n",
    "for ch in \"abc\":\n",
    "    print(chr(ord(ch) + 1), end='')"
   ]
  },
  {
   "cell_type": "markdown",
   "metadata": {},
   "source": [
    "### Strings as Sequences\n",
    "<br>\n",
    "\n",
    "**Python strings are sequences and are immutable**\n",
    "<br>\n",
    "\n",
    "`del`, `insert()` and `append()` will not work."
   ]
  },
  {
   "cell_type": "markdown",
   "metadata": {},
   "source": [
    "#### Indexing"
   ]
  },
  {
   "cell_type": "markdown",
   "metadata": {},
   "source": [
    "**Python strings are sequences**. It's time to show you what that actually means.\n",
    "\n",
    "**Strings aren't lists**, but you can treat them like lists in many particular cases."
   ]
  },
  {
   "cell_type": "code",
   "execution_count": 27,
   "metadata": {},
   "outputs": [
    {
     "name": "stdout",
     "output_type": "stream",
     "text": [
      "a k s h a y   d a n d g a v a l \n"
     ]
    }
   ],
   "source": [
    "# Indexing strings.\n",
    "\n",
    "the_string = 'akshay dandgaval'\n",
    "\n",
    "for ix in range(len(the_string)):\n",
    "    print(the_string[ix], end=' ')\n",
    "\n",
    "print()\n",
    "\n"
   ]
  },
  {
   "cell_type": "markdown",
   "metadata": {},
   "source": [
    "#### Slicing"
   ]
  },
  {
   "cell_type": "code",
   "execution_count": 4,
   "metadata": {},
   "outputs": [
    {
     "name": "stdout",
     "output_type": "stream",
     "text": [
      "12\n",
      "345\n",
      "012\n",
      "3\n",
      "3\n",
      "024\n",
      "135\n"
     ]
    }
   ],
   "source": [
    "#alpha = \"abdefg\"\n",
    "alpha= \"012345\"\n",
    "\n",
    "print(alpha[1:3])\n",
    "print(alpha[3:])\n",
    "print(alpha[:3])\n",
    "print(alpha[3:-2])\n",
    "print(alpha[-3:4])\n",
    "print(alpha[::2])\n",
    "print(alpha[1::2])\n"
   ]
  },
  {
   "cell_type": "markdown",
   "metadata": {},
   "source": [
    "#### in and not in operators"
   ]
  },
  {
   "cell_type": "code",
   "execution_count": 25,
   "metadata": {},
   "outputs": [
    {
     "name": "stdout",
     "output_type": "stream",
     "text": [
      "True\n",
      "False\n",
      "False\n",
      "True\n",
      "False\n"
     ]
    }
   ],
   "source": [
    "alphabet = \"abcdefghijklmnopqrstuvwxyz\"\n",
    "\n",
    "print(\"f\" in alphabet)\n",
    "print(\"F\" in alphabet)\n",
    "print(\"1\" in alphabet)\n",
    "print(\"ghi\" in alphabet)\n",
    "print(\"Xyz\" in alphabet)"
   ]
  },
  {
   "cell_type": "code",
   "execution_count": 26,
   "metadata": {},
   "outputs": [
    {
     "name": "stdout",
     "output_type": "stream",
     "text": [
      "False\n",
      "True\n",
      "True\n",
      "False\n",
      "True\n"
     ]
    }
   ],
   "source": [
    "alphabet = \"abcdefghijklmnopqrstuvwxyz\"\n",
    "\n",
    "print(\"f\" not in alphabet)\n",
    "print(\"F\" not in alphabet)\n",
    "print(\"1\" not in alphabet)\n",
    "print(\"ghi\" not in alphabet)\n",
    "print(\"Xyz\" not in alphabet)\n"
   ]
  },
  {
   "cell_type": "markdown",
   "metadata": {},
   "source": [
    "#### min() and max()"
   ]
  },
  {
   "cell_type": "markdown",
   "metadata": {},
   "source": [
    "Finds the minimum element of the sequence passed as an argument. \n",
    "\n",
    "* There is one condition - the sequence (string, list, it doesn't matter) cat be empty\n",
    "* Or else you'll get a `ValueError` exception.\n",
    "* For a string it looks at the min() value of the ASCII number"
   ]
  },
  {
   "cell_type": "code",
   "execution_count": 6,
   "metadata": {},
   "outputs": [
    {
     "name": "stdout",
     "output_type": "stream",
     "text": [
      "A\n",
      " \n",
      "0\n"
     ]
    }
   ],
   "source": [
    "print(min(\"aAbByYzZ\"))\n",
    "print(min(\"The Knights \")) ## Space\n",
    "print(min([0,1,2,468]))"
   ]
  },
  {
   "cell_type": "code",
   "execution_count": 31,
   "metadata": {
    "scrolled": true
   },
   "outputs": [
    {
     "name": "stdout",
     "output_type": "stream",
     "text": [
      "z\n",
      "t\n",
      "468\n"
     ]
    }
   ],
   "source": [
    "print(max(\"aAbByYzZ\"))\n",
    "print(max(\"The Knights \"))\n",
    "print(max([0,1,2,468]))"
   ]
  },
  {
   "cell_type": "markdown",
   "metadata": {
    "heading_collapsed": true
   },
   "source": [
    "#### list()"
   ]
  },
  {
   "cell_type": "markdown",
   "metadata": {
    "hidden": true
   },
   "source": [
    "It takes its argument (a string) and creates a new list containing all the string's characters, one per list element.\n",
    "\n",
    "*  Its able to create a new list from many other entities (e.g., from tuples and dictionaries)"
   ]
  },
  {
   "cell_type": "code",
   "execution_count": 52,
   "metadata": {
    "hidden": true,
    "scrolled": true
   },
   "outputs": [
    {
     "name": "stdout",
     "output_type": "stream",
     "text": [
      "['a', 'b', 'c', 'a', 'b', 'c']\n",
      "['A', 'k', 's', 'h', 'a', 'y', ' ', 'D', 'A', 'N', 'D', 'G', 'A', 'V', 'A', 'L']\n",
      "['1', '3', '5', '6', '8', '9', '0', '6', '3', '7', '0', '6', '8', '9', '6']\n"
     ]
    }
   ],
   "source": [
    "print(list(\"abcabc\"))\n",
    "print(list(\"Akshay DANDGAVAL\"))\n",
    "print(list(\"135689063706896\"))\n",
    "# print(list((1,),(2,)))"
   ]
  },
  {
   "cell_type": "code",
   "execution_count": null,
   "metadata": {
    "hidden": true
   },
   "outputs": [],
   "source": []
  }
 ],
 "metadata": {
  "kernelspec": {
   "display_name": "Python 3",
   "language": "python",
   "name": "python3"
  },
  "language_info": {
   "codemirror_mode": {
    "name": "ipython",
    "version": 3
   },
   "file_extension": ".py",
   "mimetype": "text/x-python",
   "name": "python",
   "nbconvert_exporter": "python",
   "pygments_lexer": "ipython3",
   "version": "3.7.6"
  }
 },
 "nbformat": 4,
 "nbformat_minor": 4
}
