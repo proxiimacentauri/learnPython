{
 "cells": [
  {
   "cell_type": "markdown",
   "metadata": {},
   "source": [
    "## Generator"
   ]
  },
  {
   "cell_type": "markdown",
   "metadata": {},
   "source": [
    " It is a piece of specialized code able to **produce a series of values, and to control the iteration** process. This is why generators are very often called `iterators`\n",
    " \n",
    " \n",
    " The `range()` function is, in fact, a generator, which is (in fact, again) an iterator."
   ]
  },
  {
   "cell_type": "code",
   "execution_count": null,
   "metadata": {},
   "outputs": [],
   "source": [
    "for i in range(5):\n",
    "    print(i)\n"
   ]
  },
  {
   "cell_type": "markdown",
   "metadata": {},
   "source": [
    "In the example, the `range()` generator is invoked **six times**, providing five subsequent values from zero to four, and finally signaling that the series is complete.\n",
    "\n",
    "The above process is completely transparent. Let's shed some light on it. "
   ]
  },
  {
   "cell_type": "markdown",
   "metadata": {},
   "source": [
    "### Iterator Protocol"
   ]
  },
  {
   "cell_type": "markdown",
   "metadata": {},
   "source": [
    "The iterator protocol is a way in which an **object should behave to conform to the rules imposed by the context of the `for` and `in` statements**. \n",
    "\n",
    "\n",
    "An **object conforming to the iterator protocol** is called an `iterator`."
   ]
  },
  {
   "cell_type": "code",
   "execution_count": null,
   "metadata": {},
   "outputs": [],
   "source": [
    "class Fib:\n",
    "    def __init__(self, nn):\n",
    "        print(\"__init__\")\n",
    "        self.__n = nn\n",
    "        self.__i = 0\n",
    "        self.__p1 = self.__p2 = 1\n",
    "\n",
    "    def __iter__(self):\n",
    "        print(\"__iter__\")\n",
    "        return self\n",
    "\n",
    "    def __next__(self):\n",
    "        print(\"__next__\")\n",
    "        self.__i += 1\n",
    "        if self.__i > self.__n:\n",
    "            raise StopIteration\n",
    "        if self.__i in [1, 2]:\n",
    "            return 1\n",
    "        ret = self.__p1 + self.__p2\n",
    "        self.__p1, self.__p2 = self.__p2, ret\n",
    "        return ret\n",
    "\n",
    "\n",
    "for i in Fib(10):\n",
    "    print(i)\n"
   ]
  },
  {
   "cell_type": "markdown",
   "metadata": {},
   "source": [
    "The above protocol is rather inconvenient. \n",
    "\n",
    "* The main discomfort it brings is the **need to save the state of the iteration between subsequent `__iter__` invocations.**\n",
    "\n",
    "\n",
    "For example, the `Fib iterator` is forced to precisely store the place in which the last invocation has been stopped (i.e., the evaluated number and the values of the two previous elements).\n",
    "\n",
    "**This makes the code larger and less comprehensible.**"
   ]
  },
  {
   "cell_type": "markdown",
   "metadata": {},
   "source": [
    "### Yeild"
   ]
  },
  {
   "cell_type": "markdown",
   "metadata": {},
   "source": [
    "It's clear that the `for loop` **has no chance to finish its first execution, as the return will break it irrevocably.**\n",
    "\n",
    "\n",
    "* We can say that **such a function is not able to save and restore its state between subsequent invocations.**\n",
    "\n",
    "\n",
    "* This also means that a function like this **cannot be used as a generator.**\n",
    "\n"
   ]
  },
  {
   "cell_type": "code",
   "execution_count": null,
   "metadata": {},
   "outputs": [],
   "source": [
    "def fun(n):\n",
    "    for i in range(n):\n",
    "        return i\n",
    "\n",
    "for v in fun(5):\n",
    "    print(v)\n"
   ]
  },
  {
   "cell_type": "markdown",
   "metadata": {},
   "source": [
    " This little amendment turns the function into a generator, and executing the `yield` statement has some very interesting effects.\n",
    " \n",
    " \n",
    "* All the variables **values are frozen, and wait for the next invocation**, when the execution is resumed (not taken from scratch, like after return).\n",
    "\n",
    "\n",
    "* Such a **function should not be invoked explicitly** as - in fact - `it isn't a function anymore`; **it's a generator object.**"
   ]
  },
  {
   "cell_type": "code",
   "execution_count": null,
   "metadata": {},
   "outputs": [],
   "source": [
    "def fun(n):\n",
    "    for i in range(n):\n",
    "        yield i\n",
    "\n",
    "fun(5)        \n",
    "        \n",
    "for v in fun(5):\n",
    "    print(v)\n"
   ]
  },
  {
   "cell_type": "code",
   "execution_count": null,
   "metadata": {},
   "outputs": [],
   "source": [
    "def powers_of_2(n):\n",
    "    power = 1\n",
    "    for i in range(n):\n",
    "        yield power    # If you put it below it will start at 2 and end at 256\n",
    "        power *= 2\n",
    "\n",
    "\n",
    "for v in powers_of_2(8):\n",
    "    print(v)"
   ]
  },
  {
   "cell_type": "code",
   "execution_count": null,
   "metadata": {},
   "outputs": [],
   "source": [
    "t = [x for x in powers_of_2(8)]\n",
    "print(t)\n"
   ]
  },
  {
   "cell_type": "code",
   "execution_count": null,
   "metadata": {},
   "outputs": [],
   "source": [
    "t = list(powers_of_2(8))\n",
    "print(t)\n"
   ]
  },
  {
   "cell_type": "code",
   "execution_count": null,
   "metadata": {},
   "outputs": [],
   "source": [
    "def fibonacci(n):\n",
    "    p = pp = 1\n",
    "    for i in range(n):\n",
    "        if i in [0, 1]:\n",
    "            yield 1\n",
    "        else:\n",
    "            n = p + pp\n",
    "            pp, p = p, n\n",
    "            yield n\n",
    "\n",
    "fibs = list(fibonacci(10))\n",
    "print(fibs)\n",
    "\n"
   ]
  },
  {
   "cell_type": "markdown",
   "metadata": {},
   "source": [
    "### List Comprehension "
   ]
  },
  {
   "cell_type": "markdown",
   "metadata": {},
   "source": [
    "A simple and very impressive way of creating lists and their contents."
   ]
  },
  {
   "cell_type": "code",
   "execution_count": null,
   "metadata": {},
   "outputs": [],
   "source": [
    "list_1 = []\n",
    "\n",
    "for ex in range(6):\n",
    "    list_1.append(10 ** ex)\n",
    "    \n",
    "print(list_1)"
   ]
  },
  {
   "cell_type": "code",
   "execution_count": null,
   "metadata": {},
   "outputs": [],
   "source": [
    "list_2 = [10 ** ex for ex in range(6)]\n",
    "print(list_2)"
   ]
  },
  {
   "cell_type": "code",
   "execution_count": null,
   "metadata": {},
   "outputs": [],
   "source": [
    "the_list = []\n",
    "\n",
    "for x in range(10):\n",
    "    the_list.append(1 if x % 2 == 0 else 0)\n",
    "\n",
    "print(the_list)\n"
   ]
  },
  {
   "cell_type": "code",
   "execution_count": null,
   "metadata": {
    "scrolled": true
   },
   "outputs": [],
   "source": [
    "the_list = [1 if x % 2 == 0 else 0 for x in range(10)]\n",
    "\n",
    "print(the_list)\n"
   ]
  },
  {
   "cell_type": "markdown",
   "metadata": {},
   "source": [
    "#### Difference between List Comprehension and Generator\n",
    "\n",
    "It is the **`parentheses`** which make a list comprehention into a generator."
   ]
  },
  {
   "cell_type": "code",
   "execution_count": 4,
   "metadata": {
    "scrolled": true
   },
   "outputs": [
    {
     "name": "stdout",
     "output_type": "stream",
     "text": [
      "[1, 0, 1, 0]\n"
     ]
    }
   ],
   "source": [
    "the_list = [1 if x % 2 == 0 else 0 for x in range(4)]  # Square bracker\n",
    "print(the_list)\n",
    "\n",
    "#for v in the_list:\n",
    "#    print(v, end=\" \")\n",
    "#print()\n",
    "\n",
    "#len(the_list)"
   ]
  },
  {
   "cell_type": "code",
   "execution_count": 6,
   "metadata": {},
   "outputs": [
    {
     "name": "stdout",
     "output_type": "stream",
     "text": [
      "1 0 1 0 1 0 1 0 1 0 \n"
     ]
    }
   ],
   "source": [
    "the_generator = (1 if x % 2 == 0 else 0 for x in range(10)) ### Round Brackets\n",
    "\n",
    "for v in the_generator:\n",
    "    print(v, end=\" \")\n",
    "print()\n",
    "\n",
    "#len(the_generator)  ## This will give you an error"
   ]
  },
  {
   "cell_type": "markdown",
   "metadata": {},
   "source": [
    "**You dont need to save the lists of generators you can make them and use them on the fly:**"
   ]
  },
  {
   "cell_type": "code",
   "execution_count": null,
   "metadata": {},
   "outputs": [],
   "source": [
    "for v in [1 if x % 2 == 0 else 0 for x in range(10)]:\n",
    "    print(v, end=\" \")\n",
    "print()\n",
    "\n",
    "for v in (1 if x % 2 == 0 else 0 for x in range(10)):\n",
    "    print(v, end=\" \")\n",
    "print()\n",
    "\n"
   ]
  }
 ],
 "metadata": {
  "kernelspec": {
   "display_name": "Python 3",
   "language": "python",
   "name": "python3"
  },
  "language_info": {
   "codemirror_mode": {
    "name": "ipython",
    "version": 3
   },
   "file_extension": ".py",
   "mimetype": "text/x-python",
   "name": "python",
   "nbconvert_exporter": "python",
   "pygments_lexer": "ipython3",
   "version": "3.7.6"
  }
 },
 "nbformat": 4,
 "nbformat_minor": 4
}
