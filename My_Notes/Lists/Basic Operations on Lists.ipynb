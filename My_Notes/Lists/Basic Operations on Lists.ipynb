{
 "cells": [
  {
   "cell_type": "markdown",
   "metadata": {},
   "source": [
    "## Operations on Lists"
   ]
  },
  {
   "cell_type": "markdown",
   "metadata": {},
   "source": [
    "### Memory Location (VERY IMP)"
   ]
  },
  {
   "cell_type": "markdown",
   "metadata": {},
   "source": [
    "* **The name of a list `list_ak` is the name of the `memory location where the list is stored`**. \n",
    "<br>\n",
    "\n",
    "* So when we `list_aish = list_ak` we copying the **memory location which represents the list_ak**\n",
    "<br>\n",
    "\n",
    "* Therefore, if you make a change to the `list_ak` it will also be reflected in `list_aish` as list_aish is just pointing to the memory location of the contents of list_ak"
   ]
  },
  {
   "cell_type": "code",
   "execution_count": 28,
   "metadata": {
    "scrolled": true
   },
   "outputs": [
    {
     "name": "stdout",
     "output_type": "stream",
     "text": [
      "List_AK:  [1, 8, 6, 23, 5, 23, 56, 23, 56, 23, 86]\n",
      "\n",
      "list_aish = list_ak\n",
      "\n",
      "We modified List_AK:  [2222222, 8, 6, 23, 5, 23, 56, 23, 56, 23, 86]\n",
      "\n",
      "List_AISH:  [2222222, 8, 6, 23, 5, 23, 56, 23, 56, 23, 86]\n"
     ]
    }
   ],
   "source": [
    "list_ak = [1,8,6,23,5,23,56,23,56,23,86]\n",
    "print('List_AK: ', list_ak)\n",
    "list_aish = list_ak\n",
    "print('\\nlist_aish = list_ak')\n",
    "list_ak[0] = 2222222\n",
    "print('\\nWe modified List_AK: ', list_ak)\n",
    "print('\\nList_AISH: ', list_aish)"
   ]
  },
  {
   "cell_type": "markdown",
   "metadata": {},
   "source": [
    "### Slice"
   ]
  },
  {
   "cell_type": "markdown",
   "metadata": {},
   "source": [
    "#### Full Slice"
   ]
  },
  {
   "cell_type": "markdown",
   "metadata": {},
   "source": [
    "* `slice` will allow you to make a brand new copy of a list or parts of a list \n",
    "<br>\n",
    "\n",
    "* It actualyl copies the **list's contents and not the memory location like above**\n",
    "<br>"
   ]
  },
  {
   "cell_type": "code",
   "execution_count": 1,
   "metadata": {
    "scrolled": true
   },
   "outputs": [
    {
     "name": "stdout",
     "output_type": "stream",
     "text": [
      "List_AK:  [1111111, 8, 6, 23, 5, 23, 56, 23, 56, 23, 86]\n",
      "\n",
      "list_aish = list_ak[:]\n",
      "\n",
      "We modified_AK:  [22222222, 8, 6, 23, 5, 23, 56, 23, 56, 23, 86]\n",
      "\n",
      "List_AISH:  [1111111, 8, 6, 23, 5, 23, 56, 23, 56, 23, 86]\n"
     ]
    }
   ],
   "source": [
    "# Copying the entire list.\n",
    "list_ak = [1111111,8,6,23,5,23,56,23,56,23,86]\n",
    "print('List_AK: ', list_ak)\n",
    "list_aish = list_ak[:]\n",
    "print('\\nlist_aish = list_ak[:]')\n",
    "list_ak[0] = 22222222\n",
    "print('\\nWe modified_AK: ', list_ak)\n",
    "print('\\nList_AISH: ', list_aish)"
   ]
  },
  {
   "cell_type": "markdown",
   "metadata": {},
   "source": [
    "#### Partial Slice"
   ]
  },
  {
   "cell_type": "markdown",
   "metadata": {},
   "source": [
    "**PARTIAL SLICE = `end -start`** Ex: `my_list[2:8] = ` (2-8) = 6 elements with the **indices 2 to 7 NOT 8** <br>\n",
    " <br>\n",
    " \n",
    " `[2:8] = [start:end] `\n",
    " * `start = ` Index of the **1st element included** in the slice \n",
    " <br>\n",
    " \n",
    " * `end = ` Index of the **element NOT** included in the slice"
   ]
  },
  {
   "cell_type": "code",
   "execution_count": 27,
   "metadata": {
    "scrolled": true
   },
   "outputs": [
    {
     "name": "stdout",
     "output_type": "stream",
     "text": [
      "Original List:  [1111111, 8, 6, 23, 5, 28, 6, 243, 356, 2398, 86]\n",
      "\n",
      "Partially Copied List [2:8] [6, 23, 5, 28, 6, 243]\n",
      "\n",
      "Partially Copied List [2:-1] [6, 23, 5, 28, 6, 243, 356, 2398]\n",
      "\n",
      "Partially Copied List [:5] or [0:5] [1111111, 8, 6, 23, 5]\n",
      "\n",
      "Partially Copied List [3:] or [3:len(my_list)] [23, 5, 28, 6, 243, 356, 2398, 86]\n"
     ]
    }
   ],
   "source": [
    "# Copying some part of the list.\n",
    "my_list = [1111111,8,6,23,5,28,6,243,356,2398,86]\n",
    "print('Original List: ',my_list)\n",
    "new_list = my_list[2:8]\n",
    "print('\\nPartially Copied List [2:8]',new_list)\n",
    "new_list = my_list[2:-1]\n",
    "print('\\nPartially Copied List [2:-1]',new_list)\n",
    "new_list = my_list[:5]\n",
    "print('\\nPartially Copied List [:5] or [0:5]',new_list, 'Here you see the 5th Element is not selected')\n",
    "new_list = my_list[3:]\n"
   ]
  },
  {
   "cell_type": "markdown",
   "metadata": {},
   "source": [
    "#### Delete Partial Slice"
   ]
  },
  {
   "cell_type": "code",
   "execution_count": 40,
   "metadata": {
    "scrolled": true
   },
   "outputs": [
    {
     "name": "stdout",
     "output_type": "stream",
     "text": [
      "Original List:  [1111111, 8, 6, 23, 5, 28, 6, 243, 356, 2398, 86]\n",
      "\n",
      "Deleted Slice [1:4] [1111111, 5, 28, 6, 243, 356, 2398, 86]\n",
      "\n",
      "Deleted Slice [0] [5, 28, 6, 243, 356, 2398, 86]\n"
     ]
    }
   ],
   "source": [
    "# Deleteing some part of the list.\n",
    "my_list = [1111111,8,6,23,5,28,6,243,356,2398,86]\n",
    "print('Original List: ',my_list)\n",
    "del my_list [1:4]\n",
    "print('\\nDeleted Slice [1:4]',my_list)\n",
    "del my_list [0]\n",
    "print('\\nDeleted Slice [0]',my_list,'Deletes the 0th index')"
   ]
  },
  {
   "cell_type": "markdown",
   "metadata": {},
   "source": [
    "#### Delete All Contents of the List"
   ]
  },
  {
   "cell_type": "code",
   "execution_count": 31,
   "metadata": {
    "scrolled": true
   },
   "outputs": [
    {
     "name": "stdout",
     "output_type": "stream",
     "text": [
      "Original List:  [1111111, 8, 6, 23, 5, 28, 6, 243, 356, 2398, 86]\n",
      "\n",
      "Delete the CONTENT OF THE LIST [:] []\n"
     ]
    }
   ],
   "source": [
    "my_list = [1111111,8,6,23,5,28,6,243,356,2398,86]\n",
    "print('Original List: ',my_list)\n",
    "del my_list [:]\n",
    "print('\\nDelete the CONTENT OF THE LIST [:]',my_list)"
   ]
  },
  {
   "cell_type": "markdown",
   "metadata": {},
   "source": [
    "#### Delete List name (This does not delete the contents of the list)"
   ]
  },
  {
   "cell_type": "code",
   "execution_count": 32,
   "metadata": {
    "scrolled": true
   },
   "outputs": [
    {
     "name": "stdout",
     "output_type": "stream",
     "text": [
      "Original List:  [1111111, 8, 6, 23, 5, 28, 6, 243, 356, 2398, 86]\n"
     ]
    },
    {
     "ename": "NameError",
     "evalue": "name 'my_list' is not defined",
     "output_type": "error",
     "traceback": [
      "\u001b[1;31m---------------------------------------------------------------------------\u001b[0m",
      "\u001b[1;31mNameError\u001b[0m                                 Traceback (most recent call last)",
      "\u001b[1;32m<ipython-input-32-5f5c9306adec>\u001b[0m in \u001b[0;36m<module>\u001b[1;34m\u001b[0m\n\u001b[0;32m      2\u001b[0m \u001b[0mprint\u001b[0m\u001b[1;33m(\u001b[0m\u001b[1;34m'Original List: '\u001b[0m\u001b[1;33m,\u001b[0m\u001b[0mmy_list\u001b[0m\u001b[1;33m)\u001b[0m\u001b[1;33m\u001b[0m\u001b[1;33m\u001b[0m\u001b[0m\n\u001b[0;32m      3\u001b[0m \u001b[1;32mdel\u001b[0m \u001b[0mmy_list\u001b[0m\u001b[1;33m\u001b[0m\u001b[1;33m\u001b[0m\u001b[0m\n\u001b[1;32m----> 4\u001b[1;33m \u001b[0mprint\u001b[0m\u001b[1;33m(\u001b[0m\u001b[1;34m'\\nDelete the list_name'\u001b[0m\u001b[1;33m,\u001b[0m\u001b[0mmy_list\u001b[0m\u001b[1;33m)\u001b[0m\u001b[1;33m\u001b[0m\u001b[1;33m\u001b[0m\u001b[0m\n\u001b[0m",
      "\u001b[1;31mNameError\u001b[0m: name 'my_list' is not defined"
     ]
    }
   ],
   "source": [
    "my_list = [1111111,8,6,23,5,28,6,243,356,2398,86]\n",
    "print('Original List: ',my_list)\n",
    "del my_list\n",
    "print('\\nDelete the list_name',my_list)"
   ]
  },
  {
   "cell_type": "markdown",
   "metadata": {},
   "source": [
    "### in and not in  "
   ]
  },
  {
   "cell_type": "markdown",
   "metadata": {},
   "source": [
    "To be able to check whether a specific value is stored in a list or not.<br>\n",
    "<br>\n",
    "* `value in list_name` \n",
    "<br>\n",
    "\n",
    "* `value not in list_name` \n",
    "<br>"
   ]
  },
  {
   "cell_type": "code",
   "execution_count": 35,
   "metadata": {},
   "outputs": [
    {
     "name": "stdout",
     "output_type": "stream",
     "text": [
      "True\n",
      "True\n",
      "False\n"
     ]
    }
   ],
   "source": [
    "my_list = [0, 3, 12, 8, 2 , 11111, 3241, 534, 89, 235, 68]\n",
    "\n",
    "print(11111 in my_list)\n",
    "print(5 not in my_list)\n",
    "print(5234 in my_list)"
   ]
  }
 ],
 "metadata": {
  "kernelspec": {
   "display_name": "Python 3",
   "language": "python",
   "name": "python3"
  },
  "language_info": {
   "codemirror_mode": {
    "name": "ipython",
    "version": 3
   },
   "file_extension": ".py",
   "mimetype": "text/x-python",
   "name": "python",
   "nbconvert_exporter": "python",
   "pygments_lexer": "ipython3",
   "version": "3.7.6"
  }
 },
 "nbformat": 4,
 "nbformat_minor": 4
}
