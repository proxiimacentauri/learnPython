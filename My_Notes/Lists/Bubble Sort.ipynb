{
 "cells": [
  {
   "cell_type": "markdown",
   "metadata": {},
   "source": [
    "## BUBBLE SORT"
   ]
  },
  {
   "cell_type": "markdown",
   "metadata": {},
   "source": [
    "* `len(make_asc) = 17` \n",
    "* `len((make_asc)-1) = 16` We want to decrease this because when we want to compare the last 2 elements. **16th and 17th elements**, for that i = 16 and i+1 = 17, therefore we need to decrease it, other wise it will be out of bounds.\n",
    "\n",
    "* `for i in range(len(make_asc)-1)` here the value of i = 0,1,2...16, **The for loop will not end until it completes all its 16 setps*\n",
    "* `while swap:` This while loop is required so that the swapping keeps happening until the whole list is sorted.\n",
    "    + After all the 16 iterations of the for loop are done, it will exit for loop and check the `while loop`\n",
    "    + The entire list doesnt get sorted in the 16 itrations of the for loop it needs to be repeated again.\n",
    "    + At least once the swap in the list is performed hence the `swap=True` and again the for loop will run its 16 iterations.\n",
    "    + Only when the list is sorted and no swap needs to be made the while loop will exit."
   ]
  },
  {
   "cell_type": "markdown",
   "metadata": {},
   "source": [
    "### Ascending"
   ]
  },
  {
   "cell_type": "code",
   "execution_count": 3,
   "metadata": {},
   "outputs": [
    {
     "name": "stdout",
     "output_type": "stream",
     "text": [
      "Unsorted List: [65, 8, 5, 6, 1, 86, 21, 786, 123, 4, 2, 53, 53, 42, 12, 78679, 45]\n",
      "Sorted List: [1, 2, 4, 5, 6, 8, 12, 21, 42, 45, 53, 53, 65, 86, 123, 786, 78679]\n"
     ]
    }
   ],
   "source": [
    "make_asc=[65,8,5,6,1,86,21,786,123,4,2,53,53,42,12,78679,45]\n",
    "print('Unsorted List:', make_asc)\n",
    "swap=True\n",
    "while swap:\n",
    "    swap=False\n",
    "    for i in range(len(make_asc)-1):   # here i = 0,1,2,3...(17-1)\n",
    "        if make_asc[i] > make_asc[i+1]:\n",
    "            make_asc[i], make_asc[i+1] = make_asc[i+1], make_asc[i]\n",
    "            swap = True\n",
    "            \n",
    "print('Sorted List:', make_asc)"
   ]
  },
  {
   "cell_type": "markdown",
   "metadata": {},
   "source": [
    "### Descending"
   ]
  },
  {
   "cell_type": "code",
   "execution_count": 4,
   "metadata": {},
   "outputs": [
    {
     "name": "stdout",
     "output_type": "stream",
     "text": [
      "Unsorted List: [65, 8, 5, 6, 1, 86, 21, 786, 123, 4, 2, 53, 53, 42, 12, 78679, 45]\n",
      "Sorted List: [78679, 786, 123, 86, 65, 53, 53, 45, 42, 21, 12, 8, 6, 5, 4, 2, 1]\n"
     ]
    }
   ],
   "source": [
    "make_dsc=[65,8,5,6,1,86,21,786,123,4,2,53,53,42,12,78679,45]\n",
    "print('Unsorted List:', make_dsc)\n",
    "swap=True\n",
    "while swap:\n",
    "    swap=False\n",
    "    for i in range(len(make_dsc)-1):   # here i = 0,1,2,3...(17-1)\n",
    "        if make_dsc[i] < make_dsc[i+1]:\n",
    "            make_dsc[i], make_dsc[i+1] = make_dsc[i+1], make_dsc[i]\n",
    "            swap = True\n",
    "            \n",
    "print('Sorted List:', make_dsc)"
   ]
  },
  {
   "cell_type": "markdown",
   "metadata": {},
   "source": [
    "### Pythons In-Built Version"
   ]
  },
  {
   "cell_type": "code",
   "execution_count": 9,
   "metadata": {},
   "outputs": [
    {
     "name": "stdout",
     "output_type": "stream",
     "text": [
      "Unsorted List: [65, 8, 5, 6, 1, 86, 21, 786, 123, 4, 2, 53, 53, 42, 12, 78679, 45]\n",
      "Sorted List: [1, 2, 4, 5, 6, 8, 12, 21, 42, 45, 53, 53, 65, 86, 123, 786, 78679]\n",
      "Reverse-Sorted List: [78679, 786, 123, 86, 65, 53, 53, 45, 42, 21, 12, 8, 6, 5, 4, 2, 1]\n"
     ]
    }
   ],
   "source": [
    "my_list = [65,8,5,6,1,86,21,786,123,4,2,53,53,42,12,78679,45]\n",
    "print('Unsorted List:',my_list)\n",
    "my_list.sort()\n",
    "print('Sorted List:', my_list)\n",
    "my_list.reverse()\n",
    "print('Reverse-Sorted List:', my_list)\n"
   ]
  },
  {
   "cell_type": "markdown",
   "metadata": {},
   "source": [
    "### Accepting an Array from the User"
   ]
  },
  {
   "cell_type": "code",
   "execution_count": 8,
   "metadata": {},
   "outputs": [
    {
     "name": "stdout",
     "output_type": "stream",
     "text": [
      "Enter the no of elements to be sorted: 3\n",
      "Enter the elements of the list: 1\n",
      "Enter the elements of the list: 2\n",
      "Enter the elements of the list: 3\n",
      "This is the list:  [1.0, 2.0, 3.0]\n"
     ]
    }
   ],
   "source": [
    "len_list=int(input('Enter the no of elements to be sorted: '))\n",
    "my_list=[]\n",
    "for i in range(len_list):\n",
    "    ele=float(input('Enter the elements of the list: '))\n",
    "    my_list.append(ele)\n",
    "\n",
    "print('This is the list: ', my_list)"
   ]
  },
  {
   "cell_type": "markdown",
   "metadata": {},
   "source": [
    "### TRICKY"
   ]
  },
  {
   "cell_type": "code",
   "execution_count": 10,
   "metadata": {},
   "outputs": [
    {
     "name": "stdout",
     "output_type": "stream",
     "text": [
      "[' ', 'C', 'B', 'A']\n"
     ]
    }
   ],
   "source": [
    "a = \"A\"\n",
    "b = \"B\"\n",
    "c = \"C\"\n",
    "d = \" \"\n",
    "\n",
    "lst = [a, b, c, d]\n",
    "lst.reverse()\n",
    "\n",
    "print(lst)"
   ]
  }
 ],
 "metadata": {
  "kernelspec": {
   "display_name": "Python 3",
   "language": "python",
   "name": "python3"
  },
  "language_info": {
   "codemirror_mode": {
    "name": "ipython",
    "version": 3
   },
   "file_extension": ".py",
   "mimetype": "text/x-python",
   "name": "python",
   "nbconvert_exporter": "python",
   "pygments_lexer": "ipython3",
   "version": "3.7.6"
  }
 },
 "nbformat": 4,
 "nbformat_minor": 4
}
