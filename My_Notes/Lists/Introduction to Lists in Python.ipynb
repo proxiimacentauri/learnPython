{
 "cells": [
  {
   "cell_type": "markdown",
   "metadata": {},
   "source": [
    "## LISTS"
   ]
  },
  {
   "cell_type": "markdown",
   "metadata": {},
   "source": [
    "`list = ` it is a collection of element, but each element is a scalar\n",
    "<br>\n",
    "<br>\n",
    "Scalar = A variable that can only hold 1 value at a time. <br>\n",
    "<br>\n",
    "`Python` has a convention stating that the `elements in the lists are always numbered starting from 0`.<br>\n",
    "<br>"
   ]
  },
  {
   "cell_type": "markdown",
   "metadata": {},
   "source": [
    "### Indexing\n",
    "\n",
    "`index =` The value inside the brackers which selects 1 element of the list is called an index\n",
    "\n",
    "In the below example indices are litrals but **can be any expression**, these values are fixed at runtime."
   ]
  },
  {
   "cell_type": "code",
   "execution_count": 16,
   "metadata": {
    "scrolled": true
   },
   "outputs": [
    {
     "name": "stdout",
     "output_type": "stream",
     "text": [
      "Original list content: [10, 5, 7, 289, 100]\n",
      "\n",
      "Previous list content: [111, 5, 7, 289, 100]\n",
      "\n",
      "New list content: [111, 100, 7, 289, 100]\n"
     ]
    }
   ],
   "source": [
    "numbers = [10, 5, 7, 289, 100]\n",
    "print(\"Original list content:\", numbers)  # Printing original list content.\n",
    "\n",
    "numbers[0] = 111\n",
    "print(\"\\nPrevious list content:\", numbers)  # Printing previous list content.\n",
    "\n",
    "numbers[1] = numbers[4]  # Copying value of the fifth element to the second.\n",
    "print(\"\\nNew list content:\", numbers)  # Printing current list content.\n"
   ]
  },
  {
   "cell_type": "markdown",
   "metadata": {},
   "source": [
    "#### Negative Indices are Legal\n",
    "\n",
    "`[-1] = ` Last one in the list <br>\n",
    "`[-2] = ` One before last in the list"
   ]
  },
  {
   "cell_type": "code",
   "execution_count": 17,
   "metadata": {},
   "outputs": [
    {
     "name": "stdout",
     "output_type": "stream",
     "text": [
      "100\n",
      "289\n"
     ]
    }
   ],
   "source": [
    "print(numbers[-1])\n",
    "print(numbers[-2])"
   ]
  },
  {
   "cell_type": "markdown",
   "metadata": {},
   "source": [
    "### Accessing list content\n",
    "\n",
    "* Print whole list `print(numbers)`\n",
    "* Print indivisual elements `print(numbers[4])`\n",
    "<br>\n",
    "<br>\n",
    "\n",
    "#### The len() function\n",
    "\n",
    "If you want to check the `current lenght of the list`, it takes the `name_of_list` as an **argument** and **returns** the `number of elements stored inside the list`"
   ]
  },
  {
   "cell_type": "code",
   "execution_count": 18,
   "metadata": {
    "scrolled": true
   },
   "outputs": [
    {
     "name": "stdout",
     "output_type": "stream",
     "text": [
      "Original list content: [10, 5, 7, 2, 1]\n",
      "\n",
      "Previous list content: [111, 5, 7, 2, 1]\n",
      "\n",
      "Previous list content: [111, 1, 7, 2, 1]\n",
      "\n",
      "List length: 5\n"
     ]
    }
   ],
   "source": [
    "numbers = [10, 5, 7, 2, 1]\n",
    "print(\"Original list content:\", numbers)  # Printing original list content.\n",
    "\n",
    "numbers[0] = 111\n",
    "print(\"\\nPrevious list content:\", numbers)  # Printing previous list content.\n",
    "\n",
    "numbers[1] = numbers[4]  # Copying value of the fifth element to the second.\n",
    "print(\"\\nPrevious list content:\", numbers)  # Printing previous list content.\n",
    "\n",
    "print(\"\\nList length:\", len(numbers))  # Printing the list's length.\n"
   ]
  },
  {
   "cell_type": "markdown",
   "metadata": {},
   "source": [
    "### Removing Elements from List\n",
    "\n",
    "`del ` is an **instruction** and not a function. <br>\n",
    "<br>\n",
    "We have to **point** to the element to be removed, it will be removed and the lenght decreases by 1.\n",
    "\n",
    "\n",
    "In the below example indices are litrals but **can be any expression**, these values are fixed at runtime."
   ]
  },
  {
   "cell_type": "code",
   "execution_count": 19,
   "metadata": {},
   "outputs": [
    {
     "name": "stdout",
     "output_type": "stream",
     "text": [
      "New list's length: 4\n",
      "\n",
      "New list content: [111, 7, 2, 1]\n"
     ]
    }
   ],
   "source": [
    "del numbers[1]  # Removing the second element from the list.\n",
    "print(\"New list's length:\", len(numbers))  # Printing new list length.\n",
    "print(\"\\nNew list content:\", numbers)  # Printing current list content."
   ]
  },
  {
   "cell_type": "markdown",
   "metadata": {},
   "source": [
    "Once the element is removed the lenght is decreased by 1, we can no longer **increase the length back to original**. <br>\n",
    "<br>\n",
    "If we try to do that it will give a runtimeerror"
   ]
  },
  {
   "cell_type": "code",
   "execution_count": 20,
   "metadata": {},
   "outputs": [],
   "source": [
    "#numbers[4] = 1\n",
    "#print(numbers[4])"
   ]
  },
  {
   "cell_type": "markdown",
   "metadata": {},
   "source": [
    "#### Example:"
   ]
  },
  {
   "cell_type": "code",
   "execution_count": 22,
   "metadata": {},
   "outputs": [
    {
     "name": "stdout",
     "output_type": "stream",
     "text": [
      "Please enter a number: 7\n",
      "4\n",
      "[1, 2, 7, 4]\n"
     ]
    }
   ],
   "source": [
    "hat_list = [1, 2, 3, 4, 5]  # This is an existing list of numbers hidden in the hat.\n",
    "n=int(input('Please enter a number: '))\n",
    "hat_list[2]=n\n",
    "del hat_list[4]\n",
    "print(len(hat_list))\n",
    "print(hat_list)"
   ]
  },
  {
   "cell_type": "markdown",
   "metadata": {},
   "source": [
    "## Functions VS Methods"
   ]
  },
  {
   "cell_type": "markdown",
   "metadata": {},
   "source": [
    "Fucntion | Method\n",
    ":----------------------------|:----------------------------\n",
    "1. A function takes an argument, does something, and returns a result  | 1. The method will behave like a function, but it can **change the internal state of the data** from which it has been invoked\n",
    "2. It does not belong to any data its owned by the **whole code**.    |  2.   It is owned by the **data it works for**.\n",
    "3. It gets data, may create new data and generally produces a result.   |  3.   it behaves like a function, looks like a function, but **differs: way it acts and its invocation style**\n",
    "4. `result = function_name(arg_of_function)`     |  4.   `result = name_of_data.method_name(arg_of_method)`"
   ]
  },
  {
   "cell_type": "markdown",
   "metadata": {},
   "source": [
    "### Adding Elements to List append() & insert()\n",
    "\n",
    "`name_of_list.append(value) = ` A new element will be glued to the **end of** the existing list. [Length increases by 1]\n",
    "<br>\n",
    "\n",
    "`name_of_list.insert(location, value) = ` A new element will be added to the **desired place in the list**.\n",
    "<br>\n",
    "\n",
    "When we use `name_of_list.insert(2, 189) = ` it will **push the current 2nd element to 3rd position** and insert 2 in the 2nd position."
   ]
  },
  {
   "cell_type": "code",
   "execution_count": 24,
   "metadata": {
    "scrolled": true
   },
   "outputs": [
    {
     "name": "stdout",
     "output_type": "stream",
     "text": [
      "4\n",
      "[111, 7, 2, 1]\n",
      "5\n",
      "[111, 7, 2, 1, 4]\n",
      "6\n",
      "[222, 111, 7, 2, 1, 4]\n",
      "7\n",
      "[222, 333, 111, 7, 2, 1, 4]\n"
     ]
    }
   ],
   "source": [
    "numbers = [111, 7, 2, 1]\n",
    "print(len(numbers))\n",
    "print(numbers)\n",
    "numbers.append(4)\n",
    "print(len(numbers))\n",
    "print(numbers)\n",
    "numbers.insert(0, 222)\n",
    "print(len(numbers))\n",
    "print(numbers)\n",
    "numbers.insert(1, 333)\n",
    "print(len(numbers))\n",
    "print(numbers)\n"
   ]
  },
  {
   "cell_type": "markdown",
   "metadata": {},
   "source": [
    "### Creating Empty Lists and Adding Elements\n",
    "\n",
    "`name_of_list = []` This is a way to create an empty list.\n",
    "<br>"
   ]
  },
  {
   "cell_type": "code",
   "execution_count": 30,
   "metadata": {
    "scrolled": true
   },
   "outputs": [
    {
     "name": "stdout",
     "output_type": "stream",
     "text": [
      "[0, 10, 20, 30, 40, 50, 60]\n",
      "7\n",
      "[0, 10, 20, 30, 40, 50, 60]\n",
      "7\n"
     ]
    }
   ],
   "source": [
    "numbers=[]\n",
    "for i in range(7): # It will start with 0 and end at 6\n",
    "    numbers.insert(i,i*10) # location and value\n",
    "\n",
    "print(numbers)\n",
    "print(len(numbers))\n",
    "\n",
    "numbers=[]\n",
    "for i in range(7): # It will start with 0 and end at 6\n",
    "    numbers.append(i*10) #  value\n",
    "\n",
    "print(numbers)\n",
    "print(len(numbers))"
   ]
  },
  {
   "cell_type": "markdown",
   "metadata": {},
   "source": [
    "### For Loop to Operate on the List\n",
    "\n",
    "`for i in range(len(name_of_list)` <br>\n",
    "<br>\n",
    "\n",
    "* `len(name_of_list) = 14` First the length of the list is calculated\n",
    "* `range(14)` Then the range function will calcualte and assign values of **0 to 13 to var i**"
   ]
  },
  {
   "cell_type": "code",
   "execution_count": 32,
   "metadata": {},
   "outputs": [
    {
     "name": "stdout",
     "output_type": "stream",
     "text": [
      "1721\n"
     ]
    }
   ],
   "source": [
    "num = [1,3,89,3,894,654,23,54]\n",
    "total = 0\n",
    "for i in range(len(num)): # Now i = 0 ...13, this will act as a COUNTER    \n",
    "    total += num[i]\n",
    "\n",
    "print(total)"
   ]
  },
  {
   "cell_type": "markdown",
   "metadata": {},
   "source": [
    "`for i in name_of_list` <br>\n",
    "<br>\n",
    "\n",
    "* Here i itself will directly be assigned the values of the list"
   ]
  },
  {
   "cell_type": "code",
   "execution_count": 33,
   "metadata": {
    "scrolled": true
   },
   "outputs": [
    {
     "name": "stdout",
     "output_type": "stream",
     "text": [
      "1721\n"
     ]
    }
   ],
   "source": [
    "num = [1,3,89,3,894,654,23,54]\n",
    "total = 0\n",
    "for i in num: # Now i = 1,3,89,...54, this will act as a COUNTER    \n",
    "    total += i\n",
    "\n",
    "print(total)"
   ]
  },
  {
   "cell_type": "markdown",
   "metadata": {},
   "source": [
    "### Swapping \n",
    "\n",
    "`a, b = b, a` <br>\n",
    "<br>\n",
    "\n",
    "Python offers an elegant way to do the swapping."
   ]
  },
  {
   "cell_type": "code",
   "execution_count": 34,
   "metadata": {},
   "outputs": [
    {
     "name": "stdout",
     "output_type": "stream",
     "text": [
      "1456 22\n",
      "22 1456\n"
     ]
    }
   ],
   "source": [
    "a = 1456\n",
    "b = 22\n",
    "print(a,b)\n",
    "a, b = b, a\n",
    "print(a,b)"
   ]
  },
  {
   "cell_type": "markdown",
   "metadata": {},
   "source": [
    "### Swapping Reverse using Loop\n",
    "\n",
    "`for i in range(len(list)//2))` <br>\n",
    "<br>\n",
    "\n",
    "We are basically setting the counter for 1/2 the lenght of list: i = 0,1,2...(n/2)\n",
    "\n",
    "\n",
    "**NOTE:**\n",
    "* When using `len(list)` it will return the exact number of elements in the list\n",
    "* **REMEBER** if `len(list) = 16` then `list[15]` is the last element of the list, as it starts with 0."
   ]
  },
  {
   "cell_type": "code",
   "execution_count": 43,
   "metadata": {},
   "outputs": [
    {
     "name": "stdout",
     "output_type": "stream",
     "text": [
      "[0, 3, 1, 78, 8, 2, 753, 4123, 871, 2, 7153, 231, 87, 231, 745, 56]\n",
      "16\n",
      "56\n"
     ]
    }
   ],
   "source": [
    "num=[56,745,231,87,231,7153,2,871,4123,753,2,8,78,1,3,0]\n",
    "len_of_list=len(num)\n",
    "for i in range(len_of_list//2): # here i = 0,1,2,3...14\n",
    "    num[i], num[len_of_list-i-1] = num[len_of_list-i-1], num[i]\n",
    "\n",
    "print(num)\n",
    "print(len_of_list)\n",
    "print(num[15])"
   ]
  },
  {
   "cell_type": "markdown",
   "metadata": {},
   "source": [
    "### Example \n",
    "\n",
    "`bea =['John Lenon', 'Paul McCartney', 'George Harrison', 'Stu Sutcliffe', 'Pete Best']` <br>\n",
    "<br>\n",
    "\n",
    "If you want to delete the last 2 names:\n",
    "\n",
    "* First delete the last one: `del bea[4]`\n",
    "* Second delete the last one: `del bea[3]` this is because when you **delete the 4th element the len(list) decreases by 1.**"
   ]
  },
  {
   "cell_type": "code",
   "execution_count": 47,
   "metadata": {},
   "outputs": [
    {
     "name": "stdout",
     "output_type": "stream",
     "text": [
      "Step 1: []\n",
      "Step 2: ['John Lenon', 'Paul McCartney', 'George Harrison']\n",
      "Step 3: ['John Lenon', 'Paul McCartney', 'George Harrison', 'Stu Sutcliffe', 'Pete Best']\n",
      "Step 4: ['John Lenon', 'Paul McCartney', 'George Harrison']\n",
      "Step 5: ['John Lenon', 'Ringo Starr', 'Paul McCartney', 'George Harrison']\n",
      "The Fab 4\n"
     ]
    }
   ],
   "source": [
    "# step 1\n",
    "beatles=[]\n",
    "print(\"Step 1:\", beatles)\n",
    "\n",
    "# step 2\n",
    "beatles.append('John Lenon')\n",
    "beatles.append('Paul McCartney')\n",
    "beatles.append('George Harrison')\n",
    "print(\"Step 2:\", beatles)\n",
    "\n",
    "# step 3\n",
    "tem=['Stu Sutcliffe', 'Pete Best']\n",
    "for i in tem:\n",
    "    beatles.append(i)\n",
    "print(\"Step 3:\", beatles)\n",
    "\n",
    "# step 4\n",
    "del beatles[4]\n",
    "del beatles[3]\n",
    "print(\"Step 4:\", beatles)\n",
    "\n",
    "# step 5\n",
    "beatles.insert(1, 'Ringo Starr')\n",
    "print(\"Step 5:\", beatles)\n",
    "\n",
    "\n",
    "# testing list legth\n",
    "print(\"The Fab\", len(beatles))"
   ]
  },
  {
   "cell_type": "markdown",
   "metadata": {},
   "source": [
    "### TRICKY"
   ]
  },
  {
   "cell_type": "code",
   "execution_count": 49,
   "metadata": {},
   "outputs": [
    {
     "name": "stdout",
     "output_type": "stream",
     "text": [
      "[2, 3]\n",
      "Length of the list is: 3\n"
     ]
    }
   ],
   "source": [
    "lst = [1, [2, 3], 4]\n",
    "print(lst[1])\n",
    "print('Length of the list is:',len(lst))\n"
   ]
  }
 ],
 "metadata": {
  "kernelspec": {
   "display_name": "Python 3",
   "language": "python",
   "name": "python3"
  },
  "language_info": {
   "codemirror_mode": {
    "name": "ipython",
    "version": 3
   },
   "file_extension": ".py",
   "mimetype": "text/x-python",
   "name": "python",
   "nbconvert_exporter": "python",
   "pygments_lexer": "ipython3",
   "version": "3.7.6"
  }
 },
 "nbformat": 4,
 "nbformat_minor": 4
}
